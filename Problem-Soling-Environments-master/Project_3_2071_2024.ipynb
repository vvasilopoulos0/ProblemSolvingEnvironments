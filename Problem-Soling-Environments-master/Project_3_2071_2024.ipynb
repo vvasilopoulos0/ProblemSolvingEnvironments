{
 "cells": [
  {
   "cell_type": "markdown",
   "metadata": {},
   "source": [
    "<big>**<center>Project 3<br> Pavlos Logdanidis 2071 ,  Vasilopoulos Vasileios 2024<center>**<big>"
   ]
  },
  {
   "cell_type": "code",
   "execution_count": 91,
   "metadata": {
    "ExecuteTime": {
     "end_time": "2018-11-10T12:58:26.679386Z",
     "start_time": "2018-11-10T12:58:26.673402Z"
    }
   },
   "outputs": [],
   "source": [
    "%matplotlib inline\n",
    "from mpl_toolkits.mplot3d import Axes3D\n",
    "import numpy as np\n",
    "import matplotlib.pyplot as plt\n",
    "from sklearn.preprocessing import normalize\n",
    "from pandas import read_csv\n",
    "import pandas as pd"
   ]
  },
  {
   "cell_type": "code",
   "execution_count": 92,
   "metadata": {
    "ExecuteTime": {
     "end_time": "2018-11-10T12:58:28.950970Z",
     "start_time": "2018-11-10T12:58:28.903924Z"
    }
   },
   "outputs": [
    {
     "data": {
      "text/html": [
       "<div>\n",
       "<style scoped>\n",
       "    .dataframe tbody tr th:only-of-type {\n",
       "        vertical-align: middle;\n",
       "    }\n",
       "\n",
       "    .dataframe tbody tr th {\n",
       "        vertical-align: top;\n",
       "    }\n",
       "\n",
       "    .dataframe thead th {\n",
       "        text-align: right;\n",
       "    }\n",
       "</style>\n",
       "<table border=\"1\" class=\"dataframe\">\n",
       "  <thead>\n",
       "    <tr style=\"text-align: right;\">\n",
       "      <th></th>\n",
       "      <th>datetime</th>\n",
       "      <th>season</th>\n",
       "      <th>holiday</th>\n",
       "      <th>workingday</th>\n",
       "      <th>weather</th>\n",
       "      <th>temp</th>\n",
       "      <th>atemp</th>\n",
       "      <th>humidity</th>\n",
       "      <th>windspeed</th>\n",
       "      <th>casual</th>\n",
       "      <th>registered</th>\n",
       "      <th>count</th>\n",
       "    </tr>\n",
       "  </thead>\n",
       "  <tbody>\n",
       "    <tr>\n",
       "      <th>0</th>\n",
       "      <td>1/1/2011 0:00</td>\n",
       "      <td>1</td>\n",
       "      <td>0</td>\n",
       "      <td>0</td>\n",
       "      <td>1</td>\n",
       "      <td>9.84</td>\n",
       "      <td>14.395</td>\n",
       "      <td>81</td>\n",
       "      <td>0.0</td>\n",
       "      <td>3</td>\n",
       "      <td>13</td>\n",
       "      <td>16</td>\n",
       "    </tr>\n",
       "    <tr>\n",
       "      <th>1</th>\n",
       "      <td>1/1/2011 1:00</td>\n",
       "      <td>1</td>\n",
       "      <td>0</td>\n",
       "      <td>0</td>\n",
       "      <td>1</td>\n",
       "      <td>9.02</td>\n",
       "      <td>13.635</td>\n",
       "      <td>80</td>\n",
       "      <td>0.0</td>\n",
       "      <td>8</td>\n",
       "      <td>32</td>\n",
       "      <td>40</td>\n",
       "    </tr>\n",
       "    <tr>\n",
       "      <th>2</th>\n",
       "      <td>1/1/2011 2:00</td>\n",
       "      <td>1</td>\n",
       "      <td>0</td>\n",
       "      <td>0</td>\n",
       "      <td>1</td>\n",
       "      <td>9.02</td>\n",
       "      <td>13.635</td>\n",
       "      <td>80</td>\n",
       "      <td>0.0</td>\n",
       "      <td>5</td>\n",
       "      <td>27</td>\n",
       "      <td>32</td>\n",
       "    </tr>\n",
       "    <tr>\n",
       "      <th>3</th>\n",
       "      <td>1/1/2011 3:00</td>\n",
       "      <td>1</td>\n",
       "      <td>0</td>\n",
       "      <td>0</td>\n",
       "      <td>1</td>\n",
       "      <td>9.84</td>\n",
       "      <td>14.395</td>\n",
       "      <td>75</td>\n",
       "      <td>0.0</td>\n",
       "      <td>3</td>\n",
       "      <td>10</td>\n",
       "      <td>13</td>\n",
       "    </tr>\n",
       "    <tr>\n",
       "      <th>4</th>\n",
       "      <td>1/1/2011 4:00</td>\n",
       "      <td>1</td>\n",
       "      <td>0</td>\n",
       "      <td>0</td>\n",
       "      <td>1</td>\n",
       "      <td>9.84</td>\n",
       "      <td>14.395</td>\n",
       "      <td>75</td>\n",
       "      <td>0.0</td>\n",
       "      <td>0</td>\n",
       "      <td>1</td>\n",
       "      <td>1</td>\n",
       "    </tr>\n",
       "  </tbody>\n",
       "</table>\n",
       "</div>"
      ],
      "text/plain": [
       "        datetime  season  holiday  workingday  weather  temp   atemp  \\\n",
       "0  1/1/2011 0:00       1        0           0        1  9.84  14.395   \n",
       "1  1/1/2011 1:00       1        0           0        1  9.02  13.635   \n",
       "2  1/1/2011 2:00       1        0           0        1  9.02  13.635   \n",
       "3  1/1/2011 3:00       1        0           0        1  9.84  14.395   \n",
       "4  1/1/2011 4:00       1        0           0        1  9.84  14.395   \n",
       "\n",
       "   humidity  windspeed  casual  registered  count  \n",
       "0        81        0.0       3          13     16  \n",
       "1        80        0.0       8          32     40  \n",
       "2        80        0.0       5          27     32  \n",
       "3        75        0.0       3          10     13  \n",
       "4        75        0.0       0           1      1  "
      ]
     },
     "execution_count": 92,
     "metadata": {},
     "output_type": "execute_result"
    }
   ],
   "source": [
    "df=read_csv('bikeshare.csv')\n",
    "df.head()"
   ]
  },
  {
   "cell_type": "code",
   "execution_count": 93,
   "metadata": {
    "ExecuteTime": {
     "end_time": "2018-11-10T12:58:32.126402Z",
     "start_time": "2018-11-10T12:58:32.122413Z"
    }
   },
   "outputs": [
    {
     "data": {
      "text/plain": [
       "(10886, 12)"
      ]
     },
     "execution_count": 93,
     "metadata": {},
     "output_type": "execute_result"
    }
   ],
   "source": [
    "df.shape"
   ]
  },
  {
   "cell_type": "markdown",
   "metadata": {},
   "source": [
    "# Data preperation"
   ]
  },
  {
   "cell_type": "markdown",
   "metadata": {},
   "source": [
    "## Drop irrelevant columns"
   ]
  },
  {
   "cell_type": "code",
   "execution_count": 94,
   "metadata": {
    "ExecuteTime": {
     "end_time": "2018-11-10T13:02:24.654445Z",
     "start_time": "2018-11-10T13:02:24.649459Z"
    }
   },
   "outputs": [
    {
     "data": {
      "text/plain": [
       "(10886, 9)"
      ]
     },
     "execution_count": 94,
     "metadata": {},
     "output_type": "execute_result"
    }
   ],
   "source": [
    "#'datetime' is irrelevant in our opinion considering all the other features we have.Also we just want to predict the total\n",
    "#number of bikes so we drop features 'casual' and 'registerd' as well\n",
    "relevant=df.drop(['datetime','casual','registered'],axis=1)\n",
    "relevant.shape"
   ]
  },
  {
   "cell_type": "markdown",
   "metadata": {},
   "source": [
    "## Dummy variables"
   ]
  },
  {
   "cell_type": "code",
   "execution_count": 95,
   "metadata": {
    "ExecuteTime": {
     "end_time": "2018-11-10T13:04:05.590308Z",
     "start_time": "2018-11-10T13:04:05.582330Z"
    }
   },
   "outputs": [
    {
     "data": {
      "text/plain": [
       "(10886, 13)"
      ]
     },
     "execution_count": 95,
     "metadata": {},
     "output_type": "execute_result"
    }
   ],
   "source": [
    "#season and weather are nominal variables so we need to create dummy variables to represent them\n",
    "dummies = pd.get_dummies(relevant,drop_first =True,columns=['season','weather'])\n",
    "dummies.shape"
   ]
  },
  {
   "cell_type": "markdown",
   "metadata": {},
   "source": [
    "## Normalize data"
   ]
  },
  {
   "cell_type": "code",
   "execution_count": 96,
   "metadata": {
    "ExecuteTime": {
     "end_time": "2018-11-10T13:04:26.269004Z",
     "start_time": "2018-11-10T13:04:26.262001Z"
    }
   },
   "outputs": [],
   "source": [
    "data=dummies.values\n",
    "X=dummies.loc[:,dummies.columns!='count'].values\n",
    "Y=dummies.loc[:,dummies.columns=='count'].values\n",
    "X=normalize(X,axis=0)\n",
    "Y=normalize(Y,axis=0)"
   ]
  },
  {
   "cell_type": "markdown",
   "metadata": {},
   "source": [
    "# Hyperparameters"
   ]
  },
  {
   "cell_type": "code",
   "execution_count": 97,
   "metadata": {
    "ExecuteTime": {
     "end_time": "2018-11-10T13:04:28.687057Z",
     "start_time": "2018-11-10T13:04:28.684065Z"
    }
   },
   "outputs": [],
   "source": [
    "learning_rate = 0.09\n",
    "max_iteration = 500"
   ]
  },
  {
   "cell_type": "code",
   "execution_count": 98,
   "metadata": {
    "ExecuteTime": {
     "end_time": "2018-11-10T13:04:29.430092Z",
     "start_time": "2018-11-10T13:04:29.427099Z"
    }
   },
   "outputs": [],
   "source": [
    "s_learning_rate = 0.06\n",
    "s_max_iteration = 500"
   ]
  },
  {
   "cell_type": "code",
   "execution_count": 99,
   "metadata": {
    "ExecuteTime": {
     "end_time": "2018-11-10T13:04:30.072799Z",
     "start_time": "2018-11-10T13:04:30.069807Z"
    }
   },
   "outputs": [],
   "source": [
    "mb_learning_rate = 0.09\n",
    "mb_max_iteration = 500\n",
    "batch_size = 16"
   ]
  },
  {
   "cell_type": "markdown",
   "metadata": {},
   "source": [
    "# Parameters"
   ]
  },
  {
   "cell_type": "code",
   "execution_count": 100,
   "metadata": {
    "ExecuteTime": {
     "end_time": "2018-11-10T13:04:34.781831Z",
     "start_time": "2018-11-10T13:04:34.778839Z"
    }
   },
   "outputs": [],
   "source": [
    "theta = np.zeros((data.shape[1], 1))\n",
    "s_theta = np.zeros((data.shape[1], 1))\n",
    "mb_theta = np.zeros((data.shape[1], 1))"
   ]
  },
  {
   "cell_type": "markdown",
   "metadata": {},
   "source": [
    "## Hypothesis"
   ]
  },
  {
   "cell_type": "code",
   "execution_count": 101,
   "metadata": {
    "ExecuteTime": {
     "end_time": "2018-11-10T13:04:36.433062Z",
     "start_time": "2018-11-10T13:04:36.429052Z"
    }
   },
   "outputs": [],
   "source": [
    "def h (theta, X) :\n",
    "  tempX = np.ones((X.shape[0], X.shape[1] + 1))\n",
    "  tempX[:,1:] = X\n",
    "  return np.matmul(tempX, theta)"
   ]
  },
  {
   "cell_type": "markdown",
   "metadata": {},
   "source": [
    "# Loss Function"
   ]
  },
  {
   "cell_type": "code",
   "execution_count": 102,
   "metadata": {
    "ExecuteTime": {
     "end_time": "2018-11-10T13:04:39.906793Z",
     "start_time": "2018-11-10T13:04:39.903802Z"
    }
   },
   "outputs": [],
   "source": [
    "def loss (theta, X, Y) :\n",
    "  return np.average(np.square(Y - h(theta, X))) / 2"
   ]
  },
  {
   "cell_type": "markdown",
   "metadata": {},
   "source": [
    "# Calculate Gradients"
   ]
  },
  {
   "cell_type": "code",
   "execution_count": 103,
   "metadata": {
    "ExecuteTime": {
     "end_time": "2018-11-10T13:04:41.546927Z",
     "start_time": "2018-11-10T13:04:41.542939Z"
    }
   },
   "outputs": [],
   "source": [
    "def gradient (theta, X, Y) :\n",
    "  tempX = np.ones((X.shape[0], X.shape[1] + 1))\n",
    "  tempX[:,1:] = X\n",
    "  d_theta = - np.average((Y - h(theta, X)) * tempX, axis= 0)\n",
    "  d_theta = d_theta.reshape((d_theta.shape[0], 1))\n",
    "  return d_theta"
   ]
  },
  {
   "cell_type": "markdown",
   "metadata": {},
   "source": [
    "# Batch Gradient Descent"
   ]
  },
  {
   "cell_type": "code",
   "execution_count": 104,
   "metadata": {
    "ExecuteTime": {
     "end_time": "2018-11-10T13:04:43.991024Z",
     "start_time": "2018-11-10T13:04:43.987035Z"
    }
   },
   "outputs": [],
   "source": [
    "def gradient_descent (theta, X, Y, learning_rate, max_iteration, gap) :\n",
    "  cost = np.zeros(max_iteration)\n",
    "  for i in range(max_iteration) :\n",
    "    d_theta = gradient (theta, X, Y)\n",
    "    theta = theta - learning_rate * d_theta\n",
    "    cost[i] = loss(theta, X, Y)\n",
    "    if i % gap == 0 :\n",
    "      print ('iteration : ', i, ' loss : ', loss(theta, X, Y)) \n",
    "  return theta, cost"
   ]
  },
  {
   "cell_type": "markdown",
   "metadata": {},
   "source": [
    "# Mini-Batch Gradient Descent"
   ]
  },
  {
   "cell_type": "code",
   "execution_count": 105,
   "metadata": {
    "ExecuteTime": {
     "end_time": "2018-11-10T13:05:08.048271Z",
     "start_time": "2018-11-10T13:05:08.044283Z"
    }
   },
   "outputs": [],
   "source": [
    "def minibatch_gradient_descent (theta, X, Y, learning_rate, max_iteration, batch_size, gap) :\n",
    "  cost = np.zeros(max_iteration)\n",
    "  for i in range(max_iteration) :\n",
    "    for j in range(0, X.shape[0], batch_size):\n",
    "      d_theta = gradient (theta, X[j:j+batch_size,:], Y[j:j+batch_size,:])\n",
    "      theta = theta - learning_rate * d_theta\n",
    "    \n",
    "    cost[i] = loss(theta, X, Y)\n",
    "    if i % gap == 0 :\n",
    "      print ('iteration : ', i, ' loss : ', loss(theta, X, Y)) \n",
    "  return theta, cost"
   ]
  },
  {
   "cell_type": "markdown",
   "metadata": {},
   "source": [
    "# Stochastic Gradient Descent"
   ]
  },
  {
   "cell_type": "code",
   "execution_count": 106,
   "metadata": {
    "ExecuteTime": {
     "end_time": "2018-11-10T13:05:10.802735Z",
     "start_time": "2018-11-10T13:05:10.798724Z"
    }
   },
   "outputs": [],
   "source": [
    "def stochastic_gradient_descent (theta, X, Y, learning_rate, max_iteration, gap) :\n",
    "  cost = np.zeros(max_iteration)\n",
    "  for i in range(max_iteration) :\n",
    "    for j in range(X.shape[0]):\n",
    "      d_theta = gradient (theta, X[j,:].reshape(1, X.shape[1]), Y[j,:].reshape(1, 1))\n",
    "      theta = theta - learning_rate * d_theta\n",
    "    \n",
    "    cost[i] = loss(theta, X, Y)\n",
    "    if i % gap == 0 :\n",
    "      print ('iteration : ', i, ' loss : ', loss(theta, X, Y)) \n",
    "  return theta, cost"
   ]
  },
  {
   "cell_type": "markdown",
   "metadata": {},
   "source": [
    "# Train Model"
   ]
  },
  {
   "cell_type": "code",
   "execution_count": 107,
   "metadata": {
    "ExecuteTime": {
     "end_time": "2018-11-10T13:05:14.772584Z",
     "start_time": "2018-11-10T13:05:13.279575Z"
    }
   },
   "outputs": [
    {
     "name": "stdout",
     "output_type": "stream",
     "text": [
      "iteration :  0  loss :  4.1759762530032895e-05\n",
      "iteration :  100  loss :  2.1675867940191118e-05\n",
      "iteration :  200  loss :  2.1672931912099408e-05\n",
      "iteration :  300  loss :  2.1669998780675575e-05\n",
      "iteration :  400  loss :  2.1667068414251492e-05\n"
     ]
    }
   ],
   "source": [
    "theta_final, cost = gradient_descent (theta, X, Y, learning_rate, max_iteration, 100)"
   ]
  },
  {
   "cell_type": "code",
   "execution_count": 108,
   "metadata": {
    "ExecuteTime": {
     "end_time": "2018-11-10T13:07:09.228247Z",
     "start_time": "2018-11-10T13:05:23.220989Z"
    }
   },
   "outputs": [
    {
     "name": "stdout",
     "output_type": "stream",
     "text": [
      "iteration :  0  loss :  2.326990669728153e-05\n",
      "iteration :  100  loss :  2.055530230348636e-05\n",
      "iteration :  200  loss :  2.1045822692550395e-05\n",
      "iteration :  300  loss :  2.208224382624024e-05\n",
      "iteration :  400  loss :  2.314198764507716e-05\n"
     ]
    }
   ],
   "source": [
    "s_theta_final, s_cost = stochastic_gradient_descent (s_theta, X, Y, s_learning_rate, s_max_iteration, 100)"
   ]
  },
  {
   "cell_type": "code",
   "execution_count": 109,
   "metadata": {
    "ExecuteTime": {
     "end_time": "2018-11-10T13:07:19.671903Z",
     "start_time": "2018-11-10T13:07:12.345156Z"
    }
   },
   "outputs": [
    {
     "name": "stdout",
     "output_type": "stream",
     "text": [
      "iteration :  0  loss :  2.2148951761910148e-05\n",
      "iteration :  100  loss :  2.163094755083977e-05\n",
      "iteration :  200  loss :  2.1445529264407493e-05\n",
      "iteration :  300  loss :  2.1450281924578127e-05\n",
      "iteration :  400  loss :  2.1565010977533174e-05\n"
     ]
    }
   ],
   "source": [
    "mb_theta_final, mb_cost = minibatch_gradient_descent (mb_theta, X, Y, mb_learning_rate, mb_max_iteration, batch_size, 100)"
   ]
  },
  {
   "cell_type": "markdown",
   "metadata": {},
   "source": [
    "# Optimal values of Parameters using Trained Model"
   ]
  },
  {
   "cell_type": "code",
   "execution_count": 110,
   "metadata": {
    "ExecuteTime": {
     "end_time": "2018-11-10T13:07:22.309329Z",
     "start_time": "2018-11-10T13:07:22.305338Z"
    }
   },
   "outputs": [
    {
     "data": {
      "text/plain": [
       "array([[ 6.95381356e-03],\n",
       "       [-3.82314417e-06],\n",
       "       [ 7.35122369e-05],\n",
       "       [ 4.64357728e-04],\n",
       "       [ 4.35673699e-04],\n",
       "       [-2.03896615e-04],\n",
       "       [ 2.10897332e-04],\n",
       "       [ 2.19150072e-04],\n",
       "       [ 3.69169193e-04],\n",
       "       [ 9.20031776e-05],\n",
       "       [-6.68935476e-05],\n",
       "       [-3.01035718e-04],\n",
       "       [-3.48018165e-06]])"
      ]
     },
     "execution_count": 110,
     "metadata": {},
     "output_type": "execute_result"
    }
   ],
   "source": [
    "theta_final"
   ]
  },
  {
   "cell_type": "code",
   "execution_count": 111,
   "metadata": {
    "ExecuteTime": {
     "end_time": "2018-11-10T13:07:23.073061Z",
     "start_time": "2018-11-10T13:07:23.069072Z"
    }
   },
   "outputs": [
    {
     "data": {
      "text/plain": [
       "array([[ 0.00808687],\n",
       "       [ 0.00204697],\n",
       "       [ 0.05361457],\n",
       "       [ 0.43959181],\n",
       "       [ 0.40470544],\n",
       "       [-0.70194667],\n",
       "       [ 0.11604687],\n",
       "       [ 0.02713557],\n",
       "       [ 0.01458634],\n",
       "       [-0.01137632],\n",
       "       [ 0.00470641],\n",
       "       [-0.01154412],\n",
       "       [ 0.00512365]])"
      ]
     },
     "execution_count": 111,
     "metadata": {},
     "output_type": "execute_result"
    }
   ],
   "source": [
    "s_theta_final"
   ]
  },
  {
   "cell_type": "code",
   "execution_count": 112,
   "metadata": {
    "ExecuteTime": {
     "end_time": "2018-11-10T13:07:23.899495Z",
     "start_time": "2018-11-10T13:07:23.895505Z"
    }
   },
   "outputs": [
    {
     "data": {
      "text/plain": [
       "array([[ 0.00804021],\n",
       "       [-0.00464331],\n",
       "       [ 0.01159321],\n",
       "       [ 0.1173059 ],\n",
       "       [ 0.10941719],\n",
       "       [-0.14998025],\n",
       "       [ 0.0953681 ],\n",
       "       [ 0.03961171],\n",
       "       [ 0.00905495],\n",
       "       [-0.02781718],\n",
       "       [-0.02768182],\n",
       "       [-0.0665333 ],\n",
       "       [ 0.00174896]])"
      ]
     },
     "execution_count": 112,
     "metadata": {},
     "output_type": "execute_result"
    }
   ],
   "source": [
    "mb_theta_final"
   ]
  },
  {
   "cell_type": "code",
   "execution_count": 113,
   "metadata": {
    "ExecuteTime": {
     "end_time": "2018-11-10T13:07:26.159171Z",
     "start_time": "2018-11-10T13:07:26.068396Z"
    }
   },
   "outputs": [
    {
     "data": {
      "image/png": "[encoded data removed]",
      "text/plain": [
       "<Figure size 432x288 with 1 Axes>"
      ]
     },
     "metadata": {
      "needs_background": "light"
     },
     "output_type": "display_data"
    }
   ],
   "source": [
    "#plot the cost\n",
    "fig, ax = plt.subplots()  \n",
    "ax.plot(np.arange(max_iteration), cost, 'r')  \n",
    "ax.plot(np.arange(max_iteration), s_cost, 'b')  \n",
    "ax.plot(np.arange(max_iteration), mb_cost, 'g')  \n",
    "ax.legend(loc='upper right', labels=['batch gradient descent', 'stochastic gradient descent', 'mini-batch gradient descent'])\n",
    "ax.set_xlabel('Iterations')  \n",
    "ax.set_ylabel('Cost')  \n",
    "ax.set_title('Error vs. Training Epoch')  \n",
    "ax.set_ylim(0.000015,0.00003)\n",
    "plt.show()"
   ]
  },
  {
   "cell_type": "markdown",
   "metadata": {},
   "source": [
    "# Adagrad"
   ]
  },
  {
   "cell_type": "code",
   "execution_count": 114,
   "metadata": {
    "ExecuteTime": {
     "end_time": "2018-11-10T13:07:32.104883Z",
     "start_time": "2018-11-10T13:07:32.099896Z"
    }
   },
   "outputs": [],
   "source": [
    "def adagrad(theta_zero, X, Y, max_iteration, gap,fudge_factor = 1e-6, learning_rate = 1e-2):\n",
    "    \n",
    "    cost = np.zeros(max_iteration) #init cost\n",
    "    gti=np.zeros((theta_zero.shape[0],1)) #diagonal elements of Gt matrix\n",
    "    theta=theta_zero #initialize parameters \n",
    "\n",
    "    for i in range(max_iteration) :\n",
    "        d_theta = gradient(theta, X, Y) #gradient w.r.t. parameters theta\n",
    "        gti+=d_theta**2  #sum of the squares of the gradients w.r.t. theta up to time step t\n",
    "\n",
    "        adjusted_grad = d_theta / (fudge_factor + np.sqrt(gti))\n",
    "        theta = theta - learning_rate * adjusted_grad\n",
    "\n",
    "        cost[i] = loss(theta, X, Y)\n",
    "        if i % gap == 0 :\n",
    "            print ('iteration : ', i, ' loss : ', loss(theta, X, Y)) \n",
    "\n",
    "    return theta, cost "
   ]
  },
  {
   "cell_type": "markdown",
   "metadata": {},
   "source": [
    "## Hyperparameters / Parameters"
   ]
  },
  {
   "cell_type": "code",
   "execution_count": 115,
   "metadata": {
    "ExecuteTime": {
     "end_time": "2018-11-10T13:07:36.055037Z",
     "start_time": "2018-11-10T13:07:36.052045Z"
    }
   },
   "outputs": [],
   "source": [
    "ada_learning_rate = 0.09\n",
    "ada_max_iteration = 500\n",
    "ada_fudge_factor = 1e-6"
   ]
  },
  {
   "cell_type": "code",
   "execution_count": 116,
   "metadata": {
    "ExecuteTime": {
     "end_time": "2018-11-10T13:07:36.827475Z",
     "start_time": "2018-11-10T13:07:36.824483Z"
    }
   },
   "outputs": [],
   "source": [
    "ada_theta = np.zeros((data.shape[1], 1))"
   ]
  },
  {
   "cell_type": "markdown",
   "metadata": {},
   "source": [
    "## Train model"
   ]
  },
  {
   "cell_type": "code",
   "execution_count": 117,
   "metadata": {
    "ExecuteTime": {
     "end_time": "2018-11-10T13:07:45.211653Z",
     "start_time": "2018-11-10T13:07:43.683738Z"
    }
   },
   "outputs": [
    {
     "name": "stdout",
     "output_type": "stream",
     "text": [
      "iteration :  0  loss :  0.003972479426264115\n",
      "iteration :  100  loss :  1.9157789618450337e-05\n",
      "iteration :  200  loss :  1.8229193527751453e-05\n",
      "iteration :  300  loss :  1.7681937593692154e-05\n",
      "iteration :  400  loss :  1.730970178286548e-05\n"
     ]
    }
   ],
   "source": [
    "ada_theta_final, ada_cost = adagrad(ada_theta,X,Y,ada_max_iteration,100,ada_fudge_factor,ada_learning_rate)"
   ]
  },
  {
   "cell_type": "markdown",
   "metadata": {},
   "source": [
    "## Optimal values of Parameters using Trained Model"
   ]
  },
  {
   "cell_type": "code",
   "execution_count": 118,
   "metadata": {
    "ExecuteTime": {
     "end_time": "2018-11-10T13:07:49.290354Z",
     "start_time": "2018-11-10T13:07:49.286365Z"
    }
   },
   "outputs": [
    {
     "data": {
      "text/plain": [
       "array([[ 0.00263249],\n",
       "       [-0.00511383],\n",
       "       [ 0.007183  ],\n",
       "       [ 0.23805737],\n",
       "       [ 0.21931665],\n",
       "       [-0.22405038],\n",
       "       [ 0.11064328],\n",
       "       [ 0.10096158],\n",
       "       [ 0.09260342],\n",
       "       [ 0.14461201],\n",
       "       [-0.02241472],\n",
       "       [-0.06743623],\n",
       "       [ 0.003856  ]])"
      ]
     },
     "execution_count": 118,
     "metadata": {},
     "output_type": "execute_result"
    }
   ],
   "source": [
    "ada_theta_final"
   ]
  },
  {
   "cell_type": "code",
   "execution_count": 119,
   "metadata": {
    "ExecuteTime": {
     "end_time": "2018-11-10T13:07:51.835895Z",
     "start_time": "2018-11-10T13:07:51.716795Z"
    }
   },
   "outputs": [
    {
     "data": {
      "image/png": "[encoded data removed]",
      "text/plain": [
       "<Figure size 936x504 with 1 Axes>"
      ]
     },
     "metadata": {
      "needs_background": "light"
     },
     "output_type": "display_data"
    }
   ],
   "source": [
    "#plot the cost\n",
    "fig, ax = plt.subplots(figsize=(13,7))  \n",
    "ax.plot(np.arange(max_iteration), cost, 'r')  \n",
    "ax.plot(np.arange(max_iteration), s_cost, 'b')  \n",
    "ax.plot(np.arange(max_iteration), mb_cost, 'g')  \n",
    "ax.plot(np.arange(max_iteration), ada_cost, 'm')  \n",
    "ax.legend(loc='upper right', labels=['batch gradient descent', 'stochastic gradient descent', 'mini-batch gradient descent','adagrad'])\n",
    "ax.set_xlabel('Iterations')  \n",
    "ax.set_ylabel('Cost')  \n",
    "ax.set_title('Error vs. Training Epoch')  \n",
    "ax.set_ylim(0.000015,0.00003)\n",
    "\n",
    "plt.show()"
   ]
  },
  {
   "cell_type": "markdown",
   "metadata": {},
   "source": [
    "# Observations"
   ]
  },
  {
   "cell_type": "markdown",
   "metadata": {},
   "source": [
    "Adagrad outperforms all the other methods we used (with our specific hyperparameters).SGD seems to perform rather bad with an increasing cost after about 100 epochs.Let's try to improve its performance by introducing a decaying learning rate after 100 epochs."
   ]
  },
  {
   "cell_type": "code",
   "execution_count": 120,
   "metadata": {
    "ExecuteTime": {
     "end_time": "2018-11-10T13:08:26.815468Z",
     "start_time": "2018-11-10T13:08:26.810459Z"
    }
   },
   "outputs": [],
   "source": [
    "def stochastic_gradient_descent_with_decay (theta, X, Y, learning_rate, max_iteration, gap,decay=0.9) :\n",
    "  cost = np.zeros(max_iteration)\n",
    "  for i in range(max_iteration) :\n",
    "    for j in range(X.shape[0]):\n",
    "      d_theta = gradient (theta, X[j,:].reshape(1, X.shape[1]), Y[j,:].reshape(1, 1))\n",
    "      theta = theta - learning_rate * d_theta\n",
    "    \n",
    "    cost[i] = loss(theta, X, Y)\n",
    "    \n",
    "    if(i>100):\n",
    "        learning_rate=learning_rate*decay #decrease learning rate after 100 epochs\n",
    "        \n",
    "    if i % gap == 0 :\n",
    "        \n",
    "        print ('iteration : ', i, ' loss : ', loss(theta, X, Y)) \n",
    "  return theta, cost"
   ]
  },
  {
   "cell_type": "code",
   "execution_count": 88,
   "metadata": {
    "ExecuteTime": {
     "end_time": "2018-11-10T12:46:21.616242Z",
     "start_time": "2018-11-10T12:44:36.881141Z"
    }
   },
   "outputs": [
    {
     "name": "stdout",
     "output_type": "stream",
     "text": [
      "iteration :  0  loss :  2.326990669728153e-05\n",
      "iteration :  100  loss :  2.055530230348636e-05\n",
      "iteration :  200  loss :  2.1182661696449462e-05\n",
      "iteration :  300  loss :  1.7684678909705827e-05\n",
      "iteration :  400  loss :  1.767618680112351e-05\n"
     ]
    }
   ],
   "source": [
    "sd_theta_final, sd_cost = stochastic_gradient_descent_with_decay(s_theta, X, Y, s_learning_rate, s_max_iteration, 100,decay=0.96)"
   ]
  },
  {
   "cell_type": "code",
   "execution_count": 121,
   "metadata": {
    "ExecuteTime": {
     "end_time": "2018-11-10T13:08:36.814222Z",
     "start_time": "2018-11-10T13:08:36.710500Z"
    }
   },
   "outputs": [
    {
     "data": {
      "image/png": "[encoded data removed]",
      "text/plain": [
       "<Figure size 936x504 with 1 Axes>"
      ]
     },
     "metadata": {
      "needs_background": "light"
     },
     "output_type": "display_data"
    }
   ],
   "source": [
    "#plot the cost\n",
    "fig, ax = plt.subplots(figsize=(13,7))  \n",
    "ax.plot(np.arange(max_iteration), s_cost, 'b')  \n",
    "ax.plot(np.arange(max_iteration), sd_cost, 'g')  \n",
    "ax.legend(loc='upper right', labels=[ 'stochastic gradient descent', 'stochastic gradient descent with decay'])\n",
    "ax.set_xlabel('Iterations')  \n",
    "ax.set_ylabel('Cost')  \n",
    "ax.set_title('Error vs. Training Epoch')  \n",
    "ax.set_ylim(0.000015,0.00004)\n",
    "\n",
    "plt.show()"
   ]
  },
  {
   "cell_type": "markdown",
   "metadata": {},
   "source": [
    "We borrowed the idea of a decreasing learning rate from Adagrad,in a simpler form with a decaying learning rate by a factor of 0.96 after 100 epochs.As we can see there is a big difference in the error after the same number of iterations.This shows us that the learning rate is a very important subject in its own and finding optimal methods of varying it can lead to big improvements in performance."
   ]
  },
  {
   "cell_type": "markdown",
   "metadata": {},
   "source": [
    "Comparing everything in the same plot."
   ]
  },
  {
   "cell_type": "code",
   "execution_count": 123,
   "metadata": {
    "ExecuteTime": {
     "end_time": "2018-11-10T13:10:21.151482Z",
     "start_time": "2018-11-10T13:10:21.021085Z"
    }
   },
   "outputs": [
    {
     "data": {
      "image/png": "[encoded data removed]",
      "text/plain": [
       "<Figure size 936x504 with 1 Axes>"
      ]
     },
     "metadata": {
      "needs_background": "light"
     },
     "output_type": "display_data"
    }
   ],
   "source": [
    "#plot the cost\n",
    "fig, ax = plt.subplots(figsize=(13,7))  \n",
    "ax.plot(np.arange(max_iteration), cost, 'r')  \n",
    "ax.plot(np.arange(max_iteration), s_cost, 'b') \n",
    "ax.plot(np.arange(max_iteration), sd_cost, 'k')  \n",
    "ax.plot(np.arange(max_iteration), mb_cost, 'g')  \n",
    "ax.plot(np.arange(max_iteration), ada_cost, 'm')  \n",
    "ax.legend(loc='upper right', labels=['batch gradient descent','stochastic gradient descent', 'stochastic gradient descent with decaying learning rate', 'mini-batch gradient descent','adagrad'])\n",
    "ax.set_xlabel('Iterations')  \n",
    "ax.set_ylabel('Cost')  \n",
    "ax.set_title('Error vs. Training Epoch')  \n",
    "ax.set_ylim(0.000015,0.00003)\n",
    "\n",
    "plt.show()"
   ]
  },
  {
   "cell_type": "markdown",
   "metadata": {},
   "source": [
    "It is no surprize that Adagrad still outperforms our modified SGD since in our implementation we just casualy descrease the learning rate which is nothing too sophisticated."
   ]
  }
 ],
 "metadata": {
  "kernelspec": {
   "display_name": "Python 3",
   "language": "python",
   "name": "python3"
  },
  "language_info": {
   "codemirror_mode": {
    "name": "ipython",
    "version": 3
   },
   "file_extension": ".py",
   "mimetype": "text/x-python",
   "name": "python",
   "nbconvert_exporter": "python",
   "pygments_lexer": "ipython3",
   "version": "3.7.0"
  },
  "latex_envs": {
   "LaTeX_envs_menu_present": true,
   "autoclose": false,
   "autocomplete": true,
   "bibliofile": "biblio.bib",
   "cite_by": "apalike",
   "current_citInitial": 1,
   "eqLabelWithNumbers": true,
   "eqNumInitial": 1,
   "hotkeys": {
    "equation": "Ctrl-E",
    "itemize": "Ctrl-I"
   },
   "labels_anchors": false,
   "latex_user_defs": false,
   "report_style_numbering": false,
   "user_envs_cfg": false
  },
  "toc": {
   "base_numbering": 1,
   "nav_menu": {},
   "number_sections": true,
   "sideBar": true,
   "skip_h1_title": false,
   "title_cell": "Table of Contents",
   "title_sidebar": "Contents",
   "toc_cell": false,
   "toc_position": {},
   "toc_section_display": true,
   "toc_window_display": true
  },
  "varInspector": {
   "cols": {
    "lenName": 16,
    "lenType": 16,
    "lenVar": 40
   },
   "kernels_config": {
    "python": {
     "delete_cmd_postfix": "",
     "delete_cmd_prefix": "del ",
     "library": "var_list.py",
     "varRefreshCmd": "print(var_dic_list())"
    },
    "r": {
     "delete_cmd_postfix": ") ",
     "delete_cmd_prefix": "rm(",
     "library": "var_list.r",
     "varRefreshCmd": "cat(var_dic_list()) "
    }
   },
   "types_to_exclude": [
    "module",
    "function",
    "builtin_function_or_method",
    "instance",
    "_Feature"
   ],
   "window_display": false
  }
 },
 "nbformat": 4,
 "nbformat_minor": 2
}
