{
 "cells": [
  {
   "cell_type": "markdown",
   "metadata": {},
   "source": [
    "# Reading Assingment 1 \n",
    "**<center>Logdanidis Pavlos 2071,Vasilopoulos Vasileios 2024**"
   ]
  },
  {
   "cell_type": "markdown",
   "metadata": {},
   "source": [
    "## 3. Linear algebra in machine learning\n"
   ]
  },
  {
   "cell_type": "markdown",
   "metadata": {},
   "source": [
    "### Dataset and Data Files\n",
    "\n",
    "The ***datasets*** that we use in machine learning ( tables of numbers where each row represents an observation and each column represents a feature of the observation ) are **matrices**, a key data structure in linear algebra.\n",
    "\n",
    "Moreover, when we split our data into inputs and outputs, we get a **matrix** ($X$) and a **vector** ($y$) which is also an important data structure from linear algebra.\n",
    "\n",
    "*********\n",
    "\n",
    "### Images and Photographs\n",
    "***Images*** are in their core matrices of pixel values .Operations that we do on images such as scaling,cropping and more are all done using liner algebra operations and use its notations.\n",
    "\n",
    "*********\n",
    "\n",
    "### One Hot Encoding\n",
    "A sub-field of linear algebra called **sparse representation** is used in ***one hot endoding*** ,a popular encoding for categorical variables.When working with classification problems ,it is very common to encode categorical variables to make them easier to work with.\n",
    "\n",
    "*********\n",
    "\n",
    "### Linear Regression\n",
    "A very common method used in machine learning for predicting numerical values in  simpler regression problems,is ***Linear Regeression***.The most common way of solving a linear regression problem is via a least squares optimization that uses **matrix factorization** methods( i.e. LU decomposition) from linear algebra.\n",
    "\n",
    "The linear regression equation is summarized using linear algebra notaion:\n",
    "<center>$y = A · b$</center>\n",
    "    \n",
    "Where $y$ is the output variable, $A$ is the dataset and $b$ are the model coefficients.    \n",
    "\n",
    "*********\n",
    "\n",
    "### Regularization\n",
    "A technique that is often used to minimize the size of coefficients of a model in applied machine learning,is ***regularization*** .Implementations include the $L^2$ and $L^1$ forms of regularization , which are both lifted directly from linear algebra.\n",
    "\n",
    "*********\n",
    "\n",
    "### Principal Component Analysis\n",
    "In machine learning we want to reduce the number of columns of a dataset as much as we can for various reasons.A popular dimensionality reduction method used is ***principal component analysis*** or PCA for short . PCA uses a matrix factorization method from linear algebra.\n",
    "\n",
    "*********\n",
    "\n",
    "### Singular-Value Decomposition\n",
    "Another dimensionality reduction method  is the ***singular-value decomposition*** method or SVD for short.Applications include feature selection,visualization, noise reduction and more.\n",
    "\n",
    "*******\n",
    "\n",
    "### Latent Semantic Analysis\n",
    "In natural language processing, documents are often represented as large matrices of word occurences.Lets say the columns are the known words in the vocabulary and the rows are sentences,paragraphs, pages or documents of text with cells in the matrix marked as the count or frequency of the number of times the word occurred.We can apply SVD to this matrix and that gives us the most compact and relevant words. This form of data preparation is called ***Latent\n",
    "Semantic Analysis*** or LSA for short.\n",
    "\n",
    "*******\n",
    "\n",
    "### Recommender Systems\n",
    "***Recommender systems*** are predictive modeling problems that involve the reccomendation of products (used a lot by companies like Amazon or Netflix).Linear algebra plays a huge role here.For example we can calculate the similarity of two customers using distance measures such as Euclidean distance\n",
    "or dot products.SVD is also used to speed up querying,searching and comparison.\n",
    "\n",
    "*******\n",
    "\n",
    "### Deep Learning\n",
    "\n",
    "Artificial ***neural networks*** are used on a range of challenging problems such as machine translation, photo captioning, speech recognition and much more.\n",
    "\n",
    "Linear algebra data structures like vectors,matrices and tensors(matrices with more than 2 dimensions) are used greatly in neural network execution as well as the description of deep learning methods ."
   ]
  },
  {
   "cell_type": "markdown",
   "metadata": {},
   "source": [
    "\n"
   ]
  },
  {
   "cell_type": "markdown",
   "metadata": {},
   "source": [
    "## 4. Introduction to NumPy Arrays"
   ]
  },
  {
   "cell_type": "markdown",
   "metadata": {},
   "source": [
    "A key data structure in Numpy (Python library for scientific and numerical applications) , is the ***ndarray*** ,short for N-dimensional array.We will refer to it simply as array,and it is a constant size array in memory that contains data of the same type."
   ]
  },
  {
   "cell_type": "markdown",
   "metadata": {},
   "source": [
    "In the demo below , we import the array function from the numpy module and create an ndarray from a list of integers.Then,we print the array,its dimensions and its data type."
   ]
  },
  {
   "cell_type": "code",
   "execution_count": 1,
   "metadata": {},
   "outputs": [
    {
     "name": "stdout",
     "output_type": "stream",
     "text": [
      "[1 2 3 4 5]\n",
      "(5,)\n",
      "int32\n"
     ]
    }
   ],
   "source": [
    "from numpy import array\n",
    "\n",
    "list = [1,2,3,4,5]\n",
    "myArray=array(list)\n",
    "\n",
    "print(myArray)\n",
    "print(myArray.shape)\n",
    "print(myArray.dtype)"
   ]
  },
  {
   "cell_type": "markdown",
   "metadata": {},
   "source": [
    "Now lets look at some numpy functions that create specific arrays, given their dimensions in a tuple."
   ]
  },
  {
   "cell_type": "code",
   "execution_count": 2,
   "metadata": {},
   "outputs": [
    {
     "name": "stdout",
     "output_type": "stream",
     "text": [
      "[[0.00000000e+000 0.00000000e+000]\n",
      " [0.00000000e+000 0.00000000e+000]\n",
      " [0.00000000e+000 5.90902512e-321]\n",
      " [7.00622146e+247 6.01346930e-154]]\n"
     ]
    }
   ],
   "source": [
    "from numpy import empty\n",
    "\n",
    "#creates empty array meaning its content is random\n",
    "array = empty([4,2])\n",
    "print(array)"
   ]
  },
  {
   "cell_type": "code",
   "execution_count": 3,
   "metadata": {},
   "outputs": [
    {
     "name": "stdout",
     "output_type": "stream",
     "text": [
      "[[0. 0. 0. 0. 0.]\n",
      " [0. 0. 0. 0. 0.]]\n"
     ]
    }
   ],
   "source": [
    "from numpy import zeros\n",
    "\n",
    "#creates array containing zero values\n",
    "array =zeros([2,5])\n",
    "print(array)"
   ]
  },
  {
   "cell_type": "code",
   "execution_count": 4,
   "metadata": {},
   "outputs": [
    {
     "name": "stdout",
     "output_type": "stream",
     "text": [
      "[[1.]\n",
      " [1.]\n",
      " [1.]]\n"
     ]
    }
   ],
   "source": [
    "from numpy import ones\n",
    "\n",
    "#creates array containing one values\n",
    "array =ones([3,1])\n",
    "print(array)"
   ]
  },
  {
   "cell_type": "markdown",
   "metadata": {},
   "source": [
    "Next lets look at some numpy functions that create arrays from other arrays.\n",
    "The ***vstack()*** function stacks two or more arrays on top of each other"
   ]
  },
  {
   "cell_type": "code",
   "execution_count": 5,
   "metadata": {},
   "outputs": [
    {
     "name": "stdout",
     "output_type": "stream",
     "text": [
      "[[ 1  2  3  4]\n",
      " [ 5  6  7  8]\n",
      " [ 9 10 11 12]]\n",
      "(3, 4)\n"
     ]
    }
   ],
   "source": [
    "from numpy import array\n",
    "from numpy import vstack\n",
    "\n",
    "array1=array([1,2,3,4])\n",
    "array2=array([5,6,7,8])\n",
    "array3=array([9,10,11,12])\n",
    "\n",
    "bigArray=vstack((array1,array2,array3))\n",
    "print(bigArray)\n",
    "print(bigArray.shape)"
   ]
  },
  {
   "cell_type": "markdown",
   "metadata": {},
   "source": [
    "Similarly we can stack arrays horizontally using the ***hstack()*** function\n"
   ]
  },
  {
   "cell_type": "code",
   "execution_count": 6,
   "metadata": {},
   "outputs": [
    {
     "name": "stdout",
     "output_type": "stream",
     "text": [
      "[ 1  2  3  4  5  6  7  8  9 10 11 12]\n",
      "(12,)\n"
     ]
    }
   ],
   "source": [
    "from numpy import array\n",
    "from numpy import hstack\n",
    "\n",
    "array1=array([1,2,3,4])\n",
    "array2=array([5,6,7,8])\n",
    "array3=array([9,10,11,12])\n",
    "\n",
    "bigArray=hstack((array1,array2,array3))\n",
    "print(bigArray)\n",
    "print(bigArray.shape)\n"
   ]
  },
  {
   "cell_type": "markdown",
   "metadata": {},
   "source": [
    "## 5. Index, Slice and Reshape NumPy Arrays\n"
   ]
  },
  {
   "cell_type": "markdown",
   "metadata": {},
   "source": [
    "We can create an array from a list of data using the ***array()*** function."
   ]
  },
  {
   "cell_type": "code",
   "execution_count": 7,
   "metadata": {},
   "outputs": [
    {
     "name": "stdout",
     "output_type": "stream",
     "text": [
      "[1 2 3 4]\n",
      "<class 'numpy.ndarray'>\n"
     ]
    }
   ],
   "source": [
    "from numpy import array\n",
    "\n",
    "list =[1,2,3,4]\n",
    "\n",
    "data =array(list)\n",
    "\n",
    "print(data)\n",
    "print(type(data))"
   ]
  },
  {
   "cell_type": "markdown",
   "metadata": {},
   "source": [
    "We can convert a list of lists (which represents two-dimensional data) to an array in the same manner."
   ]
  },
  {
   "cell_type": "code",
   "execution_count": 8,
   "metadata": {},
   "outputs": [
    {
     "name": "stdout",
     "output_type": "stream",
     "text": [
      "[[1 2]\n",
      " [3 4]\n",
      " [5 6]]\n",
      "<class 'numpy.ndarray'>\n"
     ]
    }
   ],
   "source": [
    "data = [[1, 2],\n",
    "[3, 4],\n",
    "[5, 6]]\n",
    "\n",
    "data = array(data)\n",
    "print(data)\n",
    "print(type(data))"
   ]
  },
  {
   "cell_type": "markdown",
   "metadata": {},
   "source": [
    "Indexing works with the [] operator specifying the index for the value we want.We can use negative indexes to retrieve values offset from the end\n",
    "of the array. "
   ]
  },
  {
   "cell_type": "code",
   "execution_count": 9,
   "metadata": {},
   "outputs": [
    {
     "name": "stdout",
     "output_type": "stream",
     "text": [
      "[1 2]\n",
      "[5 6]\n",
      "[5 6]\n"
     ]
    }
   ],
   "source": [
    "print(data[0])\n",
    "print(data[2])\n",
    "print(data[-1])"
   ]
  },
  {
   "cell_type": "markdown",
   "metadata": {},
   "source": [
    "Two dimensional indexing is shown in the demo below."
   ]
  },
  {
   "cell_type": "code",
   "execution_count": 10,
   "metadata": {},
   "outputs": [
    {
     "name": "stdout",
     "output_type": "stream",
     "text": [
      "1\n",
      "2\n",
      "6\n"
     ]
    }
   ],
   "source": [
    "print(data[0,0])\n",
    "print(data[0,1])\n",
    "print(data[-1,-1])"
   ]
  },
  {
   "cell_type": "markdown",
   "metadata": {},
   "source": [
    "If we want all the items from a row we specify the row number and ignore the column parameter.We do the opposite if we want a specific column."
   ]
  },
  {
   "cell_type": "code",
   "execution_count": 11,
   "metadata": {},
   "outputs": [
    {
     "name": "stdout",
     "output_type": "stream",
     "text": [
      "[1 2]\n",
      "[1 2]\n",
      "[1 2]\n",
      "[1 3 5]\n"
     ]
    }
   ],
   "source": [
    "#ROW\n",
    "print(data[0,])\n",
    "#or\n",
    "print(data[0])\n",
    "#or\n",
    "print(data[0,:])\n",
    "\n",
    "#COLUMN\n",
    "print(data[:,0])\n"
   ]
  },
  {
   "cell_type": "markdown",
   "metadata": {},
   "source": [
    "We can index a sub-sequence of an array specifying the *from* and *to* index.The slice extends from the *from* index and ends one item before the *to* index."
   ]
  },
  {
   "cell_type": "code",
   "execution_count": 12,
   "metadata": {},
   "outputs": [
    {
     "data": {
      "text/plain": [
       "array([[1, 2],\n",
       "       [3, 4]])"
      ]
     },
     "execution_count": 12,
     "metadata": {},
     "output_type": "execute_result"
    }
   ],
   "source": [
    "#first two rows\n",
    "data[0:2]"
   ]
  },
  {
   "cell_type": "code",
   "execution_count": 13,
   "metadata": {},
   "outputs": [
    {
     "data": {
      "text/plain": [
       "array([[1, 2],\n",
       "       [3, 4],\n",
       "       [5, 6]])"
      ]
     },
     "execution_count": 13,
     "metadata": {},
     "output_type": "execute_result"
    }
   ],
   "source": [
    "#all elements\n",
    "data[:]"
   ]
  },
  {
   "cell_type": "markdown",
   "metadata": {},
   "source": [
    "Splitting Input and Output variables."
   ]
  },
  {
   "cell_type": "code",
   "execution_count": 14,
   "metadata": {},
   "outputs": [
    {
     "name": "stdout",
     "output_type": "stream",
     "text": [
      "[[11 22]\n",
      " [44 55]\n",
      " [77 88]]\n"
     ]
    }
   ],
   "source": [
    "data = array([\n",
    "[11, 22, 33],\n",
    "[44, 55, 66],\n",
    "[77, 88, 99]])\n",
    "# X (input) is an array with all rows of data and all columns except the last one\n",
    "X =data[:,:-1]\n",
    "print(X)"
   ]
  },
  {
   "cell_type": "code",
   "execution_count": 15,
   "metadata": {},
   "outputs": [
    {
     "name": "stdout",
     "output_type": "stream",
     "text": [
      "[33 66 99]\n"
     ]
    }
   ],
   "source": [
    "# Y (output) is an array with all all rows of data and only the last column\n",
    "Y =data[:,-1]\n",
    "print(Y)"
   ]
  },
  {
   "cell_type": "markdown",
   "metadata": {},
   "source": [
    "It is common practice to split our dataset to a *train* and a *test* set.Some rows of data are used to train our model and another to test its skill at predicting values.The training dataset would be all rows from the beginning to\n",
    "the split point.The test dataset would be all rows starting from the split point to the end of the dimension. The following demo explains this splitting."
   ]
  },
  {
   "cell_type": "code",
   "execution_count": 16,
   "metadata": {},
   "outputs": [
    {
     "name": "stdout",
     "output_type": "stream",
     "text": [
      "[[11 22 33]\n",
      " [44 55 66]\n",
      " [77 88 99]]\n",
      "[[12 23 34]]\n"
     ]
    }
   ],
   "source": [
    "from numpy import array\n",
    "\n",
    "data = array([\n",
    "[11, 22, 33],\n",
    "[44, 55, 66],\n",
    "[77, 88, 99],\n",
    "[12, 23, 34]])\n",
    "\n",
    "split = 3\n",
    "train=data[:split,:]\n",
    "test=data[split:,:]\n",
    "print(train)\n",
    "print(test)\n",
    "\n"
   ]
  },
  {
   "cell_type": "markdown",
   "metadata": {},
   "source": [
    "Many times in machine learning we want our data's dimensions to meet the expectations of specific libraries.That requires knowing how to reshape arrays.Using the ***shape*** attribute or our array we can access the number of rows and columns as such:"
   ]
  },
  {
   "cell_type": "code",
   "execution_count": 17,
   "metadata": {},
   "outputs": [
    {
     "name": "stdout",
     "output_type": "stream",
     "text": [
      "Rows: 4\n",
      "Cols: 3\n"
     ]
    }
   ],
   "source": [
    "print('Rows: %d' % data.shape[0])\n",
    "print('Cols: %d' % data.shape[1])"
   ]
  },
  {
   "cell_type": "markdown",
   "metadata": {},
   "source": [
    "In the following example we reshape a one-dimensional array to a two-dimensional one using the ***reshape()*** function."
   ]
  },
  {
   "cell_type": "code",
   "execution_count": 21,
   "metadata": {},
   "outputs": [
    {
     "name": "stdout",
     "output_type": "stream",
     "text": [
      "(4,)\n",
      "(4, 1)\n"
     ]
    }
   ],
   "source": [
    "from numpy import array\n",
    "\n",
    "data = array([1,2,3,4])\n",
    "print(data.shape)\n",
    "#reshape array to a 4 by 1 array\n",
    "data =data.reshape((data.shape[0],1))\n",
    "print(data.shape)"
   ]
  },
  {
   "cell_type": "markdown",
   "metadata": {},
   "source": [
    "Similarly we can reshape 2D to 3D data which is required for the LSTM recurrent neural network model in the Keras deep learning library."
   ]
  },
  {
   "cell_type": "code",
   "execution_count": 22,
   "metadata": {},
   "outputs": [
    {
     "name": "stdout",
     "output_type": "stream",
     "text": [
      "(4, 3)\n"
     ]
    }
   ],
   "source": [
    "from numpy import array\n",
    "\n",
    "data = array([\n",
    "[11, 22, 33],\n",
    "[44, 55, 66],\n",
    "[77, 88, 99],\n",
    "[12, 23, 34]])\n",
    "\n",
    "print(data.shape)"
   ]
  },
  {
   "cell_type": "code",
   "execution_count": 23,
   "metadata": {},
   "outputs": [
    {
     "name": "stdout",
     "output_type": "stream",
     "text": [
      "(4, 3, 1)\n"
     ]
    }
   ],
   "source": [
    "data = data.reshape((data.shape[0], data.shape[1], 1))\n",
    "print(data.shape)\n"
   ]
  }
 ],
 "metadata": {
  "kernelspec": {
   "display_name": "Python 3",
   "language": "python",
   "name": "python3"
  },
  "language_info": {
   "codemirror_mode": {
    "name": "ipython",
    "version": 3
   },
   "file_extension": ".py",
   "mimetype": "text/x-python",
   "name": "python",
   "nbconvert_exporter": "python",
   "pygments_lexer": "ipython3",
   "version": "3.7.0"
  },
  "latex_envs": {
   "LaTeX_envs_menu_present": true,
   "autoclose": false,
   "autocomplete": true,
   "bibliofile": "biblio.bib",
   "cite_by": "apalike",
   "current_citInitial": 1,
   "eqLabelWithNumbers": true,
   "eqNumInitial": 1,
   "hotkeys": {
    "equation": "Ctrl-E",
    "itemize": "Ctrl-I"
   },
   "labels_anchors": false,
   "latex_user_defs": false,
   "report_style_numbering": false,
   "user_envs_cfg": false
  },
  "toc": {
   "base_numbering": 1,
   "nav_menu": {},
   "number_sections": true,
   "sideBar": true,
   "skip_h1_title": false,
   "title_cell": "Table of Contents",
   "title_sidebar": "Contents",
   "toc_cell": false,
   "toc_position": {},
   "toc_section_display": true,
   "toc_window_display": false
  }
 },
 "nbformat": 4,
 "nbformat_minor": 2
}
