{
 "cells": [
  {
   "cell_type": "markdown",
   "metadata": {},
   "source": [
    "<big>**<center>Lab 3<br> Pavlos Logdanidis 2071 ,  Vasilopoulos Vasileios 2024<center>**<big>"
   ]
  },
  {
   "cell_type": "markdown",
   "metadata": {},
   "source": [
    "# Nonlinear Unconstrained Optimization"
   ]
  },
  {
   "cell_type": "markdown",
   "metadata": {},
   "source": [
    "# 1D Optimization\n",
    "\\begin{definition}\n",
    "\n",
    "\n",
    "The process of finding the minima or maxima of a function. Consider a function:\n",
    "\n",
    "$$f: \\mathbf{R} \\rightarrow \\mathbf{R}$$\n",
    "$$f',f'' \\text{ continuous}$$\n",
    "\n",
    "A point $x^*$ is a *global* maximum if:\n",
    "\n",
    "$$f(x) \\le f(x^*) \\, \\forall \\, x$$\n",
    "\n",
    "or a *local* maximum if:\n",
    "\n",
    "$$f(x) \\le f(x^*) \\, \\forall \\, x:|x-x^*| < \\epsilon$$\n",
    "\n",
    "**Necessary conditions**: $f'(x^*) = 0$\n",
    "\n",
    "**Sufficient conditions**: $f''(x^*) \\le 0$ \n",
    "\n",
    "\n",
    "\\end{definition}\n",
    "\n",
    "\\begin{definition}\n",
    "\n",
    "A function $f$ is convex if for every $0 \\le \\alpha \\le 1$ $f$ satisfies the relation \n",
    "$$f(\\alpha x_1 + (1 - \\alpha)x_2) \\le \\alpha f(x_1) + (1 - \\alpha)f(x_2)$$\n",
    "\n",
    "![convexity](convexity.png)\n",
    "\n",
    "\\end{definition}\n",
    "\n",
    "\\begin{remark}\n",
    "\n",
    "In case of convex functions the local extreme points are global extreme points.\n",
    "\n",
    "\\end{remark}\n",
    "\n"
   ]
  },
  {
   "cell_type": "markdown",
   "metadata": {},
   "source": [
    "## Search\n",
    "\\begin{remark}\n",
    "\n",
    "\n",
    "We will consider *local* search methods that generate a series of values that converge to the maximum:\n",
    "\n",
    "$$x_0, x_1, x_2, \\ldots \\rightarrow \\text{argmax}(f)$$\n",
    "\n",
    "As with the root-finding methods, we must identify stopping conditions:\n",
    "\n",
    "$$|x_i - x^*| \\le \\epsilon$$\n",
    "\n",
    "Since we do not know $x^*$, we must use an alternative criterion:\n",
    "\n",
    "* $|x_i - x_{i-1}| \\le \\epsilon$\n",
    "* $|f(x_i) - f(x_{i-1})| \\le \\epsilon$\n",
    "* $|f'(x_i)| \\le \\epsilon$\n",
    "\\end{remark}"
   ]
  },
  {
   "cell_type": "markdown",
   "metadata": {},
   "source": [
    "## Newton's Method\n",
    "\\begin{remark}\n",
    "Apply Newton-Raphson method for root-finding to $f'$:\n",
    "\n",
    "$$x_{i+1} = x_i - \\frac{f'(x_i)}{f''(x_i)}$$\n",
    "\n",
    "called ***Newton's method***.\n",
    "\n",
    "Since we are searching for $x^*$ such that $f'(x^*) = 0$, we will use $|f'(x_i)| \\le \\epsilon$ as our stopping criterion.\n",
    "\n",
    "This finds points for which $f'(x)=0$.\n",
    "\n",
    "Note that $f(x_{i+1}) = f(x_i) + f'(x_i)(x-x_i) + \\mathbf {higher terms}$\n",
    "\\end{remark}\n",
    "\n",
    "![l-a](linear_appr.png)"
   ]
  },
  {
   "cell_type": "code",
   "execution_count": 1,
   "metadata": {
    "ExecuteTime": {
     "end_time": "2018-10-21T18:35:12.638393Z",
     "start_time": "2018-10-21T18:35:12.618Z"
    }
   },
   "outputs": [],
   "source": [
    "# R Code\n",
    "newton <- function(f, x0, tol = 1e-9, n_max = 100) {\n",
    "    x <- x0\n",
    "    f_x <- f(x)\n",
    "    n <- 0\n",
    "    while ((abs(f_x[2]) > tol) & (n < n_max)) {\n",
    "        # Newton's update\n",
    "        x <- x - f_x[2]/f_x[3]\n",
    "        f_x <- f(x)\n",
    "        # Increment counter\n",
    "        n <- n + 1\n",
    "    }\n",
    "    if (n == n_max) {\n",
    "        cat('newton failed to converge\\n')\n",
    "    } else {\n",
    "        return(x)\n",
    "    }\n",
    "}\n"
   ]
  },
  {
   "cell_type": "markdown",
   "metadata": {},
   "source": [
    "\\begin{remark}\n",
    "To use `newton`, we need a function $f$ that contains a vector $(f(x), f'(x), f''(x))$.\n",
    "\n",
    "\\end{remark}\n"
   ]
  },
  {
   "cell_type": "markdown",
   "metadata": {},
   "source": [
    "\\begin{example}\n",
    "Let's try to find the maximum of a Gamma(3,2) distribution:\n",
    "\\end{example}\n"
   ]
  },
  {
   "cell_type": "code",
   "execution_count": 2,
   "metadata": {
    "ExecuteTime": {
     "end_time": "2018-10-21T18:35:17.213399Z",
     "start_time": "2018-10-21T18:35:17.135Z"
    }
   },
   "outputs": [
    {
     "data": {
      "text/html": [
       "1.00000000000081"
      ],
      "text/latex": [
       "1.00000000000081"
      ],
      "text/markdown": [
       "1.00000000000081"
      ],
      "text/plain": [
       "[1] 1"
      ]
     },
     "metadata": {},
     "output_type": "display_data"
    },
    {
     "data": {
      "text/html": [
       "1.84685492176164e-17"
      ],
      "text/latex": [
       "1.84685492176164e-17"
      ],
      "text/markdown": [
       "1.84685492176164e-17"
      ],
      "text/plain": [
       "[1] 1.846855e-17"
      ]
     },
     "metadata": {},
     "output_type": "display_data"
    },
    {
     "data": {
      "text/html": [
       "20"
      ],
      "text/latex": [
       "20"
      ],
      "text/markdown": [
       "20"
      ],
      "text/plain": [
       "[1] 20"
      ]
     },
     "metadata": {},
     "output_type": "display_data"
    },
    {
     "data": {
      "image/png": "[encoded data removed]",
      "text/plain": [
       "Plot with title \"Gamma(3,2)\""
      ]
     },
     "metadata": {},
     "output_type": "display_data"
    }
   ],
   "source": [
    "gamma32 <- function(x) {\n",
    "    # Error checking\n",
    "    if (x < 0) \n",
    "        return(c(0, 0, 0))\n",
    "    if (x == 0) \n",
    "        return(c(0, 0, NaN))\n",
    "    y <- exp(-2 * x)\n",
    "    return(c(4 * x^2 * y, 8 * x * (1 - x) * y, 8 * (1 - 2 * x^2) * y))\n",
    "}\n",
    "\n",
    "x <- seq(0, 5, by = 0.01)\n",
    "plot(x, sapply(x, gamma32)[1, ], ylab = \"y\", main = \"Gamma(3,2)\", type = \"l\")\n",
    "\n",
    "newton(gamma32, 4)\n",
    "newton(gamma32, 0.1)\n",
    "newton(gamma32, 20)\n",
    "\n",
    "# notice the dependence of the method from the specified initial point"
   ]
  },
  {
   "cell_type": "markdown",
   "metadata": {},
   "source": [
    "\n",
    "\\begin{theorem}\n",
    "**Convergence**\n",
    "\n",
    "Using Newton's algorithm, $x_i \\rightarrow x^*$ converges quickly to maximum extreme point of $f$, provided:\n",
    "\n",
    "1. $f'(x^*)=0$\n",
    "2. $f''(x^*)<0$\n",
    "3. $f''$ is *Lipschitz-continuous* in the neighborbood of $x^*$\n",
    "\n",
    "> Lipschitz continuous if there exists a $k$ such that:\n",
    ">\n",
    "> $|f''(x) - f''(y)| \\le k|x-y| \\, \\forall \\, x,y$\n",
    "\n",
    "\\end{theorem}\n",
    "\n",
    "\\begin{remark}\n",
    "Note that Newton's method requires 2 derivatives!\n",
    "\\end{remark}\n",
    "\n"
   ]
  },
  {
   "cell_type": "markdown",
   "metadata": {},
   "source": [
    "\\begin{definition}\n",
    "**Bisection Method**\n",
    "\n",
    "To use the bisection method to find the minimizer, we can\n",
    "\n",
    "1) Pick 2 points, $x_1$ and $x_2$, with $x_1 < x_2$ and both points in [a, b].\n",
    "\n",
    "2) Find $f(x_1)$ and $f(x_2)$.\n",
    "\n",
    "3) a) If $f(x_1) > f(x_2$), then the minimizer must be to the right of $x_1$, because this unique minimizer must be less than $f(x_1)$, and the function is decreasing from $x_1$ to $x_2$.\n",
    "\n",
    "b) Otherwise (i.e. $f(x_1) < f(x_2)$), the minimizer must be to the left of $x_2$ with logically analogous reasoning.\n",
    "\n",
    "4) i) If 3a is true, then the minimizer must be in the interval $[x_1, b]$; repeat the algorithm from Step 1 until the interval length is smaller than some pre-set tolerance.\n",
    "\n",
    "ii) If 3b is true, then the minimizer must be in the interval $[a, x_2]$; repeat the algorithm from Step 1 until the interval length is smaller than some pre-set tolerance.\n",
    "To summarize this algorithm, every iteration beings with\n",
    "\n",
    "- the boundaries of the interval $[a_j, b_j]$ ,\n",
    "\n",
    "- 2 test points for the argument, $x_1$ and $x_2$.\n",
    "\n",
    "The function is evaluated at $x_1$ and $x_2$, and, based on whether $f(x_1) > f(x_2)$ or $f(x_1) < f(x_2)$, a new set of boundaries and test points are set for the next iteration.\n",
    "\n",
    "\\end{definition}\n"
   ]
  },
  {
   "cell_type": "markdown",
   "metadata": {},
   "source": [
    "\\begin{definition}\n",
    "**Golden Section Method**\n",
    "\n",
    "Using the Golden Ratio to Set the Test Points\n",
    "\n",
    "Since the test points $x_1$ and $x_2$ are arbitrarily set, it comes as no surprise that the choice of the test points affects the speed of the computation.  A clever way to save computation time is to set the test points to take advantage of some special properties of the golden ratio, which Braun and Murdoch denote with $\\phi$ and has the value\n",
    "\n",
    "$$(1 + \\sqrt{5}) \\div 2$$\n",
    "This number has many special properties that you can easily find on the web.  The one that will save computation time is\n",
    "\n",
    "$$\\phi^{-2} = 1 - \\phi^{-1}$$\n",
    "Let the lower and upper bounds of the interval of interest be a  and b , respectively.  Now, let's set the test points as\n",
    "\n",
    "$$x_1 = b - (b - a) \\div \\phi$$\n",
    "$$x_2 = a + (b - a) \\div \\phi$$\n",
    "The advantage of setting the test points as these above values comes when one of the new test points is updated.  Suppose that\n",
    "\n",
    "$f(x_1) > f(x_2)$ .\n",
    "\n",
    "Then the minimizer must be to the right of $x_1$.  Thus, $x_1$ becomes the new lower bound, which is denoted as $a'$.  The beauty of the golden ratio comes in calculating the new lower test point, which we denote as $x_1'$.\n",
    "\n",
    "$$x_1' = b - (b - a') \\div \\phi$$\n",
    "Since $f(x_1) > f(x_2)$ , $x_1$ becomes the new lower bound.\n",
    "\n",
    "$$x_1' = b - (b - x_1) \\div \\phi$$\n",
    "Recall that\n",
    "\n",
    "$$x_1 = b - (b - a) \\div \\phi$$\n",
    "Substituting the right-hand side of this above equation for $x_1$ in the calculation of $x_1'$, some very simple algebraic manipulation yields\n",
    "\n",
    "$$x_1' = b - (b - a) \\div \\phi^2$$\n",
    "Now, taking advantage of that special property of the golden ratio, $\\phi^{-2} = 1 - \\phi^{-1}$ , some more simple algebraic manipulation yields\n",
    "\n",
    "$$x_1' = a + (b - a) \\div \\phi = x_2$$\n",
    "Thus, the new lower test point is just the old upper test point.  This saves computation time, because we don't need to compute a new lower test point; we can just recycle the value that we knew from the old upper test point!\n",
    "\n",
    "Similar logic for the case $f(x_1) < f(x_2)$ will show that the new upper test point is simply the old lower test point.  Notationally, if\n",
    "\n",
    "$f(x_1) < f(x_2)$,\n",
    "\n",
    "then\n",
    "\n",
    "$x_2' = x_1$.\n",
    "\n",
    "\\end{definition}\n",
    "The Golden Section method does not require the use of derivatives.\n",
    "\n",
    "\n",
    "Let $f: \\mathbf R \\rightarrow \\mathbf R$. Consider 3 points $a < c < b$ such that:\n",
    "\n",
    "$$f(a) \\le f(c)$$\n",
    "$$f(b) \\le f(c)$$\n",
    "\n",
    "this implies that there must be a local maximum in $[a,b]$.\n",
    "\n",
    "\n",
    " ![gs](gs.png)\n"
   ]
  },
  {
   "cell_type": "markdown",
   "metadata": {},
   "source": [
    "\\begin{definition}\n",
    "** Algorithm**\n",
    "\n",
    "Choose $x_a, x_b, x_c$ such that:\n",
    "\n",
    "$$x_a < x_c < x_b$$\n",
    "\n",
    "While $x_b - x_a > \\epsilon$:\n",
    "\n",
    "* if $x_b - x_c > x_c - x_a$, choose $y \\in (x_c, x_b)$:\n",
    "\n",
    "    - if $f(y) \\ge f(x_c)$:\n",
    "\n",
    "        + $x_a = x_c$\n",
    "        + $x_c = y$\n",
    "\n",
    "    - else:\n",
    "\n",
    "        + $x_b = y$\n",
    "\n",
    "* else if $x_b - x_c < x_c - x_a$, choose $y \\in (x_a, x_c)$:\n",
    "\n",
    "    - if $f(y) \\ge f(x_c)$:\n",
    "\n",
    "        + $x_b = x_c$\n",
    "        + $x_c = y$\n",
    "\n",
    "    - else:\n",
    "\n",
    "        + $x_a = y$\n",
    "\n",
    "So, $y$ stays in the larger of the two intervals.\n",
    "\n",
    "\\end{definition}\n"
   ]
  },
  {
   "cell_type": "markdown",
   "metadata": {},
   "source": [
    "\\begin{remark}\n",
    "**Golden Section Method**\n",
    "\n",
    "The Golden Section Method chooses $y$ such that the ratio of lengths of the larger to the smaller interval stays the same at each iteration:\n",
    "\n",
    "$$\\begin{aligned}\n",
    "\\text{let } a &= x_c -x_a \\cr\n",
    "b &= x_b - x_c \\cr\n",
    "c &= y - x_c\n",
    "\\end{aligned}$$\n",
    "\n",
    "this implies: $\\frac{c}{b} = \\frac{b}{a}$ or $\\frac{c}{a-c} = \\frac{b}{a}$\n",
    "\n",
    "![GS line](gsline.png)\n",
    "\\end{remark}\n"
   ]
  },
  {
   "cell_type": "markdown",
   "metadata": {},
   "source": [
    "\\begin{remark}\n",
    "**Golden Ratio**\n",
    "\n",
    "\n",
    "Let $\\phi$ be the ratio $a/b$. Solve for $c$:\n",
    "\n",
    "$$\\begin{aligned} &\\Rightarrow \\phi^2 - \\phi - 1 = 0 \\cr\n",
    "&\\Rightarrow \\phi = \\frac{1 + \\sqrt{5}}{2} = 1.61680339 \\ldots\n",
    "\\end{aligned}$$\n",
    "\n",
    "This is the ***Golden Ratio***.\n",
    "\n",
    "![Golden ratio](http://upload.wikimedia.org/wikipedia/commons/thumb/8/8e/SimilarGoldenRectangles.svg/200px-SimilarGoldenRectangles.svg.png)\n",
    "\n",
    "\\end{remark}\n"
   ]
  },
  {
   "cell_type": "markdown",
   "metadata": {},
   "source": [
    "\\begin{remark}\n",
    "**Choosing $y$**\n",
    "\n",
    "Note that:\n",
    "\n",
    "$$\\begin{aligned}a &= b + c \\cr\n",
    "\\Rightarrow c &= b/(1+\\phi)\n",
    "\\end{aligned}$$\n",
    "\n",
    "Therefore, $y$ can be calculated by:\n",
    "\n",
    "$$\\begin{aligned}y &= x_c + c \\cr\n",
    "&= x_c + \\frac{x_b - x_c}{1 + \\phi}\n",
    "\\end{aligned}$$\n",
    "\n",
    "At each iteration, the width of the bracketing interval is reduced by a factor of $\\phi/(1+\\phi)$\n",
    "\n",
    "This is *optimal*\n",
    "\n",
    "\n",
    "**Presenter Notes**\n",
    "\n",
    "\n",
    ">The initial choice of $x_c$ is not critical; ratio will be restored a first iteration.\n",
    "\n",
    "\n",
    "\\end{remark}\n"
   ]
  },
  {
   "cell_type": "markdown",
   "metadata": {},
   "source": [
    "\\begin{exercise}\n",
    "Apply the above algorithms  to find the global minimum of $f(x) = x^2$. Compare the algorithms in time and number of iterations to find the minimum for a given accuracy. Display the function and the points found by the algorithms  at each iteration in the same graph.\n",
    "\\end{exercise}\n"
   ]
  },
  {
   "cell_type": "markdown",
   "metadata": {},
   "source": [
    "### Newton"
   ]
  },
  {
   "cell_type": "code",
   "execution_count": 58,
   "metadata": {
    "ExecuteTime": {
     "end_time": "2018-10-26T20:28:37.604285Z",
     "start_time": "2018-10-26T20:28:37.589Z"
    }
   },
   "outputs": [],
   "source": [
    "x_squared <- function(x){\n",
    "    \n",
    "    return (c(x^2,2*x,2))   \n",
    "    \n",
    "}"
   ]
  },
  {
   "cell_type": "code",
   "execution_count": 61,
   "metadata": {
    "ExecuteTime": {
     "end_time": "2018-10-26T20:30:43.354968Z",
     "start_time": "2018-10-26T20:30:43.340Z"
    }
   },
   "outputs": [],
   "source": [
    "\n",
    "\n",
    "\n",
    "newton <- function(f, x0, tol = 1e-9, n_max = 100) {\n",
    "    \n",
    "    xx<-seq(-x0-2,x0+2,length=1000)\n",
    "    yy<-seq(1,length(xx))\n",
    "    for(k in seq(1,length(xx))){\n",
    "    \n",
    "        yy[k]<-f(xx[k])[1]\n",
    "        \n",
    "    }\n",
    "    plot(xx,yy,col='green',type='l',xlim=c(-x0-2,x0+2), ylim=c(-1,f(x0)[1]+10))\n",
    "    par(new=T)\n",
    "    plot(x0,f(x0)[1],col='red',axes=F, xlab='', ylab=''\n",
    "         ,xlim=c(-x0-2,x0+2), ylim=c(-1,f(x0)[1]+10))\n",
    "    legend(\"topleft\",legend=c(\"x0\",\"x next\"),col=c(\"red\",\"blue\"),pch = 1)\n",
    "    \n",
    "    \n",
    "    x <- x0\n",
    "    f_x <- f(x)\n",
    "    n <- 0\n",
    "    while ((abs(f_x[2]) > tol) & (n < n_max)) {\n",
    "        # Newton's update\n",
    "        x <- x - f_x[2]/f_x[3]\n",
    "        f_x <- f(x)\n",
    "        # Increment counter\n",
    "        n <- n + 1\n",
    "        \n",
    "   \n",
    "         par(new=T)\n",
    "         plot(x,f(x)[1],col='blue',axes=F, xlab='', ylab=''\n",
    "             ,xlim=c(-x0-2,x0+2), ylim=c(-1,f(x0)[1]+10))\n",
    "        \n",
    "        \n",
    "        \n",
    "    }\n",
    "    if (n == n_max) {\n",
    "        cat('newton failed to converge\\n')\n",
    "    } else {\n",
    "        \n",
    "        \n",
    "        cat('Number of iterations :',n)\n",
    "        return(x)\n",
    "    }\n",
    "}"
   ]
  },
  {
   "cell_type": "code",
   "execution_count": 62,
   "metadata": {
    "ExecuteTime": {
     "end_time": "2018-10-26T20:30:44.103586Z",
     "start_time": "2018-10-26T20:30:44.009Z"
    }
   },
   "outputs": [
    {
     "name": "stdout",
     "output_type": "stream",
     "text": [
      "Number of iterations : 1"
     ]
    },
    {
     "data": {
      "text/plain": [
       "   user  system elapsed \n",
       "   0.03    0.00    0.03 "
      ]
     },
     "metadata": {},
     "output_type": "display_data"
    },
    {
     "data": {
      "image/png": "[encoded data removed]",
      "text/plain": [
       "plot without title"
      ]
     },
     "metadata": {},
     "output_type": "display_data"
    }
   ],
   "source": [
    "system.time(newton(x_squared,20))"
   ]
  },
  {
   "cell_type": "markdown",
   "metadata": {},
   "source": [
    "### Bisection"
   ]
  },
  {
   "cell_type": "code",
   "execution_count": 63,
   "metadata": {
    "ExecuteTime": {
     "end_time": "2018-10-26T20:30:56.100923Z",
     "start_time": "2018-10-26T20:30:56.084Z"
    }
   },
   "outputs": [],
   "source": [
    "bisection <- function(f, a, b, tol = 1e-9, n_max = 100) {\n",
    "    cat(\"Bisection Method:\\n\")\n",
    "    a0 <- a\n",
    "    b0 <- b\n",
    "    x1 <- a + 0.2*(b-a) #initializing x1\n",
    "    x2 <- b - 0.3*(b-a) #initializing x2\n",
    "    f_x1 <- f(x1)\n",
    "    f_x2 <- f(x2)\n",
    "    f_xold1 <- f(a)\n",
    "    f_xold2 <- f(b)\n",
    "    n <- 0\n",
    "    xx <- seq(a,b,length.out = 100)\n",
    "    yy <- xx^2\n",
    "    plot(xx,yy,type='l',col=\"black\",xlim = c(a0-10,b0+10), ylim = c(0,(b0+a0)^2))   #plotting function based on our a,b inputs\n",
    "    par(new=T)\n",
    "    while ((abs(f_x1[2]-f_xold1[2]) > tol) & (abs(f_x2[2]-f_xold2[2]) > tol) & (n < n_max)  & (abs(x1-a)>tol) & (abs(b-x2)>tol) ){\n",
    "        f_xold1 = f(x1)\n",
    "        f_xold2 = f(x2)\n",
    "        if(f_x1[1] > f_x2[1]){\n",
    "            a <- x1              #setting x1 as our new left bound\n",
    "            x1 <- a + 0.2*(b-a)  #new x1\n",
    "            x2 <- b - 0.3*(b-a)  #new x2\n",
    "            f_x1 <- f(x1)           \n",
    "            f_x2 <- f(x2)\n",
    "            plot(x1,f_x1[1],col = \"green\", axes = F,xlab = \"\", ylab = \"\", xlim = c(a0-10,b0+10), ylim = c(0,(b0+a0)^2)) #plotting new x1 that's closer to the solution than the prev one\n",
    "            par(new=T)\n",
    "        } else if (f_x1[1] < f_x2[1]){\n",
    "            b <- x2             #setting x2 as our new right bound\n",
    "            x1 <- a + 0.2*(b-a) #new x1\n",
    "            x2 <- b - 0.3*(b-a) #new x2\n",
    "            f_x1 <- f(x1)\n",
    "            f_x2 <- f(x2)\n",
    "            plot(x2,f_x2[1],col = \"orange\", axes = F,xlab = \"\", ylab = \"\", xlim = c(a0-10,b0+10), ylim = c(0,(b0+a0)^2)) #plotting new x2 that's closer to the solution than the prev one\n",
    "            par(new=T)\n",
    "        }\n",
    "        n <- n + 1\n",
    "        #cat(\"\\nNumber of iterations: \",n)\n",
    "    }\n",
    "    legend(\"topleft\",legend=c(\"bisection x1\", \"bisection x2\"),\n",
    "       col=c(\"green\",\"orange\"),pch = 1)\n",
    "    cat(\"\\nBisection Method iterated\",n,\" times\")\n",
    "    if (n == n_max) {\n",
    "        cat('\\nbisection failed to converge')\n",
    "    }\n",
    "    if (f_x1[1] > f_x2[1]){\n",
    "        return (f_x1[1])\n",
    "    }else\n",
    "        return (f_x2[1])\n",
    "    \n",
    "}"
   ]
  },
  {
   "cell_type": "code",
   "execution_count": 64,
   "metadata": {
    "ExecuteTime": {
     "end_time": "2018-10-26T20:30:58.803608Z",
     "start_time": "2018-10-26T20:30:58.788Z"
    }
   },
   "outputs": [],
   "source": [
    "x_squared <- function(x) {\n",
    "    return(c(x^2, 2*x, 2))\n",
    "}"
   ]
  },
  {
   "cell_type": "code",
   "execution_count": 65,
   "metadata": {
    "ExecuteTime": {
     "end_time": "2018-10-26T20:31:00.737463Z",
     "start_time": "2018-10-26T20:31:00.593Z"
    }
   },
   "outputs": [
    {
     "name": "stdout",
     "output_type": "stream",
     "text": [
      "Bisection Method:\n",
      "\n",
      "Bisection Method iterated 84  times"
     ]
    },
    {
     "data": {
      "text/plain": [
       "   user  system elapsed \n",
       "   0.06    0.00    0.06 "
      ]
     },
     "metadata": {},
     "output_type": "display_data"
    },
    {
     "data": {
      "image/png": "[encoded data removed]",
      "text/plain": [
       "plot without title"
      ]
     },
     "metadata": {},
     "output_type": "display_data"
    }
   ],
   "source": [
    "system.time(bisection(x_squared,-10,100))"
   ]
  },
  {
   "cell_type": "markdown",
   "metadata": {},
   "source": [
    "### Golden Section"
   ]
  },
  {
   "cell_type": "code",
   "execution_count": 93,
   "metadata": {
    "ExecuteTime": {
     "end_time": "2018-10-26T20:40:11.599339Z",
     "start_time": "2018-10-26T20:40:11.583Z"
    }
   },
   "outputs": [],
   "source": [
    "goldensection <- function(f, a, b, tol = 1e-9, n_max = 100) {\n",
    "    cat(\"Golden-Section Method:\\n\")\n",
    "    a0 <- a\n",
    "    b0 <- b\n",
    "    phi <- (1+sqrt(5))/2\n",
    "    x1 <- b - (b-a)/phi #initializing x1\n",
    "    x2 <- a + (b-a)/phi #initializing x2\n",
    "    f_x1 <- f(x1)\n",
    "    f_x2 <- f(x2)\n",
    "    f_xold1 <- f(a)\n",
    "    f_xold2 <- f(b)\n",
    "    n <- 0\n",
    "    xx <- seq(a,b,length.out = 100)\n",
    "    yy <- xx^2\n",
    "    plot(xx,yy,type='l',col=\"black\",xlim = c(a0-10,b0+10), ylim = c(0,(b0+a0)^2))   #plotting function based on our a,b inputs\n",
    "    par(new=T)\n",
    "    while ((n < n_max)  & (abs(x1-a)>tol) & (abs(b-x2)>tol) ){\n",
    "        f_xold1 = f(x1)\n",
    "        f_xold2 = f(x2)\n",
    "        if(f_x1[1] >= f_x2[1]){\n",
    "            a <- x1              #setting x1 as our new left bound\n",
    "            x1 <- b - (b-a)/phi  #new x1\n",
    "            x2 <- a + (b-a)/phi  #new x2\n",
    "            f_x1 <- f(x1)           \n",
    "            f_x2 <- f(x2)\n",
    "            plot(x1,f_x1[1],col = \"blue\", axes = F,xlab = \"\", ylab = \"\", xlim = c(a0-10,b0+10), ylim = c(0,(b0+a0)^2),pch = 7) #plotting new x1 that's closer to the solution than the prev one\n",
    "            par(new=T)\n",
    "        } else if (f_x1[1] < f_x2[1]){\n",
    "            b <- x2             #setting x2 as our new right bound\n",
    "            x1 <- b - (b-a)/phi #new x1\n",
    "            x2 <- a + (b-a)/phi #new x2\n",
    "            f_x1 <- f(x1)\n",
    "            f_x2 <- f(x2)\n",
    "            plot(x2,f_x2[1],col = \"black\", axes = F,xlab = \"\", ylab = \"\", xlim = c(a0-10,b0+10), ylim = c(0,(b0+a0)^2),pch =7) #plotting new x2 that's closer to the solution than the prev one\n",
    "            par(new=T)\n",
    "        }\n",
    "        n <- n + 1\n",
    "        #cat(\"\\nNumber of iterations: \",n)\n",
    "    }\n",
    "    legend(\"topleft\",legend=c(\"golden-section x1\", \"golden-section x2\"),\n",
    "       col=c(\"blue\",\"black\"),pch = 7)\n",
    "    cat(\"\\nGolden-Section Method iterated\",n,\" times\")\n",
    "    if (n == n_max) {\n",
    "        cat('\\nGolden-Section failed to converge')\n",
    "    }\n",
    "    if (f_x1[1] > f_x2[1]){\n",
    "        return (f_x1[1])\n",
    "    }else\n",
    "        return (f_x2[1])\n",
    "    \n",
    "}"
   ]
  },
  {
   "cell_type": "code",
   "execution_count": 94,
   "metadata": {
    "ExecuteTime": {
     "end_time": "2018-10-26T20:40:12.265052Z",
     "start_time": "2018-10-26T20:40:12.137Z"
    }
   },
   "outputs": [
    {
     "name": "stdout",
     "output_type": "stream",
     "text": [
      "Golden-Section Method:\n",
      "\n",
      "Golden-Section Method iterated 47  times"
     ]
    },
    {
     "data": {
      "text/plain": [
       "   user  system elapsed \n",
       "   0.05    0.01    0.06 "
      ]
     },
     "metadata": {},
     "output_type": "display_data"
    },
    {
     "data": {
      "image/png": "[encoded data removed]",
      "text/plain": [
       "plot without title"
      ]
     },
     "metadata": {},
     "output_type": "display_data"
    }
   ],
   "source": [
    "system.time(goldensection(x_squared,-5,10))"
   ]
  },
  {
   "cell_type": "markdown",
   "metadata": {},
   "source": [
    "### Ternary"
   ]
  },
  {
   "cell_type": "code",
   "execution_count": 101,
   "metadata": {
    "ExecuteTime": {
     "end_time": "2018-10-26T20:44:18.589081Z",
     "start_time": "2018-10-26T20:44:18.574Z"
    }
   },
   "outputs": [],
   "source": [
    "ternary <- function(ftn, x.l, x.r, x.m, tol = 1e-9,nmax=100) {\n",
    "    cat(\"Ternary Search Method:\\n\")\n",
    "  # applies the ternary search algorithm to minimize ftn\n",
    "  # we assume that ftn is a function of a single variable\n",
    "  # and that x.l < x.m < x.r and ftn(x.l), ftn(x.r) >= ftn(x.m)\n",
    "  \n",
    "  # the algorithm iteratively refines x.l, x.r, and x.m and terminates\n",
    "  # when x.r - x.l <= tol, then returns x.m\n",
    "    \n",
    "    left=x.l#plot lim\n",
    "    right=x.r#plot lim\n",
    "    \n",
    "  \n",
    "    n <- 0\n",
    "    xx <- seq(x.l,x.r,length.out = 100)\n",
    "    yy <- xx^2\n",
    "    plot(xx,yy,type='l',col=\"black\",xlim = c(left,right),\n",
    "         ylim = c(-10,10))   \n",
    "    par(new=T)\n",
    "    legend(\"topleft\",legend=c(\"x left\",\"x mid\",\"x right\"), col=c(\"blue\",\"green\",\"red\"),pch =13)\n",
    "     par(new=T)\n",
    "    \n",
    "    \n",
    "  # golden ratio plus one\n",
    "  gr1 = 1 + (1 + sqrt(5))/2\n",
    "  # successively refine x.l, x.r, and x.m\n",
    "  f.l = ftn(x.l)[1]\n",
    "  f.r = ftn(x.r)[1]\n",
    "  f.m = ftn(x.m)[1]\n",
    "  while (((x.r - x.l) > tol)& (n<nmax)) {  \n",
    "      \n",
    "    if ((x.r - x.m) > (x.m - x.l)) {\n",
    "      y = x.m + (x.r - x.m)/gr1\n",
    "      f.y = ftn(y)[1]\n",
    "      if (f.y <= f.m) {\n",
    "        x.l = x.m\n",
    "        f.l = f.m\n",
    "        x.m = y\n",
    "        f.m = f.y\n",
    "        } else {\n",
    "          x.r = y\n",
    "          f.r = f.y\n",
    "          }\n",
    "      } else {\n",
    "        \n",
    "        y = x.m - (x.m - x.l)/gr1\n",
    "        f.y = ftn(y)[1]\n",
    "        if (f.y <= f.m) {\n",
    "          x.r = x.m\n",
    "          f.r = f.m\n",
    "          x.m = y\n",
    "          f.m = f.y\n",
    "          } else {\n",
    "            x.l = y\n",
    "            f.l = f.y\n",
    "            }\n",
    "        }\n",
    "       n <- n + 1\n",
    "      plot(x.l,ftn(x.l)[1],col = \"blue\", axes = F,xlab = \"\", ylab = \"\",pch = 13,xlim=c(left,right),ylim=c(-10,10)) \n",
    "      par(new=T)\n",
    "      plot(x.m,ftn(x.m)[1],col = \"green\", axes = F,xlab = \"\", ylab = \"\",pch = 13,xlim=c(left,right),ylim=c(-10,10)) \n",
    "      par(new=T)\n",
    "      plot(x.r,ftn(x.r)[1],col = \"red\", axes = F,xlab = \"\", ylab = \"\",pch = 13,xlim=c(left,right),ylim=c(-10,10)) \n",
    "      par(new=T)\n",
    "      \n",
    "    }\n",
    "    cat(\"\\nTernary Search Method iterated\",n,\" times\")\n",
    "  return(x.m)\n",
    "  }"
   ]
  },
  {
   "cell_type": "markdown",
   "metadata": {},
   "source": [
    "For ternary search we assume that ftn is a function of a single variable\n",
    "   and that x.l < x.m < x.r and ftn(x.l), ftn(x.r) >= ftn(x.m).For our function $f(x)=x^2$ ,we can choose starting points $x_l=-5$ $x_m=-2$ $x_r=4$"
   ]
  },
  {
   "cell_type": "code",
   "execution_count": 102,
   "metadata": {
    "ExecuteTime": {
     "end_time": "2018-10-26T20:44:21.552841Z",
     "start_time": "2018-10-26T20:44:21.393Z"
    }
   },
   "outputs": [
    {
     "name": "stdout",
     "output_type": "stream",
     "text": [
      "Ternary Search Method:\n",
      "\n",
      "Ternary Search Method iterated 48  times"
     ]
    },
    {
     "data": {
      "text/plain": [
       "   user  system elapsed \n",
       "   0.07    0.00    0.07 "
      ]
     },
     "metadata": {},
     "output_type": "display_data"
    },
    {
     "data": {
      "image/png": "[encoded data removed]",
      "text/plain": [
       "plot without title"
      ]
     },
     "metadata": {},
     "output_type": "display_data"
    }
   ],
   "source": [
    "system.time(ternary(x_squared,-5,4,-2))"
   ]
  },
  {
   "cell_type": "markdown",
   "metadata": {},
   "source": [
    "# Multivariate Optimization\n",
    "\n",
    "\n",
    "We may wish to find the maximum or minimum of a function of several variables:\n",
    "\n",
    "$$f:\\mathbf{R}^k \\rightarrow \\mathbf{R}$$\n",
    "\n",
    "Assume:\n",
    "\n",
    "* first- and second-order partial derivatives exist, and are everywhere continuous.\n",
    "\n",
    "$$\\begin{aligned}\n",
    "\\mathbf{x} &= (x_1, x_2, \\ldots, x_k) \\cr\n",
    "&= x_1 \\mathbf{e}_1 + x_2 \\mathbf{e}_2, + \\ldots + x_k \\mathbf{e}_k\n",
    "\\end{aligned}$$\n",
    "\n",
    "where $\\mathbf{e}_i$ is the coordinate vector of element $i$.\n",
    "\n",
    "### Critical Points\n",
    "![c-p](critical_points.png)\n",
    "\n",
    "### Multiple  directions  for searching  for  maximum  or minimum  of the function\n",
    "![m-d](multiple_directions.png)"
   ]
  },
  {
   "cell_type": "markdown",
   "metadata": {},
   "source": [
    "## Directional derivatives\n",
    "\n",
    "### Slope of slice\n",
    "\n",
    "![slope-slice](slope_slide.png)\n",
    "\n",
    "\n",
    "To find the derivative of $z = f(x, y)$ at $(x_0, y_0)$ in the direction of the unit vector ${\\bf u} = \\langle u_1, u_2 \\rangle$ in the\n",
    "xy-plane, we introduce an s-axis, as in Figure 1, with its origin at $(x_0, y_0)$, with its positive direction in\n",
    "the direction of $ \\bf u$, and with the scale used on the x- and y-axes. Then the point at $s$ on the s-axis has\n",
    "xy-coordinates $x = x_0 + su_1$, $y = y_0 + su_2$, and the value of $z = f(x, y) $ at the point s on the s-axis is\n",
    "$$ F(s) = f(x_0 + su_1, y_0 + su_2)$$.\n",
    "\n",
    "We call $z = F(s)$ the cross section through $(x_0, y_0)$ of $z = f(x, y)$ in the direction of $\\bf u$.\n",
    "\n",
    "\n",
    "![slice-def](directional-derivative.png)\n"
   ]
  },
  {
   "cell_type": "markdown",
   "metadata": {},
   "source": [
    "\\begin{definition}\n",
    "The directional derivative  of $z = f(x,y)$ at $(x_0,y_0)$ in the unit vector \n",
    "${\\bf u} = \\langle u_1, u_2 \\rangle $ is the derivative of the cross section  defined above at $s=0$\n",
    "\n",
    "$$D_{\\bf u}f(x_0,y_0) = [\\frac{d}{ds}f(x_0+su_1,y_0+su_2)]_{s=0}$$\n",
    "\\end{definition}\n"
   ]
  },
  {
   "cell_type": "markdown",
   "metadata": {},
   "source": [
    "\\begin{theorem}\n",
    "For any unit vector ${\\bf u} = \\langle u_1, u_2 \\rangle$, the directional derivative of $z=f(x,y)$ at $(x_0,y_0)$ in the direction of $\\bf u$ is\n",
    "$$D_{\\bf u} = f_x(x_0,y_0)u_1+f_y(x_0,y_0)u_2$$.\n",
    "\n",
    "\\end{theorem}\n"
   ]
  },
  {
   "cell_type": "markdown",
   "metadata": {},
   "source": [
    "\\begin{definition}\n",
    "\n",
    "The gradient vector at $(x_0,y_0)$ is \n",
    "\n",
    "$$\\nabla f(x_0,y_0) = \\langle f_x(x_0,y_0), f_y(x_0,y_0) \\rangle$$\n",
    "\n",
    "\\end{definition}\n"
   ]
  },
  {
   "cell_type": "markdown",
   "metadata": {},
   "source": [
    "\\begin{exercise}\n",
    "\n",
    "Find the directional derivative of $f(x,y) = -4xy-x^4/4-y^4/4$ at $(1,-1)$ in the direction of ${\\bf u} = \\langle \\sqrt(2)/2,-\\sqrt(2)/2 \\rangle$\n",
    "\\end{exercise}\n"
   ]
  },
  {
   "cell_type": "code",
   "execution_count": 8,
   "metadata": {
    "ExecuteTime": {
     "end_time": "2018-10-25T19:18:35.400272Z",
     "start_time": "2018-10-25T19:18:35.364Z"
    }
   },
   "outputs": [],
   "source": [
    "library(Deriv)\n",
    "\n",
    "f<-function(x,y){    -4*x*y^2-x^4/4 -y^4/4   }"
   ]
  },
  {
   "cell_type": "code",
   "execution_count": 9,
   "metadata": {
    "ExecuteTime": {
     "end_time": "2018-10-25T19:18:35.772277Z",
     "start_time": "2018-10-25T19:18:35.724Z"
    }
   },
   "outputs": [
    {
     "name": "stdout",
     "output_type": "stream",
     "text": [
      "Directional derivative of f at (1,-1) in the direction of u = -9.899495"
     ]
    }
   ],
   "source": [
    "u<-c(sqrt(2)/2,-sqrt(2)/2)\n",
    "\n",
    "#using Theorem 2\n",
    "Du=Deriv(f,\"x\")(1,-1)*u[1] + Deriv(f,\"y\")(1,-1)*u[2]\n",
    "\n",
    "cat('Directional derivative of f at (1,-1) in the direction of u =',Du)"
   ]
  },
  {
   "cell_type": "markdown",
   "metadata": {},
   "source": [
    "## Partial Derivatives\n",
    "\n",
    "![tanget_plane](tanget_plane.png)\n",
    "\n",
    "\n",
    "Denote the $i$th partial derivative with respect to $x_i$ as $f_i(x)=\\frac{\\partial f(\\mathbf{x})}{\\partial x_i}$ slopes of the tanget lines in x and y.\n",
    "\n",
    "![partial](partial.jpg)\n",
    "\n",
    "Directional Derivatives : In general  $v \\in R^2$ with $\\|v\\| =1$ then $\\frac{\\partial f(x,y)}{\\partial v}$\n",
    "\n",
    "![directional](directional.jpg)\n",
    "\n",
    "And we define the *gradient*:\n",
    "\n",
    "$$\\nabla f(\\mathbf{x}) = (f_1(\\mathbf{x}), \\ldots, f_k(\\mathbf{x}))'$$\n",
    "\n",
    "![gradient](gradient2.png)\n",
    "\n",
    "\\begin{remark}\n",
    "** the gradient properties**\n",
    "\n",
    "The gradient defines (hyper) plane approximating the function infinitesimally\n",
    "$$\\Delta z = \\frac{\\partial f(x,y)}{\\partial x} \\Delta x + \\frac{\\partial f(x,y)}{\\partial y} \\Delta y $$\n",
    "\n",
    "\\end{remark}\n",
    "\n",
    "![gradient_h](gradient_hyperplane.jpg)\n",
    "\n",
    "\\begin{remark}\n",
    "\n",
    "By the chain rule: (important for later use)\n",
    "\n",
    "If $\\|v\\| = 1$  then $\\frac{\\partial f(x,y)}{\\partial v} (p) = \\langle \\nabla f_p, v \\rangle  $ (inner product)\n",
    "\n",
    "\n",
    "\\end{remark}\n",
    "\n",
    "![dir_grad_rel](d_g_r2.png)\n"
   ]
  },
  {
   "cell_type": "markdown",
   "metadata": {},
   "source": [
    "\\begin{proposition}\n",
    "\n",
    "$\\frac{\\partial f(x,y)}{\\partial v} (p)$ maximal choosing $v = \\frac{1}{\\|\\nabla f_p \\|} \\dot  \\nabla f_p$ \n",
    "\n",
    "$\\frac{\\partial f(x,y)}{\\partial v} (p)$ minimal choosing $v= \\frac{-1}{\\|\\nabla f_p \\|} \\dot  \\nabla f_p$\n",
    "\n",
    "\\end{proposition}\n",
    "\n",
    "\\begin{proof}\n",
    "$\\frac{\\partial f(x,y)}{\\partial v} (p) = \\langle \\nabla f_p,  \\frac{-1}{\\|\\nabla f_p \\|} \\dot  \\nabla f_p \\rangle $\n",
    "\n",
    "$= \\frac{-1}{\\|\\nabla f_p \\|} \\dot {\\langle \\nabla f_p, \\nabla f_p \\rangle} = \\frac{-{\\| \\nabla f_p\\|}^2}{\\|\\nabla f_p\\|}=-\\|\\nabla f_p \\|\n",
    " $\n",
    " \n",
    "For general direction vector $v$ we have \n",
    "$| \\frac{\\partial f(x,y)}{\\partial v} (p)| = | \\langle \\nabla f_p, v \\rangle | \\le \\|\\nabla f_p\\|$\n",
    "\n",
    "which implies that \n",
    "\n",
    "$\\frac{\\partial f(x,y)}{\\partial v} (p) \\ge - \\|\\nabla f_p\\|$\n",
    "\\end{proof}\n",
    "\n",
    "\n",
    "\\begin{remark}\n",
    "\n",
    "The gradient points at the greatest change direction\n",
    "\n",
    "\\end{remark}\n"
   ]
  },
  {
   "cell_type": "markdown",
   "metadata": {},
   "source": [
    "\\begin{proposition}\n",
    "Let $f: R^n \\rightarrow R$ be a smooth function around point $p$ if $f$ has a **local minimum** (maximum) at $p$ then \n",
    "\n",
    "$$\\nabla f_p = \\vec 0$$\n",
    "\\end{proposition}\n",
    "\n",
    "(intuitive: necessary for local min (max))\n",
    "\n",
    "![gradient_0](gradient_zero.jpg)\n",
    "\n",
    "\\begin{proof}\n",
    "For any direction vector $v \\in R^n $ other than zero\n",
    "\n",
    "$$ 0 = \\frac{df(p+t v)}{dt}(0) = \\langle (\\nabla f)_p, v \\rangle$$\n",
    "\n",
    "which implies $ (\\nabla f)_p = \\vec 0$\n",
    "\\end{proof}\n"
   ]
  },
  {
   "cell_type": "markdown",
   "metadata": {},
   "source": [
    "## Hessian (The Role of Second Partial Derivatives)\n",
    "\n",
    "And the *hessian*:\n",
    "\n",
    "$$H(\\mathbf{x}) = \\left(\n",
    "\\begin{array}{ccc}\n",
    "\\frac{\\partial^2 f(\\mathbf{x})}{\\partial x_1 \\partial x_1} & \\cdots & \\frac{\\partial^2 f(\\mathbf{x})}{\\partial x_1 \\partial x_k} \\\\\n",
    "\\vdots & \\ddots & \\vdots \\\\\n",
    "\\frac{\\partial^2 f(\\mathbf{x})}{\\partial x_k \\partial x_1} & \\cdots & \\frac{\\partial^2 f(\\mathbf{x})}{\\partial x_k \\partial x_k}\n",
    "\\end{array}\\right)$$"
   ]
  },
  {
   "cell_type": "markdown",
   "metadata": {},
   "source": [
    "## Curvature\n",
    "\n",
    "\\begin{definition}\n",
    "For any vector other than $\\mathbf{0}$, the slope at $\\mathbf{x}$ in direction $\\mathbf{v}$ is given by:\n",
    "\n",
    "$$\\frac{\\mathbf{v}' \\nabla f(\\mathbf{x})}{||\\mathbf{v}||}$$\n",
    "\n",
    "where $||\\mathbf{v}||$ is the *euclidean norm* of $\\mathbf{v}$.\n",
    "\n",
    "$$||\\mathbf{v}|| = \\sqrt{v_1^2 + \\ldots + v_k^2} = \\sqrt{\\mathbf{v} \\cdot \\mathbf{v}}$$\n",
    "\n",
    "The *curvature* at point $\\mathbf{x}$ is:\n",
    "\n",
    "$$\\frac{\\mathbf{v}' H(\\mathbf{x}) \\mathbf{v}}{||\\mathbf{v}||^2}$$\n",
    "\\end{definition}\n",
    "\n"
   ]
  },
  {
   "cell_type": "markdown",
   "metadata": {},
   "source": [
    "# Conditions for Maximum\n",
    "\n",
    "\n",
    "$f$ has a local maximum $x^*$ if, for all $i=1,\\ldots,k$ and sufficiently small $\\epsilon$:\n",
    "\n",
    "$$f(\\mathbf{x^*} + \\epsilon \\mathbf{e}_i) \\le f(\\mathbf{x^*})$$\n",
    "\n",
    "provided that:\n",
    "\n",
    "$$\\nabla f(\\mathbf{x^*}) = \\mathbf{0} = (0,\\ldots,0)'$$ \n",
    "\n",
    "(*necessary* condition) \n",
    "\n",
    "and the slope at $x^*$ in direction $v$ is $\\le 0$. \n",
    "\n",
    "This implies that the Hessian is negative semi-definite.\n",
    "\n",
    "A *sufficient* condition is that the slope $v$ is $< 0$ (negative definite Hessian  $\\Rightarrow$ curvature negative ).\n"
   ]
  },
  {
   "cell_type": "markdown",
   "metadata": {},
   "source": [
    "## Review: Fundamentals of unconstrained optimization"
   ]
  },
  {
   "cell_type": "markdown",
   "metadata": {},
   "source": [
    "%%latex\n",
    "Assuming the derivatives $\\nabla f(x^*)$, $ \\nabla^2 f(x^*) = H(x^*)$ exist and are continuous in the neighborhood of $x^*$\n",
    "\n",
    "* $x^*$ is a local minimizer $\\Rightarrow$ (necessary conditions)\n",
    "\n",
    "\\[\n",
    "\\cases {\n",
    "    \\nabla f(x^*) = 0 & \\text{ (first order)} \\cr\n",
    "    \\nabla^2 f(x^*) = H(x^*) & \\text{psd  (second order)}\n",
    "}\n",
    "\\]\n",
    "\n",
    "* $\\nabla f(x^*)=0$, $\\nabla^2 f(x^*)$ pd $\\Rightarrow$ $x^*$ is a strict local minimizer (sufficient condition).\n",
    "\n",
    "* Stationary point: $\\nabla f(x^*)=0$; \n",
    "\n",
    "\\[\\nabla^2 f(x^*) \n",
    "\\cases {\\text { pd: strict local minimizer} \\cr\n",
    "\\text { nd: strict local maximizer} \\cr\n",
    "\\text { not definite (pos & neg eigenvalues): saddle point} \\cr\n",
    "\\text { psd: may be non-strict local minimizer} \\cr\n",
    "\\text { nsd: may be non-strict local maximizer}\n",
    "}\n",
    "\\]\n",
    "\n",
    "\\begin{definition}\n",
    "Properties of Hessian matrix\n",
    "* pd = positive definite\n",
    "\n",
    "* nd = negative definite\n",
    "\n",
    "* psd = positive semidefinite\n",
    "\n",
    "* nsd = negative semidefinite\n",
    "\n",
    "* https://en.wikipedia.org/wiki/Positive-definite_matrix}\n",
    "\\end{definition}\n",
    "\n",
    "\n",
    "\n"
   ]
  },
  {
   "cell_type": "markdown",
   "metadata": {},
   "source": [
    "## Meaning of Eigenvalues of Hessian\n",
    "\n",
    "\\begin{definition}\n",
    "If the Hessian at a given point has all positive eigenvalues, it is \n",
    "said to be a positive-definite matrix\n",
    "\n",
    "* This is the multivariable \n",
    "equivalent of “concave up”.\n",
    "\n",
    "![concave_up](concave_up.png)\n",
    "\n",
    "If all of the eigenvalues \n",
    "are negative, it is said to be a \n",
    "negative-definite matrix\n",
    "\n",
    "* This is the multivariable \n",
    "equivalent like “concave down\"\n",
    "\n",
    "![concave_down](concave_down.png)\n",
    "\n",
    "If either eigenvalue is 0, then you will need more \n",
    "information (possibly a graph or table) to see what \n",
    "is going on.\n",
    "\n",
    "And, if the eigenvalues are mixed (one positive, one \n",
    "negative), you have a \n",
    "saddle point\n",
    "![saddle_point](saddle_point.png)\n",
    "\n",
    "\\end{definition}\n",
    "\n",
    "\n",
    "\n"
   ]
  },
  {
   "cell_type": "markdown",
   "metadata": {},
   "source": [
    "# Classification of nonlinear unconstrained methods"
   ]
  },
  {
   "cell_type": "markdown",
   "metadata": {
    "cell_style": "split"
   },
   "source": [
    "### Direct search methods\n",
    "\\begin{itemize}\n",
    "\\item Random search method\n",
    "\\item Grid search method\n",
    "\\item Univariate method\n",
    "\\item Pattern search methods\n",
    "\\item Powell’s method\n",
    "\\item Hooke-Jeeves method\n",
    "\\item Rosenbrock’s method\n",
    "\\item Simplex method\n",
    "\\end{itemize}\n",
    "\n",
    "\n"
   ]
  },
  {
   "cell_type": "markdown",
   "metadata": {
    "cell_style": "split"
   },
   "source": [
    "### Descent methods\n",
    "\n",
    "\\begin{enumerate}\n",
    "\\item Steepest descent (Cauchy method)\n",
    "\\item Fletcher-Reeves method\n",
    "\\item Newton’s method\n",
    "\\item Marquardt method\n",
    "\\item Quasi-Newton methods\n",
    "\\item Davidon-Fletcher-Powell method\n",
    "\\item Broyden-Fletcher-Goldfarb-Shanno method\n",
    "\\end{enumerate}\n",
    "\n",
    "\n",
    "\n"
   ]
  },
  {
   "cell_type": "markdown",
   "metadata": {},
   "source": [
    "## Steepest Ascent\n",
    "\n",
    "\n",
    "The steepest ascent method is an iterative search algorithm. For a function $f:\\mathbf{R}^k \\rightarrow \\mathbf{R}$ with continuous partial derivatives, we iterate via:\n",
    "\n",
    "$$\\mathbf{x}_{i+1} = \\mathbf{x}_i + \\alpha \\mathbf{v}_{i}^*$$\n",
    "\n",
    "where:\n",
    "\n",
    "* $\\alpha$ = positive scalar step size\n",
    "* $\\mathbf{v}_{i}^*$ = direction of largest slope at position $i$\n",
    "\n",
    "$$\\mathbf{v}_{i}^* = \\text{argmax}_{\\mathbf{v}} \\frac{\\mathbf{v}' \\nabla f(\\mathbf{x}_i)}{||\\mathbf{v}||}$$\n",
    "\n",
    "How do we find this direction?\n",
    "\n",
    "\n",
    "How big of a step do we take?"
   ]
  },
  {
   "cell_type": "markdown",
   "metadata": {},
   "source": [
    "## Steepest Descent\n",
    "\n",
    "\n",
    "The steepest ascent method is an iterative search algorithm. For a function $f:\\mathbf{R}^k \\rightarrow \\mathbf{R}$ with continuous partial derivatives, we iterate via:\n",
    "\n",
    "$$\\mathbf{x}_{i+1} = \\mathbf{x}_i - \\alpha \\mathbf{v}_{i}^*$$\n",
    "\n",
    "where:\n",
    "\n",
    "* $\\alpha$ = positive scalar step size\n",
    "* $\\mathbf{v}_{i}^*$ = the opposite direction of maximun slope at position $i$\n",
    "\n",
    "$$\\mathbf{v}_{i}^* = \\text{argmax}_{\\mathbf{v}} \\frac{\\mathbf{v}' \\nabla f(\\mathbf{x}_i)}{||\\mathbf{v}||}$$\n",
    "\n",
    "How do we find this direction?\n",
    "\n",
    "\n",
    "How big of a step do we take?"
   ]
  },
  {
   "cell_type": "markdown",
   "metadata": {},
   "source": [
    "## Line search methods for the steepest descent\n",
    "\n",
    "\n",
    "**Iteration**: $x_{k+1}=x_k + \\alpha_k p_k$, where $\\alpha_k$ is the *step length* (how far to move along $p_k$), $\\alpha_k > 0$, $p_k$ is the *search direction*\n",
    "\n",
    "**Descent direction**: $p^T_k\\nabla f_k = \\|p_k\\|\\|\\nabla f_k\\|\\cos(\\theta_k) < 0$ ( angle < $\\pi/2$ with $-\\nabla f_k$) guarrantes that $f$ can be reduced along $p_k$ (for sufficiently small step):\n",
    "\n",
    "According to Taylor's Th. \n",
    "\n",
    "$$f(x_k+ \\alpha p_k) = f(x_k)+ \\alpha p^T_k\\nabla f_k +\\mathcal{O}(\\alpha^2) $$\n",
    "\n",
    "For all for all sufficiently small $\\alpha > 0$ we get \n",
    "\n",
    "$$ f(x_k+ \\alpha p_k) < f(x_k)  $$\n",
    "\n",
    "**The steepest descent direction**, i.e. the direction along which $f$ decreases the most is $p_k=-\\nabla f_k$. \n",
    "\n",
    "Pf. for any $p$, $\\alpha$ according to Taylor's th.:\n",
    "\n",
    "$$f(x_k+ \\alpha p) = f(x_k)+ \\alpha p^T\\nabla f_k +\\mathcal{O}(\\alpha^2)$$\n",
    "\n",
    "so the rate of change in $f$ along $p$ at $x_k$ is $p^T\\nabla f_k$ (the directional derivative) = $\\|p\\|\\|\\nabla f_k\\|\\cos(\\theta)$.\n",
    "\n",
    "Then the $$min_p p^T\\nabla f_k$$ s.t. $\\|p\\| = 1$ is achieved when $\\cos\\theta = -1$, i.e., $$p = - \\nabla f_k / \\|\\nabla f_k|$$\n",
    "\n",
    "**prove** that this direction is $\\perp$ to the contours of $f$. \n",
    "\n",
    "let $z = f(x,y)$ show that at $Q =(x_0,y_0)$ at the level $f(x_0,y_0)=c$ the gradient $\\nabla f(x_0,y_0)$ is $\\perp$ to the surface (i.e. $\\perp$ to any curve that lies on the surface and goes through $Q = (x_0,y_0)$).\n",
    "\n",
    "Pf. Let $r(t) = (x(t),y())$ is a level curve on the surface $z$ with $r(t_0)=(x_0,y_0)$  and $g(t) = f(r(t)) = c$. Then $\\frac {dg}{dt} = \\nabla f|_Q \\cdot {r'(t_0)}$."
   ]
  },
  {
   "cell_type": "markdown",
   "metadata": {},
   "source": [
    "## Maximum Slope (another proof)\n",
    "\n",
    "We need to maximize the slope, so consider the partial derivative with respect to $v_i$:\n",
    "\n",
    "$$\\frac{\\partial}{\\partial v_j} \\frac{\\mathbf{v}' \\nabla f(\\mathbf{x})}{||\\mathbf{v}||} = \\frac{f_j(\\mathbf{x})}{||\\mathbf{v}||} - \\frac{(\\mathbf{v}' \\nabla f(\\mathbf{x}))v_j}{||\\mathbf{v}||^3}$$\n",
    "\n",
    "Setting this equal to zero, we end up with ($A \\propto B$ means that A is directly proportional to B. This means that $A=kB$ for some constant k):\n",
    "\n",
    "$$v_j \\propto f_j(\\mathbf{x})$$\n",
    "\n",
    "which implies that at point $\\mathbf{x}$, the direction with the largest slope is $\\nabla f(\\mathbf{x})$. So, steepest ascent is:\n",
    "\n",
    "$$\\mathbf{x}_{x+1} = \\mathbf{x}_i + \\alpha \\nabla f(\\mathbf{x}_i)$$\n"
   ]
  },
  {
   "cell_type": "markdown",
   "metadata": {},
   "source": [
    "## Step Size\n",
    "\n",
    "\n",
    "What is the appropriate step size $\\alpha$?\n",
    "\n",
    "* too large, and we risk over-shooting the maximum\n",
    "* too small, and the search is inefficient\n",
    "\n",
    "We want to choose $\\alpha$ to maximize:\n",
    "\n",
    "$$g(\\alpha) = f(\\mathbf{x}_i + \\alpha \\nabla f(\\mathbf{x}_i))$$\n",
    "\n",
    "We already know how to optimize univariate functions!\n",
    "\n",
    "* *e.g.* golden section method"
   ]
  },
  {
   "cell_type": "markdown",
   "metadata": {},
   "source": [
    "## Stopping Conditions\n",
    "\n",
    "\n",
    "Stopping conditions may include:\n",
    "\n",
    "* $||\\mathbf{x}_i - \\mathbf{x}_{i-1}|| \\le \\epsilon$\n",
    "* $|f(\\mathbf{x}_i) - f(\\mathbf{x}_{i-1})| \\le \\epsilon$\n",
    "* $||\\nabla f(\\mathbf{x}_i)|| \\le \\epsilon$\n",
    "\n",
    "for some small tolerance value $\\epsilon$."
   ]
  },
  {
   "cell_type": "markdown",
   "metadata": {},
   "source": [
    "## Steepest Decent Pseudocode\n",
    "\n",
    "\n",
    "Putting it all together, our steepest ascent algorithm should look something like this:\n",
    "\n",
    "1. Initialize $\\mathbf{x}_0$ and $\\mathbf{x}_1$\n",
    "2. Initialize counter $i=1$\n",
    "3. While $f(\\mathbf{x}_i) - f(\\mathbf{x}_{i-1}) > \\epsilon$:\n",
    "\n",
    "    * $\\mathbf{x}_{i-1} \\leftarrow \\mathbf{x}_i$\n",
    "    * Find optimal step size\n",
    "    * Calculate new $\\mathbf{x}_i = \\mathbf{x}_{i-1} - \\alpha \\nabla f(\\mathbf{x}_{i-1})$\n",
    "    * Increment $i$\n"
   ]
  },
  {
   "cell_type": "markdown",
   "metadata": {},
   "source": [
    "Using Golden-Section method we wish to find $x_l < x_m < x_r$ such that $g(x_l) \\ge g(x_m)$ and $g(x_r) \\ge g(x_m)$. We define a function to compute this \n"
   ]
  },
  {
   "cell_type": "code",
   "execution_count": 97,
   "metadata": {
    "ExecuteTime": {
     "end_time": "2018-10-26T16:14:50.069593Z",
     "start_time": "2018-10-26T16:14:50.053Z"
    }
   },
   "outputs": [],
   "source": [
    "gsection <- function(ftn, x.l, x.r, x.m, tol = 1e-9) {\n",
    "  # applies the golden-section algorithm to minimize ftn\n",
    "  # we assume that ftn is a function of a single variable\n",
    "  # and that x.l < x.m < x.r and ftn(x.l), ftn(x.r) >= ftn(x.m)\n",
    "  \n",
    "  # the algorithm iteratively refines x.l, x.r, and x.m and terminates\n",
    "  # when x.r - x.l <= tol, then returns x.m\n",
    "  \n",
    "  # golden ratio plus one\n",
    "  gr1 = 1 + (1 + sqrt(5))/2\n",
    "  # successively refine x.l, x.r, and x.m\n",
    "  f.l = ftn(x.l)\n",
    "  f.r = ftn(x.r)\n",
    "  f.m = ftn(x.m)\n",
    "  while ((x.r - x.l) > tol) {  \n",
    "      \n",
    "    if ((x.r - x.m) > (x.m - x.l)) {\n",
    "      y = x.m + (x.r - x.m)/gr1\n",
    "      f.y = ftn(y)\n",
    "      if (f.y <= f.m) {\n",
    "        x.l = x.m\n",
    "        f.l = f.m\n",
    "        x.m = y\n",
    "        f.m = f.y\n",
    "        } else {\n",
    "          x.r = y\n",
    "          f.r = f.y\n",
    "          }\n",
    "      } else {\n",
    "        \n",
    "        y = x.m - (x.m - x.l)/gr1\n",
    "        f.y = ftn(y)\n",
    "        if (f.y <= f.m) {\n",
    "          x.r = x.m\n",
    "          f.r = f.m\n",
    "          x.m = y\n",
    "          f.m = f.y\n",
    "          } else {\n",
    "            x.l = y\n",
    "            f.l = f.y\n",
    "            }\n",
    "        }\n",
    "    }\n",
    "  return(x.m)\n",
    "  }"
   ]
  },
  {
   "cell_type": "markdown",
   "metadata": {},
   "source": [
    "## R Code\n",
    "\n",
    "\n",
    "Assume that we have a working golden section algorithm. Doing a line search for $\\alpha$ involves finding suitable \"bracketing values\" with which to initialize the search.\n",
    "\n",
    "There is no guarantee of a suitable $\\alpha$ because the function $g$ may be increasing over $[0,\\infty)$. So, we specify a maximum step size $\\alpha_{\\max}$ that we will use if there is no $\\alpha \\le \\alpha_{\\max}$ such that $g(\\alpha) \\le g(\\alpha_{\\max})$."
   ]
  },
  {
   "cell_type": "code",
   "execution_count": 98,
   "metadata": {
    "ExecuteTime": {
     "end_time": "2018-10-26T16:14:52.049417Z",
     "start_time": "2018-10-26T16:14:52.022Z"
    }
   },
   "outputs": [],
   "source": [
    "line.search <- function(f, x, gradf, tol = 1e-9, a.max = 100) {\n",
    "  # x and gradf are vectors of length d\n",
    "  # g(a) =f(x +a*gradf) has a local minumum at a,\n",
    "  # within a tolerance\n",
    "  # if no local minimum is found then we use 0 or a.max for a\n",
    "  # the value returned is x + a*y\n",
    "  if (sum(abs(gradf)) == 0) return(x) # g(a) constant\n",
    "  g <- function(a) return(f(x - a*gradf))\n",
    "  \n",
    "  # find a.l < a.m < a.r such that\n",
    "  # g(a.m) >=g(a.l)  and g(a.m) >= g(a.r)\n",
    "  # a.l\n",
    "  a.l <- 0\n",
    "  g.l <- g(a.l)\n",
    "  # a.m\n",
    "  a.m <- 1\n",
    "  g.m <- g(a.m)\n",
    "  while ((g.m > g.l) & (a.m > tol)) {\n",
    "    a.m <- a.m/2\n",
    "    g.m <- g(a.m)\n",
    "    }\n",
    "  # if a suitable a.m was not found then use 0 for a\n",
    "  if ((a.m <= tol) & (g.m >= g.l)) return(x)\n",
    "  # a.r\n",
    "  a.r <- 2*a.m\n",
    "  g.r <- g(a.r)\n",
    "  while ((g.m >= g.r) & (a.r < a.max)) {\n",
    "    a.m <- a.r\n",
    "    g.m <- g.r\n",
    "    a.r <- 2*a.m\n",
    "    g.r <- g(a.r)\n",
    "    }\n",
    "  # if a suitable a.r was not found then use a.max for a\n",
    "  if ((a.r >= a.max) & (g.m > g.r)) return(x - a.max*gradf)\n",
    "  # apply golden-section algorithm to g to find a\n",
    "  a <- gsection(g, a.l, a.r, a.m)\n",
    "  return(x - a*gradf)\n",
    "  }\n",
    "\n",
    "\n",
    "\n"
   ]
  },
  {
   "cell_type": "markdown",
   "metadata": {},
   "source": [
    "## R code (continue)\n",
    "\n",
    "Finally we use the functions defined above to perform a steepest descent optimization."
   ]
  },
  {
   "cell_type": "code",
   "execution_count": 99,
   "metadata": {
    "ExecuteTime": {
     "end_time": "2018-10-26T16:14:59.955059Z",
     "start_time": "2018-10-26T16:14:59.928Z"
    }
   },
   "outputs": [],
   "source": [
    "descent <- function(f,gradf, x0, tol = 1e-9, n.max = 100) {\n",
    "  # steepest descent algorithm\n",
    "  # find a local minimum of f starting at x0\n",
    "  # function gradf is the gradient of f\n",
    "  x <- x0\n",
    "  x.old <- x\n",
    "  cat('\\n*Old x = ',x.old)\n",
    "  x <- line.search(f, x, gradf(x))\n",
    "  cat('\\n***New x = ',x)\n",
    "  n <- 1\n",
    "  while ((f(x.old)-f(x)> tol) & (n < n.max)) {\n",
    "    x.old <- x\n",
    "    x <- line.search(f, x, gradf(x))\n",
    "    cat('\\n***New x = ',x)\n",
    "    n <- n + 1\n",
    "    }\n",
    "  cat('\\nNumber of iteratiions = ',n)\n",
    "  return(x)\n",
    "  }"
   ]
  },
  {
   "cell_type": "markdown",
   "metadata": {},
   "source": [
    "\\begin{remark}\n",
    "Notice that rather than coding a single function with multiple embedded loops, we broke the algorithm up into a main function (`ascent`) and two sub-functions (`line_search`, `gsection`).\n",
    "\\end{remark}\n"
   ]
  },
  {
   "cell_type": "code",
   "execution_count": 100,
   "metadata": {
    "ExecuteTime": {
     "end_time": "2018-10-26T16:15:05.159437Z",
     "start_time": "2018-10-26T16:15:05.142Z"
    }
   },
   "outputs": [],
   "source": [
    "##Set Function F\n",
    "f <- function(x) {\n",
    "f <- 4*x[1]*x[2]+(x[1]+x[2]^2)^2\n",
    "    \n",
    "  return(f)\n",
    "}"
   ]
  },
  {
   "cell_type": "code",
   "execution_count": 101,
   "metadata": {
    "ExecuteTime": {
     "end_time": "2018-10-26T16:15:07.008654Z",
     "start_time": "2018-10-26T16:15:06.932Z"
    }
   },
   "outputs": [
    {
     "data": {
      "image/png": "[encoded data removed]",
      "text/plain": [
       "Plot with title \"Perspective Plot of f\""
      ]
     },
     "metadata": {},
     "output_type": "display_data"
    }
   ],
   "source": [
    "library(base)\n",
    "w <- function(x,y) {4*x*y+(x+y^2)^2}\n",
    "x <- seq(-1, 1, length= 20)\n",
    "y <- seq(-1, 1, length= 20)\n",
    "z <- outer(x,y,  w)\n",
    "persp(x, y, z,\n",
    "main=\"Perspective Plot of f\",\n",
    "zlab = \"Height\",\n",
    "theta = 30, phi = 15,\n",
    "col = \"springgreen\", shade = 0.5,axes=T)"
   ]
  },
  {
   "cell_type": "code",
   "execution_count": 102,
   "metadata": {
    "ExecuteTime": {
     "end_time": "2018-10-26T16:15:08.564492Z",
     "start_time": "2018-10-26T16:15:08.547Z"
    }
   },
   "outputs": [],
   "source": [
    "##Set Function Gradient F f'(x)\n",
    "gradf<- function (x)\n",
    "  {##Calculate First Derivative of Function to x[1]  (f1)\n",
    "  f1<-4*x[2]+2*(x[1] + x[2]^2)\n",
    "  ##Calculate First Derivative of Function to x[2]  (f2)\n",
    "  f2<-4 * x[1] + 2 * (2 * x[2] * (x[1] + x[2]^2))\n",
    "  return(c(f1, f2))\n",
    "  }"
   ]
  },
  {
   "cell_type": "code",
   "execution_count": 103,
   "metadata": {
    "ExecuteTime": {
     "end_time": "2018-10-26T16:15:10.138512Z",
     "start_time": "2018-10-26T16:15:10.073Z"
    }
   },
   "outputs": [
    {
     "name": "stdout",
     "output_type": "stream",
     "text": [
      "\n",
      "*Old x =  1 0\n",
      "***New x =  0.6937454 -0.6125092\n",
      "***New x =  0.8419515 -0.6866122\n",
      "***New x =  0.8560183 -0.6584786\n",
      "***New x =  0.8800006 -0.6704697\n",
      "***New x =  0.8826649 -0.6651412\n",
      "***New x =  0.8871801 -0.6673988\n",
      "***New x =  0.8876923 -0.6663743\n",
      "***New x =  0.8885595 -0.6668078\n",
      "***New x =  0.8886582 -0.6666103\n",
      "***New x =  0.8888253 -0.6666939\n",
      "***New x =  0.8888444 -0.6666558\n",
      "***New x =  0.8888766 -0.6666719\n",
      "***New x =  0.8888803 -0.6666646\n",
      "Number of iteratiions =  13\n",
      "Extreme points 0.8888803 -0.6666646\n",
      "Gradient at extreme -1.437692e-05 7.178024e-06"
     ]
    }
   ],
   "source": [
    "extreme <- descent(f,gradf,c(1,0) )\n",
    "cat('\\nExtreme points',extreme)\n",
    "cat('\\nGradient at extreme',gradf(extreme))\n"
   ]
  },
  {
   "cell_type": "markdown",
   "metadata": {},
   "source": [
    "\\begin{exercise}\n",
    "Modify the above codes to implement the gradient ascent\n",
    "\n",
    "\\end{exercise}\n"
   ]
  },
  {
   "cell_type": "markdown",
   "metadata": {},
   "source": [
    "Golden section for finding maximum"
   ]
  },
  {
   "cell_type": "code",
   "execution_count": 117,
   "metadata": {
    "ExecuteTime": {
     "end_time": "2018-10-26T16:19:01.510194Z",
     "start_time": "2018-10-26T16:19:01.495Z"
    }
   },
   "outputs": [],
   "source": [
    "gsection <- function(ftn, x.l, x.r, x.m, tol = 1e-9) {\n",
    "  # applies the golden-section algorithm to MAXIMIZE ftn\n",
    "  # we assume that ftn is a function of a single variable\n",
    "  # and that x.l < x.m < x.r and ftn(x.l), ftn(x.r) <= ftn(x.m)\n",
    "  \n",
    "  # the algorithm iteratively refines x.l, x.r, and x.m and terminates\n",
    "  # when x.r - x.l <= tol, then returns x.m\n",
    "  \n",
    "  # golden ratio plus one\n",
    "  gr1 = 1 + (1 + sqrt(5))/2\n",
    "  # successively refine x.l, x.r, and x.m\n",
    "  f.l = ftn(x.l)\n",
    "  f.r = ftn(x.r)\n",
    "  f.m = ftn(x.m)\n",
    "  while ((x.r - x.l) > tol) {  \n",
    "      \n",
    "    if ((x.r - x.m) > (x.m - x.l)) {\n",
    "      y = x.m + (x.r - x.m)/gr1\n",
    "      f.y = ftn(y)\n",
    "      if (f.y >= f.m) {     #MODIFIED HERE\n",
    "        x.l = x.m\n",
    "        f.l = f.m\n",
    "        x.m = y\n",
    "        f.m = f.y\n",
    "        } else {\n",
    "          x.r = y\n",
    "          f.r = f.y\n",
    "          }\n",
    "      } else {\n",
    "        \n",
    "        y = x.m - (x.m - x.l)/gr1\n",
    "        f.y = ftn(y)\n",
    "        if (f.y >= f.m) {      #MODIFIED HERE\n",
    "          x.r = x.m\n",
    "          f.r = f.m\n",
    "          x.m = y\n",
    "          f.m = f.y\n",
    "          } else {\n",
    "            x.l = y\n",
    "            f.l = f.y\n",
    "            }\n",
    "        }\n",
    "    }\n",
    "  return(x.m)\n",
    "  }"
   ]
  },
  {
   "cell_type": "markdown",
   "metadata": {},
   "source": [
    "Line search for a"
   ]
  },
  {
   "cell_type": "code",
   "execution_count": 118,
   "metadata": {
    "ExecuteTime": {
     "end_time": "2018-10-26T16:19:03.382529Z",
     "start_time": "2018-10-26T16:19:03.368Z"
    }
   },
   "outputs": [],
   "source": [
    "line.search <- function(f, x, gradf, tol = 1e-9, a.max = 100) {\n",
    "  # x and gradf are vectors of length d\n",
    "  # g(a) =f(x +a*gradf) has a local maximum at a,\n",
    "  # within a tolerance\n",
    "  # if no local maximum is found then we use 0 or a.max for a\n",
    "  # the value returned is x + a*y\n",
    "  if (sum(abs(gradf)) == 0) return(x) # g(a) constant\n",
    "  g <- function(a) return(f(x + a*gradf))   #MODIFIED HERE\n",
    "  \n",
    "  # find a.l < a.m < a.r such that\n",
    "  # g(a.m) >=g(a.l)  and g(a.m) >= g(a.r)\n",
    "  # a.l\n",
    "  a.l <- 0\n",
    "  g.l <- g(a.l)\n",
    "  # a.m\n",
    "  a.m <- 1\n",
    "  g.m <- g(a.m)\n",
    "  while ((g.m < g.l) & (a.m > tol)) { #MODIFIED HERE\n",
    "    a.m <- a.m/2\n",
    "    g.m <- g(a.m)\n",
    "    }\n",
    "  # if a suitable a.m was not found then use 0 for a\n",
    "  if ((a.m <= tol) & (g.m <= g.l)) return(x)     #MODIFIED HERE\n",
    "  # a.r\n",
    "  a.r <- 2*a.m\n",
    "  g.r <- g(a.r)\n",
    "  while ((g.m < g.r) & (a.r < a.max)) { #MODIFIED HERE\n",
    "    a.m <- a.r\n",
    "    g.m <- g.r\n",
    "    a.r <- 2*a.m\n",
    "    g.r <- g(a.r)\n",
    "    }\n",
    "  # if a suitable a.r was not found then use a.max for a\n",
    "  if ((a.r >= a.max) & (g.m < g.r)) return(x + a.max*gradf)  #MODIFIED HERE\n",
    "  # apply golden-section algorithm to g to find a\n",
    "  a <- gsection(g, a.l, a.r, a.m)\n",
    "  return(x + a*gradf)  #MODIFIED HERE\n",
    "  }"
   ]
  },
  {
   "cell_type": "markdown",
   "metadata": {},
   "source": [
    "Gradient ascent"
   ]
  },
  {
   "cell_type": "code",
   "execution_count": 119,
   "metadata": {
    "ExecuteTime": {
     "end_time": "2018-10-26T16:19:04.830655Z",
     "start_time": "2018-10-26T16:19:04.812Z"
    }
   },
   "outputs": [],
   "source": [
    "ascent <- function(f,gradf, x0, tol = 1e-9, n.max = 100) {\n",
    "  # steepest ascent algorithm\n",
    "  # find a local maximum of f starting at x0\n",
    "  # function gradf is the gradient of f\n",
    "  x <- x0\n",
    "  x.old <- x\n",
    "  cat('\\n*Old x = ',x.old,'\\tf(x.old)=',f(x.old))\n",
    "     \n",
    "  x <- line.search(f, x, gradf(x))\n",
    "  cat('\\n***New x = ',x,'\\tNew f(x)=',f(x))\n",
    "  n <- 1\n",
    "    \n",
    "    \n",
    "  while ((f(x)-f(x.old)> tol) & (n < n.max)) {  #MODIFIED HERE\n",
    "    x.old <- x\n",
    "    x <- line.search(f, x, gradf(x))\n",
    "    cat('\\n***New x = ',x,'\\tNew f(x)=',f(x))\n",
    "    n <- n + 1\n",
    "    }\n",
    "  cat('\\nNumber of iterations = ',n)\n",
    "  return(x)\n",
    "  }"
   ]
  },
  {
   "cell_type": "code",
   "execution_count": 120,
   "metadata": {
    "ExecuteTime": {
     "end_time": "2018-10-26T16:19:05.400132Z",
     "start_time": "2018-10-26T16:19:05.386Z"
    }
   },
   "outputs": [],
   "source": [
    "f <- function(x) {\n",
    "f <- -(x[1] -1  )^2 - (x[2] -1)^2 #   f = -(x-1)^2 - (y-1)^2\n",
    "    \n",
    "  return(f)\n",
    "}"
   ]
  },
  {
   "cell_type": "markdown",
   "metadata": {},
   "source": [
    "Plot the function"
   ]
  },
  {
   "cell_type": "code",
   "execution_count": 121,
   "metadata": {
    "ExecuteTime": {
     "end_time": "2018-10-26T16:19:06.961955Z",
     "start_time": "2018-10-26T16:19:06.882Z"
    }
   },
   "outputs": [
    {
     "data": {
      "image/png": "[encoded data removed]",
      "text/plain": [
       "Plot with title \"Perspective Plot of f\""
      ]
     },
     "metadata": {},
     "output_type": "display_data"
    }
   ],
   "source": [
    "library(base)\n",
    "w <- function(x,y) {-(x-1)^2 - (y-1)^2}\n",
    "x <- seq(-3, 3, length= 20)\n",
    "y <- seq(-3, 3, length= 20)\n",
    "z <- outer(x,y,  w)\n",
    "persp(x, y, z,\n",
    "main=\"Perspective Plot of f\",\n",
    "zlab = \"Height\",\n",
    "theta = 30, phi = 15,\n",
    "col = \"springgreen\", shade = 0.5,axes=T)"
   ]
  },
  {
   "cell_type": "code",
   "execution_count": 122,
   "metadata": {
    "ExecuteTime": {
     "end_time": "2018-10-26T16:19:07.563347Z",
     "start_time": "2018-10-26T16:19:07.548Z"
    }
   },
   "outputs": [],
   "source": [
    "##Set Function Gradient F f'(x)\n",
    "gradf<- function (x)\n",
    "  {##Calculate First Derivative of Function to x[1]  (f1)\n",
    "  f1<- -2*(x[1] -1)\n",
    "  ##Calculate First Derivative of Function to x[2]  (f2)\n",
    "  f2<- -2*(x[2] -1)\n",
    "  return(c(f1, f2))\n",
    "  }"
   ]
  },
  {
   "cell_type": "markdown",
   "metadata": {},
   "source": [
    "Run gradient ascent with chosen starting point and print extreme points found as well as the gradient of the function at that point.If the gradient is close to zero , the algorithm worked."
   ]
  },
  {
   "cell_type": "code",
   "execution_count": 123,
   "metadata": {
    "ExecuteTime": {
     "end_time": "2018-10-26T16:19:09.685762Z",
     "start_time": "2018-10-26T16:19:09.629Z"
    }
   },
   "outputs": [
    {
     "name": "stdout",
     "output_type": "stream",
     "text": [
      "\n",
      "*Old x =  200 200 \tf(x.old)= -79202\n",
      "***New x =  0.9999999 0.9999999 \tNew f(x)= -1.229839e-14\n",
      "***New x =  1 1 \tNew f(x)= 0\n",
      "Number of iterations =  2\n",
      "Extreme points 1 1\n",
      "Gradient at extreme 0 0"
     ]
    }
   ],
   "source": [
    "extreme <- ascent(f,gradf,c(200,200) )\n",
    "cat('\\nExtreme points',extreme)\n",
    "cat('\\nGradient at extreme',gradf(extreme))"
   ]
  },
  {
   "cell_type": "markdown",
   "metadata": {},
   "source": [
    "\\begin{exercise}\n",
    "\n",
    "Find the maximum of the function $$ f(x,y) = \\frac{x-y}{x^2+y^2+1}$$\n",
    "\\end{exercise}\n"
   ]
  },
  {
   "cell_type": "code",
   "execution_count": 124,
   "metadata": {
    "ExecuteTime": {
     "end_time": "2018-10-26T16:19:18.821374Z",
     "start_time": "2018-10-26T16:19:18.805Z"
    }
   },
   "outputs": [],
   "source": [
    "f <- function(x) {\n",
    "f <- (x[1]-x[2])/(x[1]^2 + x[2]^2 +1)\n",
    "    \n",
    "  return(f)\n",
    "}"
   ]
  },
  {
   "cell_type": "code",
   "execution_count": 125,
   "metadata": {
    "ExecuteTime": {
     "end_time": "2018-10-26T16:19:20.095966Z",
     "start_time": "2018-10-26T16:19:20.016Z"
    }
   },
   "outputs": [
    {
     "data": {
      "image/png": "[encoded data removed]",
      "text/plain": [
       "Plot with title \"Perspective Plot of f\""
      ]
     },
     "metadata": {},
     "output_type": "display_data"
    }
   ],
   "source": [
    "library(base)\n",
    "w <- function(x,y) {(x-y)/(x^2 +y^2 +1)}\n",
    "x <- seq(-1, 1, length= 20)\n",
    "y <- seq(-1, 1, length= 20)\n",
    "z <- outer(x,y,  w)\n",
    "persp(x, y, z,\n",
    "main=\"Perspective Plot of f\",\n",
    "zlab = \"Height\",\n",
    "theta = 30, phi = 15,\n",
    "col = \"springgreen\", shade = 0.5,axes=T)"
   ]
  },
  {
   "cell_type": "code",
   "execution_count": 126,
   "metadata": {
    "ExecuteTime": {
     "end_time": "2018-10-26T16:19:20.320365Z",
     "start_time": "2018-10-26T16:19:20.306Z"
    }
   },
   "outputs": [],
   "source": [
    "##Set Function Gradient F f'(x)\n",
    "gradf<- function (x)\n",
    "  {##Calculate First Derivative of Function to x[1]  (f1)\n",
    "  f1<- (1 - x[1]^2 + 2*x[1]*x[2] + x[2]^2)/(1 + x[1]^2 + x[2]^2)^2\n",
    "  ##Calculate First Derivative of Function to x[2]  (f2)\n",
    "  f2<- (-1 - x[1]^2 - 2*x[1]*x[2] + x[2]^2)/(1 + x[1]^2 + x[2]^2)^2\n",
    "  return(c(f1, f2))\n",
    "  }"
   ]
  },
  {
   "cell_type": "markdown",
   "metadata": {},
   "source": [
    "Run gradient ascent with chosen starting point and print extreme points found as well as the gradient of the function at that point.If the gradient is close to zero , the algorithm worked."
   ]
  },
  {
   "cell_type": "code",
   "execution_count": 127,
   "metadata": {
    "ExecuteTime": {
     "end_time": "2018-10-26T16:19:22.118556Z",
     "start_time": "2018-10-26T16:19:22.085Z"
    }
   },
   "outputs": [
    {
     "name": "stdout",
     "output_type": "stream",
     "text": [
      "\n",
      "*Old x =  10 -10 \tf(x.old)= 0.09950249\n",
      "***New x =  9.507438 -9.507438 \tNew f(x)= 0.1046022\n",
      "***New x =  8.963383 -8.963383 \tNew f(x)= 0.110875\n",
      "***New x =  8.352545 -8.352545 \tNew f(x)= 0.118872\n",
      "***New x =  7.651081 -7.651081 \tNew f(x)= 0.1295936\n",
      "***New x =  6.818528 -6.818528 \tNew f(x)= 0.1450988\n",
      "***New x =  5.777166 -5.777166 \tNew f(x)= 0.1705404\n",
      "***New x =  4.344751 -4.344751 \tNew f(x)= 0.2242237\n",
      "***New x =  1.897522 -1.897522 \tNew f(x)= 0.4627436\n",
      "***New x =  0.7071068 -0.7071068 \tNew f(x)= 0.7071068\n",
      "***New x =  0.7071068 -0.7071068 \tNew f(x)= 0.7071068\n",
      "Number of iterations =  10\n",
      "Extreme points 0.7071068 -0.7071068\n",
      "Gradient at extreme 1.247416e-09 -1.247416e-09"
     ]
    }
   ],
   "source": [
    "extreme <- ascent(f,gradf,c(10,-10) )\n",
    "cat('\\nExtreme points',extreme)\n",
    "cat('\\nGradient at extreme',gradf(extreme))"
   ]
  },
  {
   "cell_type": "code",
   "execution_count": 128,
   "metadata": {
    "ExecuteTime": {
     "end_time": "2018-10-26T16:19:35.744756Z",
     "start_time": "2018-10-26T16:19:35.725Z"
    }
   },
   "outputs": [
    {
     "data": {
      "text/html": [
       "0.707106781186548"
      ],
      "text/latex": [
       "0.707106781186548"
      ],
      "text/markdown": [
       "0.707106781186548"
      ],
      "text/plain": [
       "[1] 0.7071068"
      ]
     },
     "metadata": {},
     "output_type": "display_data"
    }
   ],
   "source": [
    "f(extreme)"
   ]
  },
  {
   "cell_type": "markdown",
   "metadata": {},
   "source": [
    "We double checked with Wolfram Alpha  https://www.wolframalpha.com/input/?i=(x-y)%2F(x%5E2+%2B+y%5E2+%2B1)"
   ]
  },
  {
   "cell_type": "code",
   "execution_count": 25,
   "metadata": {
    "ExecuteTime": {
     "end_time": "2018-10-25T19:31:09.819894Z",
     "start_time": "2018-10-25T19:31:09.751Z"
    }
   },
   "outputs": [
    {
     "data": {
      "text/html": [
       "<table>\n",
       "<tbody>\n",
       "\t<tr><td>7.071068e-01</td><td>1.110223e-16</td></tr>\n",
       "\t<tr><td>1.110223e-16</td><td>7.071068e-01</td></tr>\n",
       "</tbody>\n",
       "</table>\n"
      ],
      "text/latex": [
       "\\begin{tabular}{ll}\n",
       "\t 7.071068e-01 & 1.110223e-16\\\\\n",
       "\t 1.110223e-16 & 7.071068e-01\\\\\n",
       "\\end{tabular}\n"
      ],
      "text/markdown": [
       "\n",
       "| 7.071068e-01 | 1.110223e-16 | \n",
       "| 1.110223e-16 | 7.071068e-01 | \n",
       "\n",
       "\n"
      ],
      "text/plain": [
       "     [,1]         [,2]        \n",
       "[1,] 7.071068e-01 1.110223e-16\n",
       "[2,] 1.110223e-16 7.071068e-01"
      ]
     },
     "metadata": {},
     "output_type": "display_data"
    }
   ],
   "source": [
    "g <- function(x) {-(x[1]-x[2])/(x[1]**2+x[2]**2+1)}\n",
    "gradg <- function(x)\n",
    "    {\n",
    " .e1 <- -2*x[1]*(x[1] - x[2])/(x[1]**2 + x[2]**2 + 1)**2 + 1/(x[1]**2 + x[2]**2 + 1)\n",
    "    .e2 <- -2*x[2]*(x[1] - x[2])/(x[1]**2 + x[2]**2 + 1)**2 - 1/(x[1]**2 + x[2]**2 + 1)\n",
    "    c(-.e1,-.e2)\n",
    "}\n",
    "#gradg <- function (x) \n",
    "#{\n",
    "#    .e2 <- 1 + x[1]^2 + x[2]^2\n",
    "#    .e3 <- x[1] - x[2]\n",
    "#    c( -(1 - 2 * (x[1] * .e3/.e2))/.e2,  ((1 + 2 * (x[2] * .e3/.e2))/.e2))\n",
    "#}\n",
    "\n",
    "Hg <-function(x) \n",
    "{\n",
    "    \n",
    "    row1 <- c(8*x[1]**2*(x[1] - x[2])/(x[1]**2 + x[2]**2 + 1)**3 - 4*x[1]/(x[1]**2 + x[2]**2 + 1)**2 \n",
    "             - 2*(x[1] - x[2])/(x[1]**2 + x[2]**2 + 1)**2, \n",
    "             8*x[1]*x[2]*(x[1] - x[2])/(x[1]**2 + x[2]**2 + 1)**3 + 2*x[1]/(x[1]**2 + x[2]**2 + 1)**2 \n",
    "             - 2*x[2]/(x[1]**2 + x[2]**2 + 1)**2)\n",
    "\n",
    "    row2 <- c(8*x[1]*x[2]*(x[1] - x[2])/(x[1]**2 + x[2]**2 + 1)**3 + 2*x[1]/(x[1]**2 + x[2]**2 + 1)**2 \n",
    "             - 2*x[2]/(x[1]**2 + x[2]**2 + 1)**2, \n",
    "             8*x[2]**2*(x[1] - x[2])/(x[1]**2 + x[2]**2 + 1)**3 + 4*x[2]/(x[1]**2 + x[2]**2 + 1)**2 \n",
    "             - 2*(x[1] - x[2])/(x[1]**2 + x[2]**2 + 1)**2)\n",
    "    matrix(-c(row1,row2),nrow=2,ncol=2)\n",
    "}    \n",
    "    \n",
    "\n",
    "x0<- c(sqrt(2.)/2.,-sqrt(2.)/2.)\n",
    "Hg(x0)"
   ]
  },
  {
   "cell_type": "code",
   "execution_count": 32,
   "metadata": {},
   "outputs": [
    {
     "data": {
      "text/html": [
       "<ol class=list-inline>\n",
       "\t<li>0.707106781500079</li>\n",
       "\t<li>-0.707106781385883</li>\n",
       "</ol>\n"
      ],
      "text/latex": [
       "\\begin{enumerate*}\n",
       "\\item 0.707106781500079\n",
       "\\item -0.707106781385883\n",
       "\\end{enumerate*}\n"
      ],
      "text/markdown": [
       "1. 0.707106781500079\n",
       "2. -0.707106781385883\n",
       "\n",
       "\n"
      ],
      "text/plain": [
       "[1]  0.7071068 -0.7071068"
      ]
     },
     "metadata": {},
     "output_type": "display_data"
    }
   ],
   "source": [
    "\n",
    "descent(g,gradg,c(10,1))\n"
   ]
  },
  {
   "cell_type": "code",
   "execution_count": 27,
   "metadata": {
    "ExecuteTime": {
     "end_time": "2018-10-25T19:32:38.211687Z",
     "start_time": "2018-10-25T19:32:38.190Z"
    }
   },
   "outputs": [
    {
     "data": {
      "text/html": [
       "<ol class=list-inline>\n",
       "\t<li>0</li>\n",
       "\t<li>1</li>\n",
       "</ol>\n"
      ],
      "text/latex": [
       "\\begin{enumerate*}\n",
       "\\item 0\n",
       "\\item 1\n",
       "\\end{enumerate*}\n"
      ],
      "text/markdown": [
       "1. 0\n",
       "2. 1\n",
       "\n",
       "\n"
      ],
      "text/plain": [
       "[1] 0 1"
      ]
     },
     "metadata": {},
     "output_type": "display_data"
    }
   ],
   "source": [
    "descent(g,gradg,c(0,1))"
   ]
  },
  {
   "cell_type": "markdown",
   "metadata": {},
   "source": [
    "## Steepest Ascent\n",
    "\n",
    "![ascent](http://d.pr/i/6I6b+)\n"
   ]
  },
  {
   "cell_type": "markdown",
   "metadata": {},
   "source": [
    "\\begin{remark}\n",
    "Notice zig-zag pattern: direction of steepest ascent changes at each x\n",
    "\n",
    "Inefficient! How can we speed convergence?\n",
    "\n",
    "\\end{remark}\n"
   ]
  },
  {
   "cell_type": "markdown",
   "metadata": {},
   "source": [
    "## Newton's Method\n",
    "\n",
    "\n",
    "Recall that Newton's method uses second derivative information (Hessian, in multivariate terms). Adding second-order information about the function might speed convergence!\n",
    "\n",
    "Again, we seek $\\mathbf{x}^*$ such that $\\nabla f(\\mathbf{x}^*)=\\mathbf{0}$.\n",
    "\n",
    "Recall (hopefully), the Taylor expansion of $f$ about some point $\\mathbf{x}_0$:\n",
    "\n",
    "$f(\\mathbf{x}) = f(\\mathbf{x}_0) + (\\mathbf{x} - \\mathbf{x}_0)' \\nabla f(\\mathbf{x}) + \\frac{1}{2}(\\mathbf{x} - \\mathbf{x}_0)'H(\\mathbf{x})(\\mathbf{x} - \\mathbf{x}_0) + \\ldots$\n",
    "\n",
    "After some substitution and math, this becomes:\n",
    "\n",
    "$f(\\mathbf{x}) \\approx f(\\mathbf{x}_0) + \\alpha \\mathbf{v}' \\nabla f(\\mathbf{x}_0) + \\frac{1}{2}\\alpha^2 \\mathbf{v}' H(\\mathbf{x}_0)\\mathbf{v}$\n",
    "\n",
    "\n",
    "\n",
    "## Presenter Notes\n",
    "\n",
    "Taylor series is a representation of a function as an infinite sum of terms that are calculated from the values of the function's derivatives at a single point.\n"
   ]
  },
  {
   "cell_type": "markdown",
   "metadata": {},
   "source": [
    "## Newton's Method\n",
    "\n",
    "\n",
    "Take first-order partial derivatives on both sides, and set equal to $\\mathbf{0}$:\n",
    "\n",
    "$$\\nabla f(\\mathbf{x}) \\approx \\nabla f(\\mathbf{x}_0) + H(\\mathbf{x}_0)(\\mathbf{x}-\\mathbf{x}_0) = 0$$\n",
    "\n",
    "Solving for $\\mathbf{x}$ gives:\n",
    "\n",
    "$$\\mathbf{x} = \\mathbf{x}_0 - H(\\mathbf{x}_0)^{-1} \\nabla f(\\mathbf{x}_0)$$\n",
    "\n",
    "So, Newton's method is:\n",
    "\n",
    "$$\\mathbf{x}_{i+1} = \\mathbf{x}_i - H(\\mathbf{x}_i)^{-1} \\nabla f(\\mathbf{x}_i)$$\n",
    "\n",
    "If $f$ has local maximum at $\\mathbf{x}^*$, is \"well-behaved\" near $\\mathbf{x}^*$, and initial point $\\mathbf{x}_0$ is \"close enough\" to $\\mathbf{x}^*$, *Newton's method will converge*.\n",
    "\n",
    "## Presenter Notes\n",
    "\n",
    "\n",
    "Note that H(x) must be non-singular!\n"
   ]
  },
  {
   "cell_type": "markdown",
   "metadata": {},
   "source": [
    "\n",
    "`solve` function\n",
    "================\n",
    "\n",
    "Remember that the function `solve` in R is used to obtain the inverse of a matrix `a`:\n",
    "\n",
    "    !r\n",
    "    solve(a, b, ...)\n",
    "\n",
    "If you only pass the first matrix `a`, it will assume `b` to be the identity matrix, and so the solution to `ax = b` will be the inverse of `a`. More generally, this is solved by $a^{-1}b$, which is the term that we require to use Newton's method.\n",
    "\n",
    "Thus, we must pass the Hessian evaluated at $\\mathbf{x}$ and the gradient of $f$ evaluated at $\\mathbf{x}$ as the arguments to `solve`."
   ]
  },
  {
   "cell_type": "code",
   "execution_count": 33,
   "metadata": {
    "collapsed": true
   },
   "outputs": [],
   "source": [
    "## R Code\n",
    "\n",
    "# Here is an implementation of Newton's method in R:\n",
    "\n",
    "newton <- function(H, grad, x0, eps = 1e-9, max_iter = 100) {\n",
    "\n",
    "    x <- x0\n",
    "    gradx <- grad(x)\n",
    "    Hx <- H(x)\n",
    "    i <- 0\n",
    "    while ((max(abs(gradx)) > eps) && (i < max_iter)) {\n",
    "        x <- x - solve(Hx, gradx)\n",
    "        gradx <- grad(x)\n",
    "        Hx <- H(x)\n",
    "        i <- i + 1\n",
    "    }\n",
    "    if (i == max_iter) {\n",
    "        cat('newton failed to converge\\n')\n",
    "    } else {\n",
    "        return(x)\n",
    "    }\n",
    "}"
   ]
  },
  {
   "cell_type": "markdown",
   "metadata": {},
   "source": [
    "## Newton's Method\n",
    "\n",
    "\n",
    "![newton](http://cl.ly/S5YB/Screenshot%202012-10-14%20at%2015.09.48.png)"
   ]
  },
  {
   "cell_type": "code",
   "execution_count": 35,
   "metadata": {},
   "outputs": [
    {
     "data": {
      "text/html": [
       "<ol class=list-inline>\n",
       "\t<li>27639.6565322604</li>\n",
       "\t<li>-27639.6565322604</li>\n",
       "</ol>\n"
      ],
      "text/latex": [
       "\\begin{enumerate*}\n",
       "\\item 27639.6565322604\n",
       "\\item -27639.6565322604\n",
       "\\end{enumerate*}\n"
      ],
      "text/markdown": [
       "1. 27639.6565322604\n",
       "2. -27639.6565322604\n",
       "\n",
       "\n"
      ],
      "text/plain": [
       "[1]  27639.66 -27639.66"
      ]
     },
     "metadata": {},
     "output_type": "display_data"
    }
   ],
   "source": [
    "x0<-c(sqrt(2)/2.+1,-sqrt(2)/2.-1)\n",
    "newton(Hg,gradg,x0)"
   ]
  },
  {
   "cell_type": "code",
   "execution_count": 60,
   "metadata": {},
   "outputs": [
    {
     "name": "stderr",
     "output_type": "stream",
     "text": [
      "Installing package into '/home/nbuser/R'\n",
      "(as 'lib' is unspecified)\n",
      "Warning message:\n",
      "\"package 'stats' is not available (for R version 3.4.1)\"Warning message:\n",
      "\"package 'stats' is a base package, and should not be updated\""
     ]
    }
   ],
   "source": [
    "install.packages(\"stats\")"
   ]
  },
  {
   "cell_type": "code",
   "execution_count": 6,
   "metadata": {},
   "outputs": [
    {
     "data": {
      "image/png": "[encoded data removed]",
      "text/plain": [
       "Plot with title \"Perspective Plot of q\""
      ]
     },
     "metadata": {},
     "output_type": "display_data"
    }
   ],
   "source": [
    "library(base)\n",
    "q<- function(x,y) {x**2+y**2+1}\n",
    "x <- seq(-1, 1, length= 20)\n",
    "y <- seq(-1, 1, length= 20)\n",
    "z <- outer(x,y,  q)\n",
    "persp(x, y, z,\n",
    "main=\"Perspective Plot of q\",\n",
    "zlab = \"Height\",\n",
    "theta = 30, phi = 15,\n",
    "col = \"springgreen\", shade = 0.5)"
   ]
  },
  {
   "cell_type": "code",
   "execution_count": 36,
   "metadata": {},
   "outputs": [
    {
     "data": {
      "text/html": [
       "<ol class=list-inline>\n",
       "\t<li>0</li>\n",
       "\t<li>0</li>\n",
       "</ol>\n"
      ],
      "text/latex": [
       "\\begin{enumerate*}\n",
       "\\item 0\n",
       "\\item 0\n",
       "\\end{enumerate*}\n"
      ],
      "text/markdown": [
       "1. 0\n",
       "2. 0\n",
       "\n",
       "\n"
      ],
      "text/plain": [
       "[1] 0 0"
      ]
     },
     "metadata": {},
     "output_type": "display_data"
    },
    {
     "data": {
      "text/html": [
       "<ol class=list-inline>\n",
       "\t<li>-6.28291040920546e-09</li>\n",
       "\t<li>-6.28291040920546e-09</li>\n",
       "</ol>\n"
      ],
      "text/latex": [
       "\\begin{enumerate*}\n",
       "\\item -6.28291040920546e-09\n",
       "\\item -6.28291040920546e-09\n",
       "\\end{enumerate*}\n"
      ],
      "text/markdown": [
       "1. -6.28291040920546e-09\n",
       "2. -6.28291040920546e-09\n",
       "\n",
       "\n"
      ],
      "text/plain": [
       "[1] -6.28291e-09 -6.28291e-09"
      ]
     },
     "metadata": {},
     "output_type": "display_data"
    },
    {
     "data": {
      "text/html": [
       "<table>\n",
       "<thead><tr><th></th><th scope=col>p1</th><th scope=col>p2</th><th scope=col>value</th><th scope=col>fevals</th><th scope=col>gevals</th><th scope=col>niter</th><th scope=col>convcode</th><th scope=col>kkt1</th><th scope=col>kkt2</th><th scope=col>xtimes</th></tr></thead>\n",
       "<tbody>\n",
       "\t<tr><th scope=row>BFGS</th><td>-2.220446e-16</td><td>-2.220446e-16</td><td>1            </td><td>4            </td><td>3            </td><td>NA           </td><td>0            </td><td>TRUE         </td><td>TRUE         </td><td>0.001        </td></tr>\n",
       "</tbody>\n",
       "</table>\n"
      ],
      "text/latex": [
       "\\begin{tabular}{r|llllllllll}\n",
       "  & p1 & p2 & value & fevals & gevals & niter & convcode & kkt1 & kkt2 & xtimes\\\\\n",
       "\\hline\n",
       "\tBFGS & -2.220446e-16 & -2.220446e-16 & 1             & 4             & 3             & NA            & 0             & TRUE          & TRUE          & 0.001        \\\\\n",
       "\\end{tabular}\n"
      ],
      "text/markdown": [
       "\n",
       "| <!--/--> | p1 | p2 | value | fevals | gevals | niter | convcode | kkt1 | kkt2 | xtimes | \n",
       "|---|\n",
       "| BFGS | -2.220446e-16 | -2.220446e-16 | 1             | 4             | 3             | NA            | 0             | TRUE          | TRUE          | 0.001         | \n",
       "\n",
       "\n"
      ],
      "text/plain": [
       "     p1            p2            value fevals gevals niter convcode kkt1 kkt2\n",
       "BFGS -2.220446e-16 -2.220446e-16 1     4      3      NA    0        TRUE TRUE\n",
       "     xtimes\n",
       "BFGS 0.001 "
      ]
     },
     "metadata": {},
     "output_type": "display_data"
    }
   ],
   "source": [
    "# Testing the algorithms (check them for known solutions)\n",
    "library(optimx)\n",
    "w <- function(x) {(x[1]**2+x[2]**2)+1}\n",
    "gradw <- function(x) {\n",
    "    c(2*x[1],2*x[2])\n",
    "}\n",
    "Hw <- function(x) {\n",
    "    matrix(c(2,0,0,2),nrow = 2,ncol=2)\n",
    "}\n",
    "\n",
    "x0=c(1,1)\n",
    "newton(Hw,gradw,x0)\n",
    "descent(w,gradw,x0)\n",
    "res <- optimx(x0,w , gradw, method = \"BFGS\")\n",
    "res"
   ]
  },
  {
   "cell_type": "code",
   "execution_count": 38,
   "metadata": {},
   "outputs": [
    {
     "data": {
      "text/html": [
       "<ol class=list-inline>\n",
       "\t<li>0.707106781179254</li>\n",
       "\t<li>-0.707106781179254</li>\n",
       "</ol>\n"
      ],
      "text/latex": [
       "\\begin{enumerate*}\n",
       "\\item 0.707106781179254\n",
       "\\item -0.707106781179254\n",
       "\\end{enumerate*}\n"
      ],
      "text/markdown": [
       "1. 0.707106781179254\n",
       "2. -0.707106781179254\n",
       "\n",
       "\n"
      ],
      "text/plain": [
       "[1]  0.7071068 -0.7071068"
      ]
     },
     "metadata": {},
     "output_type": "display_data"
    },
    {
     "data": {
      "text/plain": [
       "   user  system elapsed \n",
       "  0.007   0.000   0.007 "
      ]
     },
     "metadata": {},
     "output_type": "display_data"
    },
    {
     "data": {
      "text/html": [
       "<ol class=list-inline>\n",
       "\t<li>0.707106781229261</li>\n",
       "\t<li>-0.707106781229261</li>\n",
       "</ol>\n"
      ],
      "text/latex": [
       "\\begin{enumerate*}\n",
       "\\item 0.707106781229261\n",
       "\\item -0.707106781229261\n",
       "\\end{enumerate*}\n"
      ],
      "text/markdown": [
       "1. 0.707106781229261\n",
       "2. -0.707106781229261\n",
       "\n",
       "\n"
      ],
      "text/plain": [
       "[1]  0.7071068 -0.7071068"
      ]
     },
     "metadata": {},
     "output_type": "display_data"
    },
    {
     "data": {
      "text/plain": [
       "    user   system  elapsed \n",
       "   6.856    1.119 8889.399 "
      ]
     },
     "metadata": {},
     "output_type": "display_data"
    },
    {
     "data": {
      "text/html": [
       "<table>\n",
       "<thead><tr><th></th><th scope=col>p1</th><th scope=col>p2</th><th scope=col>value</th><th scope=col>fevals</th><th scope=col>gevals</th><th scope=col>niter</th><th scope=col>convcode</th><th scope=col>kkt1</th><th scope=col>kkt2</th><th scope=col>xtimes</th></tr></thead>\n",
       "<tbody>\n",
       "\t<tr><th scope=row>BFGS</th><td>0.7071068 </td><td>-0.7071068</td><td>-0.7071068</td><td>16        </td><td>8         </td><td>NA        </td><td>0         </td><td>TRUE      </td><td>TRUE      </td><td>0.001     </td></tr>\n",
       "</tbody>\n",
       "</table>\n"
      ],
      "text/latex": [
       "\\begin{tabular}{r|llllllllll}\n",
       "  & p1 & p2 & value & fevals & gevals & niter & convcode & kkt1 & kkt2 & xtimes\\\\\n",
       "\\hline\n",
       "\tBFGS & 0.7071068  & -0.7071068 & -0.7071068 & 16         & 8          & NA         & 0          & TRUE       & TRUE       & 0.001     \\\\\n",
       "\\end{tabular}\n"
      ],
      "text/markdown": [
       "\n",
       "| <!--/--> | p1 | p2 | value | fevals | gevals | niter | convcode | kkt1 | kkt2 | xtimes | \n",
       "|---|\n",
       "| BFGS | 0.7071068  | -0.7071068 | -0.7071068 | 16         | 8          | NA         | 0          | TRUE       | TRUE       | 0.001      | \n",
       "\n",
       "\n"
      ],
      "text/plain": [
       "     p1        p2         value      fevals gevals niter convcode kkt1 kkt2\n",
       "BFGS 0.7071068 -0.7071068 -0.7071068 16     8      NA    0        TRUE TRUE\n",
       "     xtimes\n",
       "BFGS 0.001 "
      ]
     },
     "metadata": {},
     "output_type": "display_data"
    },
    {
     "data": {
      "text/plain": [
       "   user  system elapsed \n",
       "  0.899   0.000   0.899 "
      ]
     },
     "metadata": {},
     "output_type": "display_data"
    },
    {
     "data": {
      "text/html": [
       "<table>\n",
       "<thead><tr><th></th><th scope=col>p1</th><th scope=col>p2</th><th scope=col>value</th><th scope=col>fevals</th><th scope=col>gevals</th><th scope=col>niter</th><th scope=col>convcode</th><th scope=col>kkt1</th><th scope=col>kkt2</th><th scope=col>xtimes</th></tr></thead>\n",
       "<tbody>\n",
       "\t<tr><th scope=row>Nelder-Mead</th><td>0.7070159 </td><td>-0.7070591</td><td>-0.7071068</td><td>49        </td><td>NA        </td><td>NA        </td><td>0         </td><td>TRUE      </td><td>TRUE      </td><td>0.001     </td></tr>\n",
       "\t<tr><th scope=row>BFGS</th><td>0.7071071 </td><td>-0.7071071</td><td>-0.7071068</td><td>17        </td><td> 8        </td><td>NA        </td><td>0         </td><td>TRUE      </td><td>TRUE      </td><td>0.000     </td></tr>\n",
       "</tbody>\n",
       "</table>\n"
      ],
      "text/latex": [
       "\\begin{tabular}{r|llllllllll}\n",
       "  & p1 & p2 & value & fevals & gevals & niter & convcode & kkt1 & kkt2 & xtimes\\\\\n",
       "\\hline\n",
       "\tNelder-Mead & 0.7070159  & -0.7070591 & -0.7071068 & 49         & NA         & NA         & 0          & TRUE       & TRUE       & 0.001     \\\\\n",
       "\tBFGS & 0.7071071  & -0.7071071 & -0.7071068 & 17         &  8         & NA         & 0          & TRUE       & TRUE       & 0.000     \\\\\n",
       "\\end{tabular}\n"
      ],
      "text/markdown": [
       "\n",
       "| <!--/--> | p1 | p2 | value | fevals | gevals | niter | convcode | kkt1 | kkt2 | xtimes | \n",
       "|---|---|\n",
       "| Nelder-Mead | 0.7070159  | -0.7070591 | -0.7071068 | 49         | NA         | NA         | 0          | TRUE       | TRUE       | 0.001      | \n",
       "| BFGS | 0.7071071  | -0.7071071 | -0.7071068 | 17         |  8         | NA         | 0          | TRUE       | TRUE       | 0.000      | \n",
       "\n",
       "\n"
      ],
      "text/plain": [
       "            p1        p2         value      fevals gevals niter convcode kkt1\n",
       "Nelder-Mead 0.7070159 -0.7070591 -0.7071068 49     NA     NA    0        TRUE\n",
       "BFGS        0.7071071 -0.7071071 -0.7071068 17      8     NA    0        TRUE\n",
       "            kkt2 xtimes\n",
       "Nelder-Mead TRUE 0.001 \n",
       "BFGS        TRUE 0.000 "
      ]
     },
     "metadata": {},
     "output_type": "display_data"
    },
    {
     "data": {
      "text/plain": [
       "    user   system  elapsed \n",
       "   6.956    1.119 8889.499 "
      ]
     },
     "metadata": {},
     "output_type": "display_data"
    }
   ],
   "source": [
    "x0=c(1,-1)\n",
    "pmt <- proc.time()\n",
    "newton(Hg,gradg,x0)\n",
    "pmt1 <- proc.time()-pmt\n",
    "pmt1\n",
    "descent(g,gradg,x0)\n",
    "pmt2 <- proc.time() - pmt1\n",
    "pmt2\n",
    "optimx(x0,g , gradg, method = \"BFGS\")\n",
    "pmt3 <- proc.time()-pmt2\n",
    "pmt3\n",
    "optimx(x0,g)\n",
    "pmt4 <- proc.time() - pmt3\n",
    "pmt4\n",
    "\n",
    "\n"
   ]
  },
  {
   "cell_type": "code",
   "execution_count": 26,
   "metadata": {},
   "outputs": [
    {
     "data": {
      "text/html": [
       "<ol class=list-inline>\n",
       "\t<li>51979.0329564445</li>\n",
       "\t<li>-20127.0565966695</li>\n",
       "</ol>\n"
      ],
      "text/latex": [
       "\\begin{enumerate*}\n",
       "\\item 51979.0329564445\n",
       "\\item -20127.0565966695\n",
       "\\end{enumerate*}\n"
      ],
      "text/markdown": [
       "1. 51979.0329564445\n",
       "2. -20127.0565966695\n",
       "\n",
       "\n"
      ],
      "text/plain": [
       "[1]  51979.03 -20127.06"
      ]
     },
     "metadata": {},
     "output_type": "display_data"
    },
    {
     "data": {
      "text/plain": [
       "   user  system elapsed \n",
       "  0.007   0.000   0.006 "
      ]
     },
     "metadata": {},
     "output_type": "display_data"
    },
    {
     "data": {
      "text/html": [
       "<ol class=list-inline>\n",
       "\t<li>0.707106781719869</li>\n",
       "\t<li>-0.707106781233088</li>\n",
       "</ol>\n"
      ],
      "text/latex": [
       "\\begin{enumerate*}\n",
       "\\item 0.707106781719869\n",
       "\\item -0.707106781233088\n",
       "\\end{enumerate*}\n"
      ],
      "text/markdown": [
       "1. 0.707106781719869\n",
       "2. -0.707106781233088\n",
       "\n",
       "\n"
      ],
      "text/plain": [
       "[1]  0.7071068 -0.7071068"
      ]
     },
     "metadata": {},
     "output_type": "display_data"
    },
    {
     "data": {
      "text/plain": [
       "    user   system  elapsed \n",
       "  10.411    1.634 3392.368 "
      ]
     },
     "metadata": {},
     "output_type": "display_data"
    },
    {
     "name": "stderr",
     "output_type": "stream",
     "text": [
      "Warning message in optimx.run(par, optcfg$ufn, optcfg$ugr, optcfg$uhess, lower, :\n",
      "\"Hessian is reported non-symmetric with asymmetry ratio 8.24659034561329e-12\"Warning message:\n",
      "\"Hessian forced symmetric\""
     ]
    },
    {
     "data": {
      "text/html": [
       "<table>\n",
       "<thead><tr><th></th><th scope=col>p1</th><th scope=col>p2</th><th scope=col>value</th><th scope=col>fevals</th><th scope=col>gevals</th><th scope=col>niter</th><th scope=col>convcode</th><th scope=col>kkt1</th><th scope=col>kkt2</th><th scope=col>xtimes</th></tr></thead>\n",
       "<tbody>\n",
       "\t<tr><th scope=row>BFGS</th><td>0.7071083 </td><td>-0.7071075</td><td>-0.7071068</td><td>19        </td><td>11        </td><td>NA        </td><td>0         </td><td>TRUE      </td><td>NA        </td><td>0         </td></tr>\n",
       "</tbody>\n",
       "</table>\n"
      ],
      "text/latex": [
       "\\begin{tabular}{r|llllllllll}\n",
       "  & p1 & p2 & value & fevals & gevals & niter & convcode & kkt1 & kkt2 & xtimes\\\\\n",
       "\\hline\n",
       "\tBFGS & 0.7071083  & -0.7071075 & -0.7071068 & 19         & 11         & NA         & 0          & TRUE       & NA         & 0         \\\\\n",
       "\\end{tabular}\n"
      ],
      "text/markdown": [
       "\n",
       "| <!--/--> | p1 | p2 | value | fevals | gevals | niter | convcode | kkt1 | kkt2 | xtimes | \n",
       "|---|\n",
       "| BFGS | 0.7071083  | -0.7071075 | -0.7071068 | 19         | 11         | NA         | 0          | TRUE       | NA         | 0          | \n",
       "\n",
       "\n"
      ],
      "text/plain": [
       "     p1        p2         value      fevals gevals niter convcode kkt1 kkt2\n",
       "BFGS 0.7071083 -0.7071075 -0.7071068 19     11     NA    0        TRUE NA  \n",
       "     xtimes\n",
       "BFGS 0     "
      ]
     },
     "metadata": {},
     "output_type": "display_data"
    },
    {
     "data": {
      "text/plain": [
       "   user  system elapsed \n",
       "  0.083   0.000   0.082 "
      ]
     },
     "metadata": {},
     "output_type": "display_data"
    },
    {
     "data": {
      "text/html": [
       "<table>\n",
       "<thead><tr><th></th><th scope=col>p1</th><th scope=col>p2</th><th scope=col>value</th><th scope=col>fevals</th><th scope=col>gevals</th><th scope=col>niter</th><th scope=col>convcode</th><th scope=col>kkt1</th><th scope=col>kkt2</th><th scope=col>xtimes</th></tr></thead>\n",
       "<tbody>\n",
       "\t<tr><th scope=row>Nelder-Mead</th><td>0.7070382 </td><td>-0.7071353</td><td>-0.7071068</td><td>57        </td><td>NA        </td><td>NA        </td><td>0         </td><td>TRUE      </td><td>TRUE      </td><td>0         </td></tr>\n",
       "\t<tr><th scope=row>BFGS</th><td>0.7071088 </td><td>-0.7071077</td><td>-0.7071068</td><td>20        </td><td>11        </td><td>NA        </td><td>0         </td><td>TRUE      </td><td>TRUE      </td><td>0         </td></tr>\n",
       "</tbody>\n",
       "</table>\n"
      ],
      "text/latex": [
       "\\begin{tabular}{r|llllllllll}\n",
       "  & p1 & p2 & value & fevals & gevals & niter & convcode & kkt1 & kkt2 & xtimes\\\\\n",
       "\\hline\n",
       "\tNelder-Mead & 0.7070382  & -0.7071353 & -0.7071068 & 57         & NA         & NA         & 0          & TRUE       & TRUE       & 0         \\\\\n",
       "\tBFGS & 0.7071088  & -0.7071077 & -0.7071068 & 20         & 11         & NA         & 0          & TRUE       & TRUE       & 0         \\\\\n",
       "\\end{tabular}\n"
      ],
      "text/markdown": [
       "\n",
       "| <!--/--> | p1 | p2 | value | fevals | gevals | niter | convcode | kkt1 | kkt2 | xtimes | \n",
       "|---|---|\n",
       "| Nelder-Mead | 0.7070382  | -0.7071353 | -0.7071068 | 57         | NA         | NA         | 0          | TRUE       | TRUE       | 0          | \n",
       "| BFGS | 0.7071088  | -0.7071077 | -0.7071068 | 20         | 11         | NA         | 0          | TRUE       | TRUE       | 0          | \n",
       "\n",
       "\n"
      ],
      "text/plain": [
       "            p1        p2         value      fevals gevals niter convcode kkt1\n",
       "Nelder-Mead 0.7070382 -0.7071353 -0.7071068 57     NA     NA    0        TRUE\n",
       "BFGS        0.7071088 -0.7071077 -0.7071068 20     11     NA    0        TRUE\n",
       "            kkt2 xtimes\n",
       "Nelder-Mead TRUE 0     \n",
       "BFGS        TRUE 0     "
      ]
     },
     "metadata": {},
     "output_type": "display_data"
    },
    {
     "data": {
      "text/plain": [
       "    user   system  elapsed \n",
       "  10.531    1.634 3392.488 "
      ]
     },
     "metadata": {},
     "output_type": "display_data"
    }
   ],
   "source": [
    "# dependence of Newton from initial guess of the minimizer\n",
    "\n",
    "x0=c(2,-1)\n",
    "pmt <- proc.time()\n",
    "newton(Hg,gradg,x0)\n",
    "pmt1 <- proc.time()-pmt\n",
    "pmt1\n",
    "descent(g,gradg,x0)\n",
    "pmt2 <- proc.time() - pmt1\n",
    "pmt2\n",
    "optimx(x0,g , gradg, method = \"BFGS\")\n",
    "pmt3 <- proc.time()-pmt2\n",
    "pmt3\n",
    "optimx(x0,g)\n",
    "pmt4 <- proc.time() - pmt3\n",
    "pmt4\n"
   ]
  },
  {
   "cell_type": "code",
   "execution_count": 1,
   "metadata": {},
   "outputs": [
    {
     "name": "stdout",
     "output_type": "stream",
     "text": [
      "displays the function in latex form \\frac{x - y}{x^{2} + y^{2} + 1}\n",
      "displays the function if python form (x - y)/(x**2 + y**2 + 1)\n",
      "displays the gradient of f [-2*x*(x - y)/(x**2 + y**2 + 1)**2 + 1/(x**2 + y**2 + 1), -2*y*(x - y)/(x**2 + y**2 + 1)**2 - 1/(x**2 + y**2 + 1)]\n",
      "displays the extreme point found [(-sqrt(2)/2, sqrt(2)/2), (-sqrt(2)/2, sqrt(2)/2), (sqrt(2)/2, -sqrt(2)/2), (sqrt(2)/2, -sqrt(2)/2)]\n"
     ]
    }
   ],
   "source": [
    "# Finds the critical point of a given function \"symbolically\" (analytically)\n",
    "from sympy import *\n",
    "x=Symbol('x')\n",
    "y=Symbol('y')\n",
    "f=(x-y)/(x**2+y**2+1)\n",
    "print ('displays the function in latex form',latex(f))\n",
    "print ('displays the function if python form', f)\n",
    "f.diff(x)# finds the partial derivative of f with respect to x\n",
    "f.diff(y) # finds the partial derivative of f with respect to y\n",
    "fgrad=[f.diff(x),f.diff(y)] # gradient of f\n",
    "print ('displays the gradient of f', fgrad)\n",
    "xopt=solve(fgrad,[x,y]) # solves the necessary equations for finding the extreme points\n",
    "print ('displays the extreme point found',xopt)"
   ]
  },
  {
   "cell_type": "code",
   "execution_count": 2,
   "metadata": {},
   "outputs": [
    {
     "name": "stdout",
     "output_type": "stream",
     "text": [
      "hessian Matrix([[8*x**2*(x - y)/(x**2 + y**2 + 1)**3 - 4*x/(x**2 + y**2 + 1)**2 - 2*(x - y)/(x**2 + y**2 + 1)**2, 8*x*y*(x - y)/(x**2 + y**2 + 1)**3 + 2*x/(x**2 + y**2 + 1)**2 - 2*y/(x**2 + y**2 + 1)**2], [8*x*y*(x - y)/(x**2 + y**2 + 1)**3 + 2*x/(x**2 + y**2 + 1)**2 - 2*y/(x**2 + y**2 + 1)**2, 8*y**2*(x - y)/(x**2 + y**2 + 1)**3 + 4*y/(x**2 + y**2 + 1)**2 - 2*(x - y)/(x**2 + y**2 + 1)**2]])\n",
      "displays the Hessian of f Matrix([[-0.707106781186547, -4.83364665672646e-17], [-4.83364665672646e-17, -0.707106781186547]])\n",
      "Displays the eigenvalues and their multiplicity {-3535533905932734758317667163677/5000000000000000000000000000000: 1, -3535533905932735241682332836323/5000000000000000000000000000000: 1}\n",
      "Displays the eigenvalues, multiplicity, and basis [(-0.707106781186547, 1, [Matrix([\n",
      "[1.0],\n",
      "[1.0]])]), (-0.707106781186547, 1, [Matrix([\n",
      "[-1.0],\n",
      "[ 1.0]])])]\n"
     ]
    }
   ],
   "source": [
    "\"\"\" Identify the type of critical point (maximum, minimum, sandle) by computing the Hessian \n",
    "at the critical point and finding its  eigenvalues and eigenvectors \"\"\"\n",
    "H=hessian(f,[x,y])\n",
    "print ('hessian',H)\n",
    "H=hessian(f,[x,y]).evalf(subs=({x:sqrt(2.)/2.,y:-sqrt(2.)/2.}))\n",
    "print ('displays the Hessian of f',H)\n",
    "#Computes the eigenvalues of H\n",
    "HE=H.eigenvals()\n",
    "print ('Displays the eigenvalues and their multiplicity', HE)\n",
    "#Computes the eigenvectors of H\n",
    "HEV=H.eigenvects()\n",
    "print ('Displays the eigenvalues, multiplicity, and basis',HEV)"
   ]
  },
  {
   "cell_type": "markdown",
   "metadata": {},
   "source": [
    "\\begin{exercise}\n",
    "Identify the critical points and the type of extreme values of the function $$f(x,y) = (x+y)(xy+xy^2)$$\n",
    "\\end{exercise}\n"
   ]
  },
  {
   "cell_type": "code",
   "execution_count": 58,
   "metadata": {
    "ExecuteTime": {
     "end_time": "2018-10-26T17:08:38.400926Z",
     "start_time": "2018-10-26T17:08:38.396937Z"
    }
   },
   "outputs": [],
   "source": [
    "#helper function to see the signs of the hessian's eigenvalues\n",
    "def eigensign(HE):\n",
    "    for i in range(0,len(list(HE.keys()))):\n",
    "        print('Eigenvalue',i+1,'is')\n",
    "        if(list(HE.keys())[i] > 0 ):\n",
    "            print('positive')      \n",
    "        elif(list(HE.keys())[i]==0):\n",
    "            print('zero')     \n",
    "        else:\n",
    "            print('negative')\n",
    "\n"
   ]
  },
  {
   "cell_type": "code",
   "execution_count": 1,
   "metadata": {
    "ExecuteTime": {
     "end_time": "2018-10-26T16:31:46.024026Z",
     "start_time": "2018-10-26T16:31:43.969520Z"
    }
   },
   "outputs": [
    {
     "data": {
      "text/plain": [
       "[(0, -1), (0, 0), (3/8, -3/4), (1, -1)]"
      ]
     },
     "execution_count": 1,
     "metadata": {},
     "output_type": "execute_result"
    }
   ],
   "source": [
    "from sympy import *\n",
    "x=Symbol('x')\n",
    "y=Symbol('y')\n",
    "\n",
    "f=(x+y)*(x*y+x*y**2)\n",
    "\n",
    "fgrad=[f.diff(x),f.diff(y)]\n",
    "xopt=solve(fgrad,[x,y])\n",
    "xopt\n"
   ]
  },
  {
   "cell_type": "markdown",
   "metadata": {},
   "source": [
    "1st critical point :   (0, -1) "
   ]
  },
  {
   "cell_type": "code",
   "execution_count": 59,
   "metadata": {
    "ExecuteTime": {
     "end_time": "2018-10-26T17:08:53.117547Z",
     "start_time": "2018-10-26T17:08:53.105578Z"
    }
   },
   "outputs": [
    {
     "name": "stdout",
     "output_type": "stream",
     "text": [
      "hessian Matrix([[2*y**2 + 2*y, 2*x*y + x + y**2 + y + (x + y)*(2*y + 1)], [2*x*y + x + y**2 + y + (x + y)*(2*y + 1), 4*x*y + 2*x*(x + y) + 2*x]])\n",
      "displays the Hessian of f Matrix([[0.e-125, 1.00000000000000], [1.00000000000000, 0]])\n",
      "Displays the eigenvalues and their multiplicity {-sqrt(1789931494904685075276173995854677405670108698260665783090090606394441500334556509959080266614039273464334969326187482504649803797317086043777814127597786226282054644248700756391675078842436173515315000514484077967245659600421098975959924194154643457)/42307582002575910332922579714097346549017899709713998034217522897561970639123926132812109468141778230245837569601494931472384 + 1/42307582002575910332922579714097346549017899709713998034217522897561970639123926132812109468141778230245837569601494931472384: 1, 1/42307582002575910332922579714097346549017899709713998034217522897561970639123926132812109468141778230245837569601494931472384 + sqrt(1789931494904685075276173995854677405670108698260665783090090606394441500334556509959080266614039273464334969326187482504649803797317086043777814127597786226282054644248700756391675078842436173515315000514484077967245659600421098975959924194154643457)/42307582002575910332922579714097346549017899709713998034217522897561970639123926132812109468141778230245837569601494931472384: 1}\n",
      "Eigenvalue 1 is\n",
      "negative\n",
      "Eigenvalue 2 is\n",
      "positive\n"
     ]
    }
   ],
   "source": [
    "\"\"\" Identify the type of critical point (maximum, minimum, sandle) by computing the Hessian \n",
    "at the critical point and finding its  eigenvalues and eigenvectors \"\"\"\n",
    "H=hessian(f,[x,y])\n",
    "print ('hessian',H)\n",
    "H=hessian(f,[x,y]).evalf(subs=({x:0,y:-1}))\n",
    "print ('displays the Hessian of f',H)\n",
    "#Computes the eigenvalues of H\n",
    "HE=H.eigenvals()\n",
    "print ('Displays the eigenvalues and their multiplicity', HE)\n",
    "eigensign(HE)"
   ]
  },
  {
   "cell_type": "markdown",
   "metadata": {},
   "source": [
    "2nd critical point :  (0, 0)"
   ]
  },
  {
   "cell_type": "code",
   "execution_count": 60,
   "metadata": {
    "ExecuteTime": {
     "end_time": "2018-10-26T17:09:13.288497Z",
     "start_time": "2018-10-26T17:09:13.283511Z"
    }
   },
   "outputs": [
    {
     "name": "stdout",
     "output_type": "stream",
     "text": [
      "displays the Hessian of f Matrix([[0, 0], [0, 0]])\n",
      "Displays the eigenvalues and their multiplicity {0: 2}\n",
      "Eigenvalue 1 is\n",
      "zero\n"
     ]
    }
   ],
   "source": [
    "H=hessian(f,[x,y]).evalf(subs=({x:0,y:0}))\n",
    "print ('displays the Hessian of f',H)\n",
    "#Computes the eigenvalues of H\n",
    "HE=H.eigenvals()\n",
    "print ('Displays the eigenvalues and their multiplicity', HE)\n",
    "eigensign(HE)"
   ]
  },
  {
   "cell_type": "markdown",
   "metadata": {},
   "source": [
    "3rd critical point :  (3/8, -3/4)"
   ]
  },
  {
   "cell_type": "code",
   "execution_count": 61,
   "metadata": {
    "ExecuteTime": {
     "end_time": "2018-10-26T17:09:20.347962Z",
     "start_time": "2018-10-26T17:09:20.335994Z"
    }
   },
   "outputs": [
    {
     "name": "stdout",
     "output_type": "stream",
     "text": [
      "displays the Hessian of f Matrix([[-0.375000000000000, -0.187500000000000], [-0.187500000000000, -0.656250000000000]])\n",
      "Displays the eigenvalues and their multiplicity {-3/4: 1, -9/32: 1}\n",
      "Eigenvalue 1 is\n",
      "negative\n",
      "Eigenvalue 2 is\n",
      "negative\n"
     ]
    }
   ],
   "source": [
    "H=hessian(f,[x,y]).evalf(subs=({x:3/8,y:-3/4}))\n",
    "print ('displays the Hessian of f',H)\n",
    "#Computes the eigenvalues of H\n",
    "HE=H.eigenvals()\n",
    "print ('Displays the eigenvalues and their multiplicity', HE)\n",
    "eigensign(HE)"
   ]
  },
  {
   "cell_type": "markdown",
   "metadata": {},
   "source": [
    "4th and final critical point : (1, -1)"
   ]
  },
  {
   "cell_type": "code",
   "execution_count": 62,
   "metadata": {
    "ExecuteTime": {
     "end_time": "2018-10-26T17:09:38.258262Z",
     "start_time": "2018-10-26T17:09:38.246294Z"
    }
   },
   "outputs": [
    {
     "name": "stdout",
     "output_type": "stream",
     "text": [
      "displays the Hessian of f Matrix([[0.e-125, -1.00000000000000], [-1.00000000000000, -2.00000000000000]])\n",
      "Displays the eigenvalues and their multiplicity {-sqrt(3579862989809370150552347991709354811340217396521331566180181212788883000669113019918160533228078546928669938652374965009299692209798177239376294100355000647257207324296820940779418592730667470971908248881233780153427602757302689627059051378172231681)/42307582002575910332922579714097346549017899709713998034217522897561970639123926132812109468141778230245837569601494931472384 - 42307582002575910332922579714097346549017899709713998034217522897561970639123926132812109468141778230245837569601494931472383/42307582002575910332922579714097346549017899709713998034217522897561970639123926132812109468141778230245837569601494931472384: 1, -42307582002575910332922579714097346549017899709713998034217522897561970639123926132812109468141778230245837569601494931472383/42307582002575910332922579714097346549017899709713998034217522897561970639123926132812109468141778230245837569601494931472384 + sqrt(3579862989809370150552347991709354811340217396521331566180181212788883000669113019918160533228078546928669938652374965009299692209798177239376294100355000647257207324296820940779418592730667470971908248881233780153427602757302689627059051378172231681)/42307582002575910332922579714097346549017899709713998034217522897561970639123926132812109468141778230245837569601494931472384: 1}\n",
      "Eigenvalue 1 is\n",
      "negative\n",
      "Eigenvalue 2 is\n",
      "positive\n"
     ]
    }
   ],
   "source": [
    "H=hessian(f,[x,y]).evalf(subs=({x:1,y:-1}))\n",
    "print ('displays the Hessian of f',H)\n",
    "#Computes the eigenvalues of H\n",
    "HE=H.eigenvals()\n",
    "print ('Displays the eigenvalues and their multiplicity', HE)\n",
    "eigensign(HE)"
   ]
  },
  {
   "cell_type": "markdown",
   "metadata": {},
   "source": [
    "We can conclude that:  \n",
    "* At (0, -1) we have a saddle point because the eigenvalues have opposite signs.\n",
    "* At (3/8, -3/4) we have a maximum because the eigenvalues are negative.\n",
    "* At (1, -1) we have a saddle point because the eigenvalues have opposite signs.\n",
    "* At (0,0) we dont know what is going on because the eigenvalues are zero.We need more information (its actually a saddle point according to Wolfram Alpha)"
   ]
  },
  {
   "cell_type": "markdown",
   "metadata": {},
   "source": [
    "# Why optimization in ML?"
   ]
  },
  {
   "cell_type": "markdown",
   "metadata": {},
   "source": [
    "## Context: Logistic Regression\n",
    "============================\n",
    "\n",
    "Logistic regression models binary outcomes as a function of zero or more covariates.\n",
    "\n",
    "$$y_i \\in \\{0,1\\}$$\n",
    "\n",
    "$$\\begin{aligned}f(\\mathbf{x}) &= g(\\mathbf{\\theta}'\\mathbf{x}) = g(\\theta_0 + \\theta_1 x_1 + \\ldots + \\theta_k x_k) \\cr\n",
    "&= \\text{logit}(\\mathbf{\\theta}'\\mathbf{x}) \\cr\n",
    "&= \\frac{1}{1+e^{-\\mathbf{\\theta}'\\mathbf{x}}} \\cr\n",
    "&= Pr(y=1 | \\mathbf{x}, \\mathbf{\\theta}) = p\n",
    "\\end{aligned}$$\n",
    "\n",
    "Hence,\n",
    "\n",
    "$$Pr(y=0 | \\mathbf{x}, \\mathbf{\\theta}) = 1 - f(\\mathbf{x})$$\n"
   ]
  },
  {
   "cell_type": "markdown",
   "metadata": {},
   "source": [
    "## Likelihood Function\n",
    "===================\n",
    "\n",
    "The likelihood function describes how likely a set of possible parameter values are, given a set of observed outcomes. The value of the likelihood function for a given parameter value is equal to the probability of the observations, given that parameter value.\n",
    "\n",
    "For logistic regression,\n",
    "\n",
    "$$L(\\theta) = p^y + (1-p)^{1-y}$$\n",
    "\n",
    "which is identical to the Bernoulli probability mass function.\n",
    "\n",
    "We want to select suitable values for the logistic regression parameters. A reasonable choice is to select $\\mathbf{\\theta}$ that maximize the likelihood function.\n",
    "\n",
    "For ordinary multivariate regression, this is easy:\n",
    "\n",
    "$$\\hat{\\mathbf{\\theta}} = (X'X)^{-1}X'\\mathbf{y}$$\n",
    "\n",
    "This *least squares* solution, however, cannot be applied to logistic regression.\n",
    "\n",
    "\n",
    "## Maximizing the Likelihood\n",
    "=========================\n",
    "\n",
    "It is often simpler to work with the likelihood function on the logarithmic scale:\n",
    "\n",
    "$$\\log L(\\theta) = \\sum_i y_i \\log p_i + (1-y_i) \\log(1-p_i)$$\n",
    "\n",
    "To maximize, we take the (partial) derivative with respect to $\\theta_j$:\n",
    "\n",
    "$$\\begin{aligned}\\frac{\\partial}{\\partial \\theta_j} \\log L(\\mathbf{\\theta}) &= \\frac{1}{n} \\sum_i (f(\\mathbf{x}_i) - y_i) \\mathbf{x}_i \\cr\n",
    "&= \\frac{1}{n} \\mathbf{x}'(\\mathbf{p} - \\mathbf{y}) = \\nabla J\n",
    "\\end{aligned}$$\n",
    "\n",
    "We could use this to search for $\\theta^*$ using gradient ascent, but we learned that this may be inefficient."
   ]
  },
  {
   "cell_type": "markdown",
   "metadata": {},
   "source": [
    "## Newton's method\n",
    "===============\n",
    "\n",
    "Now, the Hessian:\n",
    "\n",
    "$$H(\\mathbf{\\theta}) = \\frac{1}{n} \\sum_i \\left[ \\mathbf{x}_i'f(\\mathbf{x}_i)(1-f(\\mathbf{x}_i)) \\mathbf{x}_i \\right]$$\n",
    "\n",
    "Update rule:\n",
    "\n",
    "$$\\mathbf{\\theta}_{i+1} = \\mathbf{\\theta}_i - H^{-1} \\nabla J$$\n",
    "\n",
    "### Important Note\n",
    "=================\n",
    "\n",
    "For most algorithms the direction $p_k = -B^{-1}_{k}\\nabla f_k$ where $B_k$ is symmetric nonsingular matrix\n",
    "\n",
    "  steepest descent: $$B_k = I$$\n",
    "  Newton's method: $$B_k = \\nabla^2 f(x_k)$$\n",
    "  Quasi - Newton method: $$ B_k \\approx \\nabla^2 f(x_k)$$ \n",
    "  \n"
   ]
  },
  {
   "cell_type": "markdown",
   "metadata": {},
   "source": [
    "## Conjugate Gradient\n",
    "==================\n",
    "\n",
    "Conjugate Gradient Method is a first-order derivative optimization method for multidimensional nonlinear unconstrained functions. It is related to other first-order derivative optimization algorithms such as Steepest Descent.\n",
    "\n",
    "The information processing objective of the technique is to locate the extremum of a function. From a starting position, the method first computes the gradient to locate the direction of steepest descent, then performs a line search to locate the optimum step size (alpha). The method then repeats the process of computing the steepest direction, computes direction of the search, and performing a line search to locate the optimum step size. A parameter beta defines the direction update rule based on the gradient and can be computed using one of a number of methods.\n",
    "\n",
    "The difference between Conjugate Gradient and Steepest Descent is that it uses conjugate directions rather than local gradients to move downhill towards the function minimum, which can be very efficient.\n",
    "\n",
    "\\begin{definition}\n",
    "Conjugate Directions Definition. Two vectors, $d1$ and $d2$, are Q-orthogonal (or conjugate with respect to Q) if $d1^T Q d2 = 0$. \n",
    "\n",
    "\\end{definition}\n",
    "\n",
    "\n",
    "\n",
    "The example provides a code listing of the Conjugate Gradient method in R solving a two-dimensional nonlinear optimization function."
   ]
  },
  {
   "cell_type": "code",
   "execution_count": 8,
   "metadata": {},
   "outputs": [
    {
     "name": "stderr",
     "output_type": "stream",
     "text": [
      "Installing package into 'C:/Users/elias/Documents/R/win-library/3.4'\n",
      "(as 'lib' is unspecified)\n",
      "Warning message:\n",
      "\"package 'stats' is not available (for R version 3.4.3)\"Warning message:\n",
      "\"package 'stats' is a base package, and should not be updated\""
     ]
    }
   ],
   "source": [
    "install.packages(\"stats\")"
   ]
  },
  {
   "cell_type": "code",
   "execution_count": 10,
   "metadata": {},
   "outputs": [
    {
     "name": "stderr",
     "output_type": "stream",
     "text": [
      "Warning message:\n",
      "\"package 'optimx' was built under R version 3.4.4\""
     ]
    },
    {
     "name": "stdout",
     "output_type": "stream",
     "text": [
      "[1] 0.8896844 0.7918071\n",
      "[1] 0.01217674\n",
      "function gradient \n",
      "     408      101 \n"
     ]
    },
    {
     "data": {
      "image/png": "[encoded data removed]",
      "text/plain": [
       "plot without title"
      ]
     },
     "metadata": {},
     "output_type": "display_data"
    }
   ],
   "source": [
    "library(optimx)\n",
    "rosenbrock <- function(v) { \n",
    "(1 - v[1])^2 + 100 * (v[2] - v[1]*v[1])^2\n",
    "}\n",
    "\n",
    "# definition of the gradient of the 2D Rosenbrock function\n",
    "derivative <- function(v) {\n",
    "c(-400 * v[1] * (v[2] - v[1]*v[1]) - 2 * (1 - v[1]), \n",
    "200 * (v[2] - v[1]*v[1]))\n",
    "}\n",
    "\n",
    "# locate the minimum of the function using the Conjugate Gradient method\n",
    "result <- optim(\n",
    "c(runif(1,-3,3), runif(1,-3,3)), # start at a random position\n",
    "rosenbrock, # the function to minimize\n",
    "derivative, # no function gradient \n",
    "method=\"CG\", # use the Conjugate Gradient method\n",
    "control=c( # configure Conjugate Gradient\n",
    "maxit=100, # maximum iterations of 100\n",
    "reltol=1e-8, # response tolerance over-one step\n",
    "type=2)) # use the Polak-Ribiere update method\n",
    "\n",
    "# summarize results\n",
    "print(result$par) # the coordinate of the minimum\n",
    "print(result$value) # the function response of the minimum\n",
    "print(result$counts) # the number of function calls performed\n",
    "\n",
    "# display the function as a contour plot\n",
    "x <- seq(-3, 3, length.out=100)\n",
    "y <- seq(-3, 3, length.out=100)\n",
    "z <- rosenbrock(expand.grid(x, y))\n",
    "contour(x, y, matrix(log10(z), length(x)), xlab=\"x\", ylab=\"y\")\n",
    "# draw the optima as a point\n",
    "points(result$par[1], result$par[2], col=\"red\", pch=19)\n",
    "# draw a square around the optima to highlight it\n",
    "rect(result$par[1]-0.2, result$par[2]-0.2, result$par[1]+0.2, result$par[2]+0.2, lwd=2)"
   ]
  },
  {
   "cell_type": "markdown",
   "metadata": {},
   "source": [
    "## Conjugate Directions\n",
    "=====================\n",
    "\n",
    " \n",
    "Having performed a line minimization along a direction $u$ we would like to choose a new direction $v$ so that minimizing along $v$ will not `spoil' the minimization along $u$. We can determine such a direction by using the Taylor approximation at $a$\n",
    "\n",
    "\n",
    "$$f(a+x) \\approx f(a) - \\nabla f(a)x + \\frac{1}{2}x^THx$$\n",
    "\n",
    "\n",
    "The gradient of $f$ near $a$ is given by\n",
    "\n",
    "$$\\nabla f(a+x) = Hx - b$$\n",
    "If we have just minimized along a direction $u$ then the component of the gradient along $u$ must be zero, thus the gradient itself is perpendicular to $u$\n",
    "\n",
    "$$ \\nabla f \\cdot u = 0$$\n",
    "\n",
    "As we now move along some direction $v$ the gradient changes by\n",
    "\n",
    "$$ \\delta (\\nabla f) = Hv $$\n",
    "\n",
    "In order not to interfere with our $u$ minimization we require that the gradient remain perpendicular to u, ie that the change in gradient itself be perpendicular to u. This is simply\n",
    "\n",
    "$$u^THv=0$$\n",
    "\n",
    "Two vectors, $u$, $v$, having this property are said to be conjugate. A set of vectors for which this holds for all pairs is a conjugate set.\n",
    "\n",
    "If we minimize along each of a conjugate set of n directions we will get closer to the minimum efficiently. If the function has an exact quadratic form, one pass through the set will get us exactly to the minimum. Otherwise we must repeat the cycle a number of times.\n",
    "\n",
    "The problem is, how do we generate such a conjugate set? If $f$ is second-differentiable we can calculate $H$ and generate the set using algebraic techniques. However, there are much more effective methods available in such cases. If no derivatives are available a method due to Powell can be used which generates a conjugate set a sequence of line minimizations. It starts by assuming a set consisting of the unit directions, then gradually calculates new directions from the results of the search. Each n line minimizations gives an extra conjugate direction, so a full set is derived after line minimizations. "
   ]
  }
 ],
 "metadata": {
  "kernelspec": {
   "display_name": "R",
   "language": "R",
   "name": "ir"
  },
  "language_info": {
   "codemirror_mode": "r",
   "file_extension": ".r",
   "mimetype": "text/x-r-source",
   "name": "R",
   "pygments_lexer": "r",
   "version": "3.5.1"
  },
  "latex_envs": {
   "LaTeX_envs_menu_present": true,
   "autoclose": false,
   "autocomplete": true,
   "bibliofile": "biblio.bib",
   "cite_by": "apalike",
   "current_citInitial": 1,
   "eqLabelWithNumbers": true,
   "eqNumInitial": 1,
   "hotkeys": {
    "equation": "Ctrl-E",
    "itemize": "Ctrl-I"
   },
   "labels_anchors": false,
   "latex_user_defs": false,
   "report_style_numbering": false,
   "user_envs_cfg": false
  },
  "nbTranslate": {
   "displayLangs": [
    "*"
   ],
   "hotkey": "alt-t",
   "langInMainMenu": true,
   "sourceLang": "en",
   "targetLang": "fr",
   "useGoogleTranslate": true
  },
  "toc": {
   "base_numbering": 1,
   "nav_menu": {},
   "number_sections": true,
   "sideBar": true,
   "skip_h1_title": false,
   "title_cell": "Table of Contents",
   "title_sidebar": "Contents",
   "toc_cell": false,
   "toc_position": {
    "height": "calc(100% - 180px)",
    "left": "10px",
    "top": "150px",
    "width": "349.432px"
   },
   "toc_section_display": "block",
   "toc_window_display": false
  },
  "varInspector": {
   "cols": {
    "lenName": 16,
    "lenType": 16,
    "lenVar": 40
   },
   "kernels_config": {
    "python": {
     "delete_cmd_postfix": "",
     "delete_cmd_prefix": "del ",
     "library": "var_list.py",
     "varRefreshCmd": "print(var_dic_list())"
    },
    "r": {
     "delete_cmd_postfix": ") ",
     "delete_cmd_prefix": "rm(",
     "library": "var_list.r",
     "varRefreshCmd": "cat(var_dic_list()) "
    }
   },
   "types_to_exclude": [
    "module",
    "function",
    "builtin_function_or_method",
    "instance",
    "_Feature"
   ],
   "window_display": false
  }
 },
 "nbformat": 4,
 "nbformat_minor": 2
}
